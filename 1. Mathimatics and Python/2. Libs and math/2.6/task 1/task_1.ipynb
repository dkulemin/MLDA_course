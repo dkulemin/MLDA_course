{
 "cells": [
  {
   "cell_type": "code",
   "execution_count": 1,
   "metadata": {},
   "outputs": [],
   "source": [
    "sentences = []"
   ]
  },
  {
   "cell_type": "code",
   "execution_count": 2,
   "metadata": {},
   "outputs": [],
   "source": [
    "with open('sentences.txt') as file:\n",
    "    for line in file:\n",
    "        sentences.append(line.lower())"
   ]
  },
  {
   "cell_type": "code",
   "execution_count": 3,
   "metadata": {},
   "outputs": [],
   "source": [
    "words = []"
   ]
  },
  {
   "cell_type": "code",
   "execution_count": 4,
   "metadata": {},
   "outputs": [],
   "source": [
    "sent_dict = {}"
   ]
  },
  {
   "cell_type": "code",
   "execution_count": 5,
   "metadata": {},
   "outputs": [],
   "source": [
    "import re"
   ]
  },
  {
   "cell_type": "code",
   "execution_count": 6,
   "metadata": {},
   "outputs": [],
   "source": [
    "count = 0\n",
    "for sent in sentences:\n",
    "    tmp_list = []\n",
    "    for i in re.split('[^a-z]', sent):\n",
    "        if i != '':\n",
    "            tmp_list.append(i)\n",
    "            words.append(i)\n",
    "    sent_dict[count] = tmp_list\n",
    "    count += 1"
   ]
  },
  {
   "cell_type": "code",
   "execution_count": 7,
   "metadata": {},
   "outputs": [
    {
     "name": "stdout",
     "output_type": "stream",
     "text": [
      "{0: ['in', 'comparison', 'to', 'dogs', 'cats', 'have', 'not', 'undergone', 'major', 'changes', 'during', 'the', 'domestication', 'process'], 1: ['as', 'cat', 'simply', 'catenates', 'streams', 'of', 'bytes', 'it', 'can', 'be', 'also', 'used', 'to', 'concatenate', 'binary', 'files', 'where', 'it', 'will', 'just', 'concatenate', 'sequence', 'of', 'bytes'], 2: ['a', 'common', 'interactive', 'use', 'of', 'cat', 'for', 'a', 'single', 'file', 'is', 'to', 'output', 'the', 'content', 'of', 'a', 'file', 'to', 'standard', 'output'], 3: ['cats', 'can', 'hear', 'sounds', 'too', 'faint', 'or', 'too', 'high', 'in', 'frequency', 'for', 'human', 'ears', 'such', 'as', 'those', 'made', 'by', 'mice', 'and', 'other', 'small', 'animals'], 4: ['in', 'one', 'people', 'deliberately', 'tamed', 'cats', 'in', 'a', 'process', 'of', 'artificial', 'selection', 'as', 'they', 'were', 'useful', 'predators', 'of', 'vermin'], 5: ['the', 'domesticated', 'cat', 'and', 'its', 'closest', 'wild', 'ancestor', 'are', 'both', 'diploid', 'organisms', 'that', 'possess', 'chromosomes', 'and', 'roughly', 'genes'], 6: ['domestic', 'cats', 'are', 'similar', 'in', 'size', 'to', 'the', 'other', 'members', 'of', 'the', 'genus', 'felis', 'typically', 'weighing', 'between', 'and', 'kg', 'and', 'lb'], 7: ['however', 'if', 'the', 'output', 'is', 'piped', 'or', 'redirected', 'cat', 'is', 'unnecessary'], 8: ['cat', 'with', 'one', 'named', 'file', 'is', 'safer', 'where', 'human', 'error', 'is', 'a', 'concern', 'one', 'wrong', 'use', 'of', 'the', 'default', 'redirection', 'symbol', 'instead', 'of', 'often', 'adjacent', 'on', 'keyboards', 'may', 'permanently', 'delete', 'the', 'file', 'you', 'were', 'just', 'needing', 'to', 'read'], 9: ['in', 'terms', 'of', 'legibility', 'a', 'sequence', 'of', 'commands', 'starting', 'with', 'cat', 'and', 'connected', 'by', 'pipes', 'has', 'a', 'clear', 'left', 'to', 'right', 'flow', 'of', 'information'], 10: ['cat', 'command', 'is', 'one', 'of', 'the', 'basic', 'commands', 'that', 'you', 'learned', 'when', 'you', 'started', 'in', 'the', 'unix', 'linux', 'world'], 11: ['using', 'cat', 'command', 'the', 'lines', 'received', 'from', 'stdin', 'can', 'be', 'redirected', 'to', 'a', 'new', 'file', 'using', 'redirection', 'symbols'], 12: ['when', 'you', 'type', 'simply', 'cat', 'command', 'without', 'any', 'arguments', 'it', 'just', 'receives', 'the', 'stdin', 'content', 'and', 'displays', 'it', 'in', 'the', 'stdout'], 13: ['leopard', 'was', 'released', 'on', 'october', 'as', 'the', 'successor', 'of', 'tiger', 'version', 'and', 'is', 'available', 'in', 'two', 'editions'], 14: ['according', 'to', 'apple', 'leopard', 'contains', 'over', 'changes', 'and', 'enhancements', 'over', 'its', 'predecessor', 'mac', 'os', 'x', 'tiger'], 15: ['as', 'of', 'mid', 'some', 'apple', 'computers', 'have', 'firmware', 'factory', 'installed', 'which', 'will', 'no', 'longer', 'allow', 'installation', 'of', 'mac', 'os', 'x', 'leopard'], 16: ['since', 'apple', 'moved', 'to', 'using', 'intel', 'processors', 'in', 'their', 'computers', 'the', 'osx', 'community', 'has', 'developed', 'and', 'now', 'also', 'allows', 'mac', 'os', 'x', 'tiger', 'and', 'later', 'releases', 'to', 'be', 'installed', 'on', 'non', 'apple', 'x', 'based', 'computers'], 17: ['os', 'x', 'mountain', 'lion', 'was', 'released', 'on', 'july', 'for', 'purchase', 'and', 'download', 'through', 'apple', 's', 'mac', 'app', 'store', 'as', 'part', 'of', 'a', 'switch', 'to', 'releasing', 'os', 'x', 'versions', 'online', 'and', 'every', 'year'], 18: ['apple', 'has', 'released', 'a', 'small', 'patch', 'for', 'the', 'three', 'most', 'recent', 'versions', 'of', 'safari', 'running', 'on', 'os', 'x', 'yosemite', 'mavericks', 'and', 'mountain', 'lion'], 19: ['the', 'mountain', 'lion', 'release', 'marks', 'the', 'second', 'time', 'apple', 'has', 'offered', 'an', 'incremental', 'upgrade', 'rather', 'than', 'releasing', 'a', 'new', 'cat', 'entirely'], 20: ['mac', 'os', 'x', 'mountain', 'lion', 'installs', 'in', 'place', 'so', 'you', 'won', 't', 'need', 'to', 'create', 'a', 'separate', 'disk', 'or', 'run', 'the', 'installation', 'off', 'an', 'external', 'drive'], 21: ['the', 'fifth', 'major', 'update', 'to', 'mac', 'os', 'x', 'leopard', 'contains', 'such', 'a', 'mountain', 'of', 'features', 'more', 'than', 'by', 'apple', 's', 'count']}\n"
     ]
    }
   ],
   "source": [
    "print(sent_dict)"
   ]
  },
  {
   "cell_type": "code",
   "execution_count": 8,
   "metadata": {},
   "outputs": [],
   "source": [
    "word_dict = {}"
   ]
  },
  {
   "cell_type": "code",
   "execution_count": 9,
   "metadata": {},
   "outputs": [],
   "source": [
    "count = 0\n",
    "for i in set(words):\n",
    "    word_dict[count] = i\n",
    "    count +=1"
   ]
  },
  {
   "cell_type": "code",
   "execution_count": 10,
   "metadata": {},
   "outputs": [
    {
     "name": "stdout",
     "output_type": "stream",
     "text": [
      "{0: 'symbols', 1: 'enhancements', 2: 'major', 3: 'mavericks', 4: 'ancestor', 5: 'people', 6: 'tiger', 7: 'the', 8: 'osx', 9: 'july', 10: 'information', 11: 'an', 12: 'according', 13: 'online', 14: 'be', 15: 'also', 16: 'command', 17: 'fifth', 18: 'domestic', 19: 'learned', 20: 'during', 21: 'tamed', 22: 'running', 23: 'common', 24: 'was', 25: 'catenates', 26: 'create', 27: 'over', 28: 'cats', 29: 'symbol', 30: 'most', 31: 'undergone', 32: 'those', 33: 'domesticated', 34: 'genus', 35: 'store', 36: 'binary', 37: 'typically', 38: 'comparison', 39: 'process', 40: 'clear', 41: 'linux', 42: 'may', 43: 'type', 44: 'switch', 45: 'so', 46: 'closest', 47: 'too', 48: 'domestication', 49: 'needing', 50: 'just', 51: 'hear', 52: 'released', 53: 'named', 54: 'no', 55: 'that', 56: 'from', 57: 'similar', 58: 'upgrade', 59: 'won', 60: 'time', 61: 'weighing', 62: 'since', 63: 'firmware', 64: 'in', 65: 'marks', 66: 'wrong', 67: 'rather', 68: 'often', 69: 'small', 70: 'useful', 71: 'mountain', 72: 'incremental', 73: 'ears', 74: 'kg', 75: 'permanently', 76: 'faint', 77: 'displays', 78: 'size', 79: 'download', 80: 'will', 81: 'as', 82: 'members', 83: 'delete', 84: 'made', 85: 'started', 86: 'high', 87: 'stdout', 88: 'human', 89: 'part', 90: 'second', 91: 'default', 92: 'cat', 93: 'which', 94: 'bytes', 95: 'right', 96: 'when', 97: 'successor', 98: 'offered', 99: 'one', 100: 'has', 101: 'by', 102: 'now', 103: 'sequence', 104: 'longer', 105: 'such', 106: 'os', 107: 'other', 108: 'world', 109: 'are', 110: 'safer', 111: 'animals', 112: 'have', 113: 'need', 114: 'lb', 115: 'redirection', 116: 'concern', 117: 'processors', 118: 'error', 119: 'external', 120: 'redirected', 121: 'predators', 122: 'if', 123: 'artificial', 124: 'predecessor', 125: 'were', 126: 'their', 127: 'use', 128: 'developed', 129: 'safari', 130: 'concatenate', 131: 'run', 132: 'non', 133: 'place', 134: 'used', 135: 'entirely', 136: 'leopard', 137: 'felis', 138: 'connected', 139: 'selection', 140: 'available', 141: 'files', 142: 'without', 143: 'contains', 144: 'starting', 145: 'installation', 146: 'purchase', 147: 'year', 148: 'patch', 149: 'left', 150: 'features', 151: 'can', 152: 'adjacent', 153: 'recent', 154: 'disk', 155: 'mac', 156: 'lion', 157: 'read', 158: 'possess', 159: 'later', 160: 'both', 161: 'standard', 162: 'two', 163: 'with', 164: 'file', 165: 'streams', 166: 'allow', 167: 'versions', 168: 'off', 169: 'arguments', 170: 'installs', 171: 'mice', 172: 'chromosomes', 173: 'any', 174: 'more', 175: 'pipes', 176: 'frequency', 177: 'stdin', 178: 'using', 179: 'they', 180: 'commands', 181: 'it', 182: 'wild', 183: 'changes', 184: 'simply', 185: 'deliberately', 186: 'unnecessary', 187: 'legibility', 188: 'editions', 189: 'through', 190: 'app', 191: 'every', 192: 'or', 193: 'yosemite', 194: 'terms', 195: 'dogs', 196: 'interactive', 197: 'installed', 198: 'not', 199: 'community', 200: 'a', 201: 'apple', 202: 'factory', 203: 'moved', 204: 'three', 205: 'you', 206: 't', 207: 'single', 208: 'separate', 209: 'however', 210: 'between', 211: 'computers', 212: 'roughly', 213: 'to', 214: 'mid', 215: 'where', 216: 'vermin', 217: 'releasing', 218: 'of', 219: 'drive', 220: 'instead', 221: 'allows', 222: 'is', 223: 'piped', 224: 'october', 225: 's', 226: 'keyboards', 227: 'lines', 228: 'for', 229: 'receives', 230: 'based', 231: 'and', 232: 'new', 233: 'count', 234: 'organisms', 235: 'flow', 236: 'its', 237: 'intel', 238: 'output', 239: 'content', 240: 'version', 241: 'than', 242: 'release', 243: 'received', 244: 'unix', 245: 'x', 246: 'some', 247: 'sounds', 248: 'diploid', 249: 'releases', 250: 'basic', 251: 'update', 252: 'on', 253: 'genes'}\n"
     ]
    }
   ],
   "source": [
    "print(word_dict)"
   ]
  },
  {
   "cell_type": "code",
   "execution_count": 11,
   "metadata": {},
   "outputs": [],
   "source": [
    "import numpy as np"
   ]
  },
  {
   "cell_type": "code",
   "execution_count": 12,
   "metadata": {},
   "outputs": [],
   "source": [
    "a = np.zeros((len(sent_dict), len(word_dict)))"
   ]
  },
  {
   "cell_type": "code",
   "execution_count": 13,
   "metadata": {},
   "outputs": [
    {
     "data": {
      "text/plain": [
       "(22, 254)"
      ]
     },
     "execution_count": 13,
     "metadata": {},
     "output_type": "execute_result"
    }
   ],
   "source": [
    "a.shape"
   ]
  },
  {
   "cell_type": "code",
   "execution_count": 14,
   "metadata": {},
   "outputs": [
    {
     "name": "stdout",
     "output_type": "stream",
     "text": [
      "[[0. 0. 0. ... 0. 0. 0.]\n",
      " [0. 0. 0. ... 0. 0. 0.]\n",
      " [0. 0. 0. ... 0. 0. 0.]\n",
      " ...\n",
      " [0. 0. 0. ... 0. 0. 0.]\n",
      " [0. 0. 0. ... 0. 0. 0.]\n",
      " [0. 0. 0. ... 0. 0. 0.]]\n"
     ]
    }
   ],
   "source": [
    "print(a)"
   ]
  },
  {
   "cell_type": "code",
   "execution_count": 15,
   "metadata": {},
   "outputs": [],
   "source": [
    "for i in sent_dict:\n",
    "    for j in word_dict:\n",
    "        if word_dict[j] in sent_dict[i]:\n",
    "            a[i, j] += sent_dict[i].count(word_dict[j])"
   ]
  },
  {
   "cell_type": "code",
   "execution_count": 16,
   "metadata": {},
   "outputs": [
    {
     "name": "stdout",
     "output_type": "stream",
     "text": [
      "[[0. 0. 1. 0. 0. 0. 0. 1. 0. 0. 0. 0. 0. 0. 0. 0. 0. 0. 0. 0. 1. 0.]\n",
      " [0. 0. 0. 0. 0. 0. 0. 0. 0. 0. 0. 0. 0. 0. 1. 1. 0. 0. 0. 0. 0. 0.]\n",
      " [0. 0. 0. 0. 0. 0. 0. 1. 0. 0. 0. 0. 0. 0. 0. 0. 0. 0. 0. 0. 0. 0.]\n",
      " [0. 0. 0. 0. 0. 0. 0. 0. 0. 0. 0. 0. 0. 0. 0. 0. 0. 0. 0. 0. 0. 0.]\n",
      " [0. 0. 0. 0. 0. 1. 0. 0. 0. 0. 0. 0. 0. 0. 0. 0. 0. 0. 0. 0. 0. 1.]\n",
      " [0. 0. 0. 0. 1. 0. 0. 1. 0. 0. 0. 0. 0. 0. 0. 0. 0. 0. 0. 0. 0. 0.]\n",
      " [0. 0. 0. 0. 0. 0. 0. 2. 0. 0. 0. 0. 0. 0. 0. 0. 0. 0. 1. 0. 0. 0.]\n",
      " [0. 0. 0. 0. 0. 0. 0. 1. 0. 0. 0. 0. 0. 0. 0. 0. 0. 0. 0. 0. 0. 0.]\n",
      " [0. 0. 0. 0. 0. 0. 0. 2. 0. 0. 0. 0. 0. 0. 0. 0. 0. 0. 0. 0. 0. 0.]\n",
      " [0. 0. 0. 0. 0. 0. 0. 0. 0. 0. 1. 0. 0. 0. 0. 0. 0. 0. 0. 0. 0. 0.]\n",
      " [0. 0. 0. 0. 0. 0. 0. 2. 0. 0. 0. 0. 0. 0. 0. 0. 1. 0. 0. 1. 0. 0.]\n",
      " [1. 0. 0. 0. 0. 0. 0. 1. 0. 0. 0. 0. 0. 0. 1. 0. 1. 0. 0. 0. 0. 0.]\n",
      " [0. 0. 0. 0. 0. 0. 0. 2. 0. 0. 0. 0. 0. 0. 0. 0. 1. 0. 0. 0. 0. 0.]\n",
      " [0. 0. 0. 0. 0. 0. 1. 1. 0. 0. 0. 0. 0. 0. 0. 0. 0. 0. 0. 0. 0. 0.]\n",
      " [0. 1. 0. 0. 0. 0. 1. 0. 0. 0. 0. 0. 1. 0. 0. 0. 0. 0. 0. 0. 0. 0.]\n",
      " [0. 0. 0. 0. 0. 0. 0. 0. 0. 0. 0. 0. 0. 0. 0. 0. 0. 0. 0. 0. 0. 0.]\n",
      " [0. 0. 0. 0. 0. 0. 1. 1. 1. 0. 0. 0. 0. 0. 1. 1. 0. 0. 0. 0. 0. 0.]\n",
      " [0. 0. 0. 0. 0. 0. 0. 0. 0. 1. 0. 0. 0. 1. 0. 0. 0. 0. 0. 0. 0. 0.]\n",
      " [0. 0. 0. 1. 0. 0. 0. 1. 0. 0. 0. 0. 0. 0. 0. 0. 0. 0. 0. 0. 0. 0.]\n",
      " [0. 0. 0. 0. 0. 0. 0. 2. 0. 0. 0. 1. 0. 0. 0. 0. 0. 0. 0. 0. 0. 0.]\n",
      " [0. 0. 0. 0. 0. 0. 0. 1. 0. 0. 0. 1. 0. 0. 0. 0. 0. 0. 0. 0. 0. 0.]\n",
      " [0. 0. 1. 0. 0. 0. 0. 1. 0. 0. 0. 0. 0. 0. 0. 0. 0. 1. 0. 0. 0. 0.]]\n"
     ]
    }
   ],
   "source": [
    "print(a[:, :22])"
   ]
  },
  {
   "cell_type": "code",
   "execution_count": 17,
   "metadata": {},
   "outputs": [],
   "source": [
    "from scipy.spatial.distance import cosine"
   ]
  },
  {
   "cell_type": "code",
   "execution_count": 18,
   "metadata": {},
   "outputs": [
    {
     "name": "stdout",
     "output_type": "stream",
     "text": [
      "Help on function cosine in module scipy.spatial.distance:\n",
      "\n",
      "cosine(u, v, w=None)\n",
      "    Compute the Cosine distance between 1-D arrays.\n",
      "    \n",
      "    The Cosine distance between `u` and `v`, is defined as\n",
      "    \n",
      "    .. math::\n",
      "    \n",
      "        1 - \\frac{u \\cdot v}\n",
      "                  {||u||_2 ||v||_2}.\n",
      "    \n",
      "    where :math:`u \\cdot v` is the dot product of :math:`u` and\n",
      "    :math:`v`.\n",
      "    \n",
      "    Parameters\n",
      "    ----------\n",
      "    u : (N,) array_like\n",
      "        Input array.\n",
      "    v : (N,) array_like\n",
      "        Input array.\n",
      "    w : (N,) array_like, optional\n",
      "        The weights for each value in `u` and `v`. Default is None,\n",
      "        which gives each value a weight of 1.0\n",
      "    \n",
      "    Returns\n",
      "    -------\n",
      "    cosine : double\n",
      "        The Cosine distance between vectors `u` and `v`.\n",
      "    \n",
      "    Examples\n",
      "    --------\n",
      "    >>> from scipy.spatial import distance\n",
      "    >>> distance.cosine([1, 0, 0], [0, 1, 0])\n",
      "    1.0\n",
      "    >>> distance.cosine([100, 0, 0], [0, 1, 0])\n",
      "    1.0\n",
      "    >>> distance.cosine([1, 1, 0], [0, 1, 0])\n",
      "    0.29289321881345254\n",
      "\n"
     ]
    }
   ],
   "source": [
    "help(cosine)"
   ]
  },
  {
   "cell_type": "code",
   "execution_count": 19,
   "metadata": {},
   "outputs": [],
   "source": [
    "cos_dists = {}"
   ]
  },
  {
   "cell_type": "code",
   "execution_count": 20,
   "metadata": {},
   "outputs": [],
   "source": [
    "for i in range(1, a.shape[0]):\n",
    "    # cos_dists[i] = (cosine(a[0, :], a[i, :]))\n",
    "    cos_dists[cosine(a[0, :], a[i, :])] = i"
   ]
  },
  {
   "cell_type": "code",
   "execution_count": 21,
   "metadata": {},
   "outputs": [
    {
     "name": "stdout",
     "output_type": "stream",
     "text": [
      "{0.9527544408738466: 1, 0.8644738145642124: 2, 0.8951715163278082: 3, 0.7770887149698589: 4, 0.9402385695332803: 5, 0.7327387580875756: 6, 0.9258750683338899: 7, 0.8842724875284311: 8, 0.9055088817476932: 9, 0.8328165362273942: 10, 0.8804771390665607: 11, 0.8396432548525454: 12, 0.8703592552895671: 13, 0.8740118423302576: 14, 0.9442721787424647: 18, 0.8406361854220809: 16, 0.956644501523794: 17, 0.8885443574849294: 19, 0.8427572744917122: 20, 0.8250364469440588: 21}\n"
     ]
    }
   ],
   "source": [
    "print(cos_dists)"
   ]
  },
  {
   "cell_type": "code",
   "execution_count": 22,
   "metadata": {},
   "outputs": [
    {
     "name": "stdout",
     "output_type": "stream",
     "text": [
      "4 6\n"
     ]
    }
   ],
   "source": [
    "print(cos_dists[sorted(cos_dists)[1]], cos_dists[sorted(cos_dists)[0]])"
   ]
  },
  {
   "cell_type": "code",
   "execution_count": null,
   "metadata": {},
   "outputs": [],
   "source": []
  }
 ],
 "metadata": {
  "kernelspec": {
   "display_name": "Python 3",
   "language": "python",
   "name": "python3"
  },
  "language_info": {
   "codemirror_mode": {
    "name": "ipython",
    "version": 3
   },
   "file_extension": ".py",
   "mimetype": "text/x-python",
   "name": "python",
   "nbconvert_exporter": "python",
   "pygments_lexer": "ipython3",
   "version": "3.7.0"
  }
 },
 "nbformat": 4,
 "nbformat_minor": 2
}
