{
 "cells": [
  {
   "cell_type": "markdown",
   "metadata": {},
   "source": [
    "# Пример использования библиотеки gensim для тематического моделирования"
   ]
  },
  {
   "cell_type": "markdown",
   "metadata": {},
   "source": [
    "Такая полезная теорема Байеса! :)\n",
    "\n",
    "![comic1](http://imgs.xkcd.com/comics/seashell.png)"
   ]
  },
  {
   "cell_type": "code",
   "execution_count": 1,
   "metadata": {},
   "outputs": [],
   "source": [
    "from gensim import corpora, models"
   ]
  },
  {
   "cell_type": "code",
   "execution_count": 2,
   "metadata": {},
   "outputs": [],
   "source": [
    "# Импортируем данные в формте UCI Bag of Words\n",
    "data = corpora.UciCorpus(\"docword.xkcd.txt\", \"vocab.xkcd.txt\")\n",
    "dictionary = data.create_dictionary()"
   ]
  },
  {
   "cell_type": "code",
   "execution_count": 3,
   "metadata": {},
   "outputs": [
    {
     "name": "stdout",
     "output_type": "stream",
     "text": [
      "Wall time: 31 s\n"
     ]
    }
   ],
   "source": [
    "# обучение модель\n",
    "%time ldamodel = models.ldamodel.LdaModel(data, id2word=dictionary, num_topics=5, passes=20, alpha=1.25, eta=1.25)"
   ]
  },
  {
   "cell_type": "code",
   "execution_count": 4,
   "metadata": {},
   "outputs": [],
   "source": [
    "# Сохранение модели\n",
    "ldamodel.save(\"ldamodel_xkcd\")"
   ]
  },
  {
   "cell_type": "code",
   "execution_count": 5,
   "metadata": {},
   "outputs": [],
   "source": [
    "# Загрузка модели\n",
    "ldamodel = models.ldamodel.LdaModel.load(\"ldamodel_xkcd\")"
   ]
  },
  {
   "cell_type": "code",
   "execution_count": 7,
   "metadata": {},
   "outputs": [
    {
     "name": "stdout",
     "output_type": "stream",
     "text": [
      "Topic 0 : 0.002*\"b'island'\" + 0.002*\"b'goggles'\" + 0.001*\"b'found'\" + 0.001*\"b'jelly'\" + 0.001*\"b'bean'\" + 0.001*\"b'link'\" + 0.001*\"b'acne'\" + 0.001*\"b'005'\" + 0.001*\"b'map'\" + 0.001*\"b'blogs'\"\n",
      "Topic 1 : 0.011*\"b'guy'\" + 0.004*\"b'boy'\" + 0.002*\"b'wait'\" + 0.002*\"b'hat'\" + 0.002*\"b'paul'\" + 0.001*\"b'girl'\" + 0.001*\"b'peter'\" + 0.001*\"b'sagal'\" + 0.001*\"b'dont'\" + 0.001*\"b'ron'\"\n",
      "Topic 2 : 0.001*\"b'base'\" + 0.001*\"b'nathan'\" + 0.001*\"b'bag'\" + 0.001*\"b'cop'\" + 0.001*\"b'turtle'\" + 0.001*\"b'hatboy'\" + 0.001*\"b'curie'\" + 0.001*\"b'marie'\" + 0.001*\"b'astley'\" + 0.001*\"b'rick'\"\n",
      "Topic 3 : 0.023*\"b'man'\" + 0.012*\"b'text'\" + 0.012*\"b'person'\" + 0.010*\"b'title'\" + 0.009*\"b'woman'\" + 0.007*\"b'one'\" + 0.005*\"b'girl'\" + 0.005*\"b'just'\" + 0.005*\"b'guy'\" + 0.005*\"b'two'\"\n",
      "Topic 4 : 0.003*\"b'figure'\" + 0.003*\"b'stick'\" + 0.002*\"b'exhibit'\" + 0.001*\"b'text'\" + 0.001*\"b'title'\" + 0.001*\"b'center'\" + 0.001*\"b'degree'\" + 0.001*\"b'mark'\" + 0.001*\"b'day'\" + 0.001*\"b'map'\"\n"
     ]
    }
   ],
   "source": [
    "# выводим топы слов\n",
    "for t, top_words in ldamodel.print_topics(num_topics=10, num_words=10):\n",
    "    print( \"Topic\", t, \":\", top_words)"
   ]
  },
  {
   "cell_type": "code",
   "execution_count": 18,
   "metadata": {},
   "outputs": [
    {
     "data": {
      "text/plain": [
       "[(0,\n",
       "  '0.002*\"b\\'island\\'\" + 0.002*\"b\\'goggles\\'\" + 0.001*\"b\\'found\\'\" + 0.001*\"b\\'jelly\\'\" + 0.001*\"b\\'bean\\'\" + 0.001*\"b\\'link\\'\" + 0.001*\"b\\'acne\\'\" + 0.001*\"b\\'005\\'\" + 0.001*\"b\\'map\\'\" + 0.001*\"b\\'blogs\\'\"'),\n",
       " (1,\n",
       "  '0.011*\"b\\'guy\\'\" + 0.004*\"b\\'boy\\'\" + 0.002*\"b\\'wait\\'\" + 0.002*\"b\\'hat\\'\" + 0.002*\"b\\'paul\\'\" + 0.001*\"b\\'girl\\'\" + 0.001*\"b\\'peter\\'\" + 0.001*\"b\\'sagal\\'\" + 0.001*\"b\\'dont\\'\" + 0.001*\"b\\'ron\\'\"'),\n",
       " (2,\n",
       "  '0.001*\"b\\'base\\'\" + 0.001*\"b\\'nathan\\'\" + 0.001*\"b\\'bag\\'\" + 0.001*\"b\\'cop\\'\" + 0.001*\"b\\'turtle\\'\" + 0.001*\"b\\'hatboy\\'\" + 0.001*\"b\\'curie\\'\" + 0.001*\"b\\'marie\\'\" + 0.001*\"b\\'astley\\'\" + 0.001*\"b\\'rick\\'\"'),\n",
       " (3,\n",
       "  '0.023*\"b\\'man\\'\" + 0.012*\"b\\'text\\'\" + 0.012*\"b\\'person\\'\" + 0.010*\"b\\'title\\'\" + 0.009*\"b\\'woman\\'\" + 0.007*\"b\\'one\\'\" + 0.005*\"b\\'girl\\'\" + 0.005*\"b\\'just\\'\" + 0.005*\"b\\'guy\\'\" + 0.005*\"b\\'two\\'\"'),\n",
       " (4,\n",
       "  '0.003*\"b\\'figure\\'\" + 0.003*\"b\\'stick\\'\" + 0.002*\"b\\'exhibit\\'\" + 0.001*\"b\\'text\\'\" + 0.001*\"b\\'title\\'\" + 0.001*\"b\\'center\\'\" + 0.001*\"b\\'degree\\'\" + 0.001*\"b\\'mark\\'\" + 0.001*\"b\\'day\\'\" + 0.001*\"b\\'map\\'\"')]"
      ]
     },
     "execution_count": 18,
     "metadata": {},
     "output_type": "execute_result"
    }
   ],
   "source": [
    "ldamodel.print_topics(num_topics=10, num_words=10)"
   ]
  },
  {
   "cell_type": "code",
   "execution_count": 9,
   "metadata": {},
   "outputs": [
    {
     "name": "stdout",
     "output_type": "stream",
     "text": [
      "351.87577329987687\n"
     ]
    }
   ],
   "source": [
    "# Вычисляем логарифм перплексии и немного преобразуем, чтобы привести к общепринятому виду\n",
    "perplexity = ldamodel.log_perplexity(list(data))\n",
    "print( 2**(-perplexity))"
   ]
  },
  {
   "cell_type": "code",
   "execution_count": 19,
   "metadata": {},
   "outputs": [
    {
     "name": "stderr",
     "output_type": "stream",
     "text": [
      "C:\\Users\\d.v.kulemin.UTMN\\AppData\\Local\\Programs\\Python\\Python37-32\\lib\\site-packages\\ipykernel_launcher.py:3: RuntimeWarning: overflow encountered in double_scalars\n",
      "  This is separate from the ipykernel package so we can avoid doing imports until\n"
     ]
    },
    {
     "data": {
      "text/plain": [
       "inf"
      ]
     },
     "execution_count": 19,
     "metadata": {},
     "output_type": "execute_result"
    }
   ],
   "source": [
    "perp = ldamodel.bound(data)\n",
    "2**(-perp/float(87409))"
   ]
  },
  {
   "cell_type": "code",
   "execution_count": 11,
   "metadata": {},
   "outputs": [
    {
     "ename": "NameError",
     "evalue": "name 'data2' is not defined",
     "output_type": "error",
     "traceback": [
      "\u001b[1;31m---------------------------------------------------------------------------\u001b[0m",
      "\u001b[1;31mNameError\u001b[0m                                 Traceback (most recent call last)",
      "\u001b[1;32m<ipython-input-11-a67d52d954fd>\u001b[0m in \u001b[0;36m<module>\u001b[1;34m()\u001b[0m\n\u001b[0;32m      1\u001b[0m \u001b[1;31m# Добавление в модель новых документов, содержащихся в новом корупсе data2\u001b[0m\u001b[1;33m\u001b[0m\u001b[1;33m\u001b[0m\u001b[0m\n\u001b[1;32m----> 2\u001b[1;33m \u001b[0mldamodel\u001b[0m\u001b[1;33m.\u001b[0m\u001b[0mupdate\u001b[0m\u001b[1;33m(\u001b[0m\u001b[0mdata2\u001b[0m\u001b[1;33m,\u001b[0m \u001b[0mpasses\u001b[0m\u001b[1;33m=\u001b[0m\u001b[1;36m10\u001b[0m\u001b[1;33m)\u001b[0m\u001b[1;33m\u001b[0m\u001b[0m\n\u001b[0m",
      "\u001b[1;31mNameError\u001b[0m: name 'data2' is not defined"
     ]
    }
   ],
   "source": [
    "# Добавление в модель новых документов, содержащихся в новом корупсе data2\n",
    "ldamodel.update(data2, passes=10)"
   ]
  },
  {
   "cell_type": "code",
   "execution_count": 17,
   "metadata": {},
   "outputs": [
    {
     "data": {
      "text/plain": [
       "0.9999999441206455"
      ]
     },
     "execution_count": 17,
     "metadata": {},
     "output_type": "execute_result"
    }
   ],
   "source": [
    "# Получение распределения тем для конкретного документа\n",
    "doc = list(data)[0]\n",
    "summ = 0\n",
    "for i in ldamodel.get_document_topics(doc):\n",
    "    summ += i[1]\n",
    "summ"
   ]
  },
  {
   "cell_type": "code",
   "execution_count": 20,
   "metadata": {},
   "outputs": [
    {
     "data": {
      "text/plain": [
       "[(0, 0.056059226),\n",
       " (1, 0.15659672),\n",
       " (2, 0.056978),\n",
       " (3, 0.6590242),\n",
       " (4, 0.07134193)]"
      ]
     },
     "execution_count": 20,
     "metadata": {},
     "output_type": "execute_result"
    }
   ],
   "source": [
    "ldamodel.get_document_topics(doc)"
   ]
  },
  {
   "cell_type": "markdown",
   "metadata": {},
   "source": [
    "Эти люди не знают про тематические модели:\n",
    "\n",
    "![comic2](http://imgs.xkcd.com/comics/the_problem_with_wikipedia.png) | ![comic3](http://imgs.xkcd.com/comics/mystery_news.png)"
   ]
  }
 ],
 "metadata": {
  "kernelspec": {
   "display_name": "Python 3",
   "language": "python",
   "name": "python3"
  },
  "language_info": {
   "codemirror_mode": {
    "name": "ipython",
    "version": 3
   },
   "file_extension": ".py",
   "mimetype": "text/x-python",
   "name": "python",
   "nbconvert_exporter": "python",
   "pygments_lexer": "ipython3",
   "version": "3.7.0"
  }
 },
 "nbformat": 4,
 "nbformat_minor": 1
}
