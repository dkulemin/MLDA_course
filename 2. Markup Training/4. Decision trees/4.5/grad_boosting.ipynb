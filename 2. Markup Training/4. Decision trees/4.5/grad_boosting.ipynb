{
 "cells": [
  {
   "cell_type": "markdown",
   "metadata": {},
   "source": [
    "# Градиентный бустинг своими руками\n",
    "\n",
    "**Внимание:** в тексте задания произошли изменения - поменялось число деревьев (теперь 50), правило изменения величины шага в задании 3 и добавился параметр `random_state` у решающего дерева. Правильные ответы не поменялись, но теперь их проще получить. Также исправлена опечатка в функции `gbm_predict`.\n",
    "\n",
    "В этом задании будет использоваться датасет `boston` из `sklearn.datasets`. Оставьте последние 25% объектов для контроля качества, разделив `X` и `y` на `X_train`, `y_train` и `X_test`, `y_test`.\n",
    "\n",
    "Целью задания будет реализовать простой вариант градиентного бустинга над регрессионными деревьями для случая квадратичной функции потерь."
   ]
  },
  {
   "cell_type": "code",
   "execution_count": 4,
   "metadata": {},
   "outputs": [],
   "source": [
    "from sklearn import tree, ensemble, datasets, metrics, model_selection\n",
    "import numpy as np\n",
    "from matplotlib import pylab as plt"
   ]
  },
  {
   "cell_type": "code",
   "execution_count": 2,
   "metadata": {},
   "outputs": [],
   "source": [
    "%matplotlib inline"
   ]
  },
  {
   "cell_type": "code",
   "execution_count": 5,
   "metadata": {},
   "outputs": [],
   "source": [
    "boston = datasets.load_boston()"
   ]
  },
  {
   "cell_type": "code",
   "execution_count": 6,
   "metadata": {},
   "outputs": [],
   "source": [
    "X = boston.data\n",
    "y = boston.target"
   ]
  },
  {
   "cell_type": "code",
   "execution_count": 82,
   "metadata": {},
   "outputs": [],
   "source": [
    "X_train, X_test, y_train, y_test = model_selection.train_test_split(X, y, test_size=0.25)"
   ]
  },
  {
   "cell_type": "markdown",
   "metadata": {},
   "source": [
    "## Задание 1\n",
    "\n",
    "Как вы уже знаете из лекций, **бустинг** - это метод построения композиций базовых алгоритмов с помощью последовательного добавления к текущей композиции нового алгоритма с некоторым коэффициентом. \n",
    "\n",
    "Градиентный бустинг обучает каждый новый алгоритм так, чтобы он приближал антиградиент ошибки по ответам композиции на обучающей выборке. Аналогично минимизации функций методом градиентного спуска, в градиентном бустинге мы подправляем композицию, изменяя алгоритм в направлении антиградиента ошибки.\n",
    "\n",
    "Воспользуйтесь формулой из лекций, задающей ответы на обучающей выборке, на которые нужно обучать новый алгоритм (фактически это лишь чуть более подробно расписанный градиент от ошибки), и получите частный ее случай, если функция потерь `L` - квадрат отклонения ответа композиции `a(x)` от правильного ответа `y` на данном `x`.\n",
    "\n",
    "Если вы давно не считали производную самостоятельно, вам поможет таблица производных элементарных функций (которую несложно найти в интернете) и правило дифференцирования сложной функции. После дифференцирования квадрата у вас возникнет множитель 2 — т.к. нам все равно предстоит выбирать коэффициент, с которым будет добавлен новый базовый алгоритм, проигноируйте этот множитель при дальнейшем построении алгоритма."
   ]
  },
  {
   "cell_type": "code",
   "execution_count": null,
   "metadata": {
    "collapsed": true
   },
   "outputs": [],
   "source": []
  },
  {
   "cell_type": "markdown",
   "metadata": {},
   "source": [
    "## Задание 2\n",
    "\n",
    "Заведите массив для объектов `DecisionTreeRegressor` (будем их использовать в качестве базовых алгоритмов) и для вещественных чисел (это будут коэффициенты перед базовыми алгоритмами). \n",
    "\n",
    "В цикле от обучите последовательно 50 решающих деревьев с параметрами `max_depth=5` и `random_state=42` (остальные параметры - по умолчанию). В бустинге зачастую используются сотни и тысячи деревьев, но мы ограничимся 50, чтобы алгоритм работал быстрее, и его было проще отлаживать (т.к. цель задания разобраться, как работает метод). Каждое дерево должно обучаться на одном и том же множестве объектов, но ответы, которые учится прогнозировать дерево, будут меняться в соответствие с полученным в задании 1 правилом. \n",
    "\n",
    "Попробуйте для начала всегда брать коэффициент равным 0.9. Обычно оправдано выбирать коэффициент значительно меньшим - порядка 0.05 или 0.1, но т.к. в нашем учебном примере на стандартном датасете будет всего 50 деревьев, возьмем для начала шаг побольше.\n",
    "\n",
    "В процессе реализации обучения вам потребуется функция, которая будет вычислять прогноз построенной на данный момент композиции деревьев на выборке `X`:\n",
    "\n",
    "```\n",
    "def gbm_predict(X):\n",
    "    return [sum([coeff * algo.predict([x])[0] for algo, coeff in zip(base_algorithms_list, coefficients_list)]) for x in X]\n",
    "(считаем, что base_algorithms_list - список с базовыми алгоритмами, coefficients_list - список с коэффициентами перед алгоритмами)\n",
    "```\n",
    "\n",
    "Эта же функция поможет вам получить прогноз на контрольной выборке и оценить качество работы вашего алгоритма с помощью `mean_squared_error` в `sklearn.metrics`. \n",
    "\n",
    "Возведите результат в степень 0.5, чтобы получить `RMSE`. Полученное значение `RMSE` — **ответ в пункте 2**."
   ]
  },
  {
   "cell_type": "code",
   "execution_count": 8,
   "metadata": {},
   "outputs": [],
   "source": [
    "def gbm_predict(X):\n",
    "    return [sum([coeff * algo.predict([x])[0] for algo, coeff in zip(base_algorithms_list, coefficients_list)]) for x in X]"
   ]
  },
  {
   "cell_type": "code",
   "execution_count": 3,
   "metadata": {},
   "outputs": [],
   "source": [
    "base_algorithms_list = []\n",
    "coefficients_list = [1] + [0.9] * 49"
   ]
  },
  {
   "cell_type": "code",
   "execution_count": 17,
   "metadata": {},
   "outputs": [],
   "source": [
    "for i in range(0, 50):\n",
    "    if len(base_algorithms_list) > 0:\n",
    "        regressor = tree.DecisionTreeRegressor(max_depth=5, random_state=42)\n",
    "        result = gbm_predict(X_train)\n",
    "        sdvig = -2 * (result - y_train)\n",
    "        regressor.fit(X_train, sdvig)\n",
    "        base_algorithms_list.append(regressor)\n",
    "    else:\n",
    "        regressor = tree.DecisionTreeRegressor(max_depth=5, random_state=42)\n",
    "        regressor.fit(X_train, y_train)\n",
    "        base_algorithms_list.append(regressor)"
   ]
  },
  {
   "cell_type": "code",
   "execution_count": 18,
   "metadata": {},
   "outputs": [],
   "source": [
    "score = metrics.mean_squared_error(y_test, gbm_predict(X_test))"
   ]
  },
  {
   "cell_type": "code",
   "execution_count": 19,
   "metadata": {},
   "outputs": [
    {
     "data": {
      "text/plain": [
       "5.119385433621775"
      ]
     },
     "execution_count": 19,
     "metadata": {},
     "output_type": "execute_result"
    }
   ],
   "source": [
    "score**0.5"
   ]
  },
  {
   "cell_type": "markdown",
   "metadata": {},
   "source": [
    "## Задание 3\n",
    "\n",
    "Вас может также беспокоить, что двигаясь с постоянным шагом, вблизи минимума ошибки ответы на обучающей выборке меняются слишком резко, перескакивая через минимум. \n",
    "\n",
    "Попробуйте уменьшать вес перед каждым алгоритмом с каждой следующей итерацией по формуле `0.9 / (1.0 + i)`, где `i` - номер итерации (от 0 до 49). Используйте качество работы алгоритма как **ответ в пункте 3**. \n",
    "\n",
    "В реальности часто применяется следующая стратегия выбора шага: как только выбран алгоритм, подберем коэффициент перед ним численным методом оптимизации таким образом, чтобы отклонение от правильных ответов было минимальным. Мы не будем предлагать вам реализовать это для выполнения задания, но рекомендуем попробовать разобраться с такой стратегией и реализовать ее при случае для себя."
   ]
  },
  {
   "cell_type": "code",
   "execution_count": 14,
   "metadata": {},
   "outputs": [],
   "source": [
    "coefficients_list = [1] + [0.9/(1.0 + i) for i in range(0,49)]"
   ]
  },
  {
   "cell_type": "code",
   "execution_count": 16,
   "metadata": {},
   "outputs": [
    {
     "data": {
      "text/plain": [
       "[1,\n",
       " 0.9,\n",
       " 0.45,\n",
       " 0.3,\n",
       " 0.225,\n",
       " 0.18,\n",
       " 0.15,\n",
       " 0.1285714285714286,\n",
       " 0.1125,\n",
       " 0.1,\n",
       " 0.09,\n",
       " 0.08181818181818182,\n",
       " 0.075,\n",
       " 0.06923076923076923,\n",
       " 0.0642857142857143,\n",
       " 0.060000000000000005,\n",
       " 0.05625,\n",
       " 0.052941176470588235,\n",
       " 0.05,\n",
       " 0.04736842105263158,\n",
       " 0.045,\n",
       " 0.04285714285714286,\n",
       " 0.04090909090909091,\n",
       " 0.0391304347826087,\n",
       " 0.0375,\n",
       " 0.036000000000000004,\n",
       " 0.03461538461538462,\n",
       " 0.03333333333333333,\n",
       " 0.03214285714285715,\n",
       " 0.03103448275862069,\n",
       " 0.030000000000000002,\n",
       " 0.02903225806451613,\n",
       " 0.028125,\n",
       " 0.027272727272727275,\n",
       " 0.026470588235294117,\n",
       " 0.025714285714285714,\n",
       " 0.025,\n",
       " 0.024324324324324326,\n",
       " 0.02368421052631579,\n",
       " 0.023076923076923078,\n",
       " 0.0225,\n",
       " 0.021951219512195124,\n",
       " 0.02142857142857143,\n",
       " 0.020930232558139535,\n",
       " 0.020454545454545454,\n",
       " 0.02,\n",
       " 0.01956521739130435,\n",
       " 0.019148936170212766,\n",
       " 0.01875,\n",
       " 0.018367346938775512]"
      ]
     },
     "execution_count": 16,
     "metadata": {},
     "output_type": "execute_result"
    }
   ],
   "source": [
    "coefficients_list"
   ]
  },
  {
   "cell_type": "markdown",
   "metadata": {},
   "source": [
    "## Задание 4\n",
    "\n",
    "Реализованный вами метод - градиентный бустинг над деревьями - очень популярен в машинном обучении. Он представлен как в самой библиотеке `sklearn`, так и в сторонней библиотеке `XGBoost`, которая имеет свой питоновский интерфейс. На практике `XGBoost` работает заметно лучше `GradientBoostingRegressor` из `sklearn`, но для этого задания вы можете использовать любую реализацию. \n",
    "\n",
    "Исследуйте, переобучается ли градиентный бустинг с ростом числа итераций (и подумайте, почему), а также с ростом глубины деревьев. На основе наблюдений выпишите через пробел номера правильных из приведенных ниже утверждений в порядке возрастания номера (это будет **ответ в п.4**):\n",
    "\n",
    "    1. С увеличением числа деревьев, начиная с некоторого момента, качество работы градиентного бустинга не меняется существенно.\n",
    "\n",
    "    2. С увеличением числа деревьев, начиная с некоторого момента, градиентный бустинг начинает переобучаться.\n",
    "\n",
    "    3. С ростом глубины деревьев, начиная с некоторого момента, качество работы градиентного бустинга на тестовой выборке начинает ухудшаться.\n",
    "\n",
    "    4. С ростом глубины деревьев, начиная с некоторого момента, качество работы градиентного бустинга перестает существенно изменяться"
   ]
  },
  {
   "cell_type": "code",
   "execution_count": 20,
   "metadata": {},
   "outputs": [],
   "source": [
    "import xgboost as xgb"
   ]
  },
  {
   "cell_type": "code",
   "execution_count": 146,
   "metadata": {},
   "outputs": [],
   "source": [
    "trees = np.array([1, 10, 50, 100, 500])\n",
    "depths = np.array([1, 3, 5, 10])"
   ]
  },
  {
   "cell_type": "code",
   "execution_count": 147,
   "metadata": {},
   "outputs": [],
   "source": [
    "grid = np.transpose([np.tile(trees, len(depths)), np.repeat(depths, len(trees))])"
   ]
  },
  {
   "cell_type": "code",
   "execution_count": 148,
   "metadata": {},
   "outputs": [
    {
     "data": {
      "text/plain": [
       "array([[  1,   1],\n",
       "       [ 10,   1],\n",
       "       [ 50,   1],\n",
       "       [100,   1],\n",
       "       [500,   1],\n",
       "       [  1,   3],\n",
       "       [ 10,   3],\n",
       "       [ 50,   3],\n",
       "       [100,   3],\n",
       "       [500,   3],\n",
       "       [  1,   5],\n",
       "       [ 10,   5],\n",
       "       [ 50,   5],\n",
       "       [100,   5],\n",
       "       [500,   5],\n",
       "       [  1,  10],\n",
       "       [ 10,  10],\n",
       "       [ 50,  10],\n",
       "       [100,  10],\n",
       "       [500,  10]])"
      ]
     },
     "execution_count": 148,
     "metadata": {},
     "output_type": "execute_result"
    }
   ],
   "source": [
    "grid"
   ]
  },
  {
   "cell_type": "code",
   "execution_count": 149,
   "metadata": {},
   "outputs": [],
   "source": [
    "scores = []"
   ]
  },
  {
   "cell_type": "code",
   "execution_count": 150,
   "metadata": {},
   "outputs": [
    {
     "name": "stdout",
     "output_type": "stream",
     "text": [
      "Деревьев: 1, глубина: 1, оценка: 4.524742918892617\n",
      "Деревьев: 10, глубина: 1, оценка: 2.9440371103547456\n",
      "Деревьев: 50, глубина: 1, оценка: 1.650871287836349\n",
      "Деревьев: 100, глубина: 1, оценка: 1.5582682255256677\n",
      "Деревьев: 500, глубина: 1, оценка: 1.5453225148393999\n",
      "Деревьев: 1, глубина: 3, оценка: 4.523357045398161\n",
      "Деревьев: 10, глубина: 3, оценка: 2.90739811627386\n",
      "Деревьев: 50, глубина: 3, оценка: 1.4552316982888873\n",
      "Деревьев: 100, глубина: 3, оценка: 1.4054753407438352\n",
      "Деревьев: 500, глубина: 3, оценка: 1.3800692507415206\n",
      "Деревьев: 1, глубина: 5, оценка: 4.521917995804809\n",
      "Деревьев: 10, глубина: 5, оценка: 2.8972027683560007\n",
      "Деревьев: 50, глубина: 5, оценка: 1.4268733316929654\n",
      "Деревьев: 100, глубина: 5, оценка: 1.4218461127076916\n",
      "Деревьев: 500, глубина: 5, оценка: 1.4185923153721969\n",
      "Деревьев: 1, глубина: 10, оценка: 4.522190112030357\n",
      "Деревьев: 10, глубина: 10, оценка: 2.904077173222818\n",
      "Деревьев: 50, глубина: 10, оценка: 1.4493968466300227\n",
      "Деревьев: 100, глубина: 10, оценка: 1.4318996592876096\n",
      "Деревьев: 500, глубина: 10, оценка: 1.431697239034894\n"
     ]
    }
   ],
   "source": [
    "for n_tree, depth in grid:\n",
    "    gb_regressor = xgb.XGBRegressor(max_depth=depth, n_estimators=n_tree)\n",
    "    gb_regressor.fit(X_train, y_train)\n",
    "    score = metrics.mean_absolute_error(y_test, gb_regressor.predict(X_test))\n",
    "    scores.append(score**0.5)\n",
    "    print(f'Деревьев: {n_tree}, глубина: {depth}, оценка: {score**0.5}')"
   ]
  },
  {
   "cell_type": "code",
   "execution_count": 151,
   "metadata": {},
   "outputs": [
    {
     "data": {
      "text/plain": [
       "[4.524742918892617,\n",
       " 2.9440371103547456,\n",
       " 1.650871287836349,\n",
       " 1.5582682255256677,\n",
       " 1.5453225148393999,\n",
       " 4.523357045398161,\n",
       " 2.90739811627386,\n",
       " 1.4552316982888873,\n",
       " 1.4054753407438352,\n",
       " 1.3800692507415206,\n",
       " 4.521917995804809,\n",
       " 2.8972027683560007,\n",
       " 1.4268733316929654,\n",
       " 1.4218461127076916,\n",
       " 1.4185923153721969,\n",
       " 4.522190112030357,\n",
       " 2.904077173222818,\n",
       " 1.4493968466300227,\n",
       " 1.4318996592876096,\n",
       " 1.431697239034894]"
      ]
     },
     "execution_count": 151,
     "metadata": {},
     "output_type": "execute_result"
    }
   ],
   "source": [
    "scores"
   ]
  },
  {
   "cell_type": "code",
   "execution_count": 152,
   "metadata": {},
   "outputs": [
    {
     "name": "stderr",
     "output_type": "stream",
     "text": [
      "C:\\Users\\d.v.kulemin.UTMN\\AppData\\Local\\Programs\\Python\\Python37-32\\lib\\site-packages\\matplotlib\\legend.py:493: UserWarning: Unrecognized location \"higher right\". Falling back on \"best\"; valid locations are\n",
      "\tbest\n",
      "\tupper right\n",
      "\tupper left\n",
      "\tlower left\n",
      "\tlower right\n",
      "\tright\n",
      "\tcenter left\n",
      "\tcenter right\n",
      "\tlower center\n",
      "\tupper center\n",
      "\tcenter\n",
      "\n",
      "  % (loc, '\\n\\t'.join(self.codes)))\n"
     ]
    },
    {
     "data": {
      "text/plain": [
       "<matplotlib.legend.Legend at 0x965bd30>"
      ]
     },
     "execution_count": 152,
     "metadata": {},
     "output_type": "execute_result"
    },
    {
     "data": {
      "image/png": "[encoded data removed]",
      "text/plain": [
       "<Figure size 1080x720 with 1 Axes>"
      ]
     },
     "metadata": {},
     "output_type": "display_data"
    }
   ],
   "source": [
    "plt.figure(figsize=(15,10))\n",
    "plt.grid(True)\n",
    "plt.plot(grid[:5, 0], scores[:5], marker='.', label=f'Глубина = {depths[0]}')\n",
    "plt.plot(grid[5:10, 0], scores[5:10], marker='.', label=f'Глубина = {depths[1]}')\n",
    "plt.plot(grid[10:15, 0], scores[10:15], marker='.', label=f'Глубина = {depths[2]}')\n",
    "plt.plot(grid[15:20, 0], scores[15:20], marker='.', label=f'Глубина = {depths[3]}')\n",
    "plt.legend(loc='higher right')"
   ]
  },
  {
   "cell_type": "markdown",
   "metadata": {},
   "source": [
    "## Задание 5\n",
    "\n",
    "Сравните получаемое с помощью градиентного бустинга качество с качеством работы линейной регрессии. \n",
    "\n",
    "Для этого обучите `LinearRegression` из `sklearn.linear_model` (с параметрами по умолчанию) на обучающей выборке и оцените для прогнозов полученного алгоритма на тестовой выборке `RMSE`. Полученное качество - ответ в **пункте 5**. \n",
    "\n",
    "В данном примере качество работы простой модели должно было оказаться хуже, но не стоит забывать, что так бывает не всегда. В заданиях к этому курсу вы еще встретите пример обратной ситуации."
   ]
  },
  {
   "cell_type": "code",
   "execution_count": 46,
   "metadata": {},
   "outputs": [],
   "source": [
    "from sklearn import linear_model"
   ]
  },
  {
   "cell_type": "code",
   "execution_count": 57,
   "metadata": {},
   "outputs": [],
   "source": [
    "lin_regressor = linear_model.LinearRegression()"
   ]
  },
  {
   "cell_type": "code",
   "execution_count": 77,
   "metadata": {},
   "outputs": [],
   "source": [
    "X_train, X_test, y_train, y_test = model_selection.train_test_split(X, y, test_size=0.25, shuffle=False)"
   ]
  },
  {
   "cell_type": "code",
   "execution_count": 78,
   "metadata": {},
   "outputs": [
    {
     "data": {
      "text/plain": [
       "LinearRegression(copy_X=True, fit_intercept=True, n_jobs=1, normalize=False)"
      ]
     },
     "execution_count": 78,
     "metadata": {},
     "output_type": "execute_result"
    }
   ],
   "source": [
    "lin_regressor.fit(X_train, y_train)"
   ]
  },
  {
   "cell_type": "code",
   "execution_count": 79,
   "metadata": {},
   "outputs": [],
   "source": [
    "score = metrics.mean_squared_error(y_test, lin_regressor.predict(X_test))"
   ]
  },
  {
   "cell_type": "code",
   "execution_count": 80,
   "metadata": {},
   "outputs": [
    {
     "data": {
      "text/plain": [
       "8.27046803493814"
      ]
     },
     "execution_count": 80,
     "metadata": {},
     "output_type": "execute_result"
    }
   ],
   "source": [
    "score**0.5"
   ]
  },
  {
   "cell_type": "code",
   "execution_count": null,
   "metadata": {},
   "outputs": [],
   "source": []
  }
 ],
 "metadata": {
  "kernelspec": {
   "display_name": "Python 3",
   "language": "python",
   "name": "python3"
  },
  "language_info": {
   "codemirror_mode": {
    "name": "ipython",
    "version": 3
   },
   "file_extension": ".py",
   "mimetype": "text/x-python",
   "name": "python",
   "nbconvert_exporter": "python",
   "pygments_lexer": "ipython3",
   "version": "3.7.0"
  }
 },
 "nbformat": 4,
 "nbformat_minor": 1
}
