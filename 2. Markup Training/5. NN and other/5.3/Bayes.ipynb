{
 "cells": [
  {
   "cell_type": "code",
   "execution_count": 1,
   "metadata": {},
   "outputs": [],
   "source": [
    "from sklearn import datasets, model_selection, naive_bayes\n",
    "import numpy as np"
   ]
  },
  {
   "cell_type": "code",
   "execution_count": 2,
   "metadata": {},
   "outputs": [],
   "source": [
    "digits = datasets.load_digits()\n",
    "breast_cancer = datasets.load_breast_cancer()"
   ]
  },
  {
   "cell_type": "code",
   "execution_count": 21,
   "metadata": {},
   "outputs": [
    {
     "name": "stdout",
     "output_type": "stream",
     "text": [
      "[[1.799e+01 1.038e+01 1.228e+02 ... 2.654e-01 4.601e-01 1.189e-01]\n",
      " [2.057e+01 1.777e+01 1.329e+02 ... 1.860e-01 2.750e-01 8.902e-02]\n",
      " [1.969e+01 2.125e+01 1.300e+02 ... 2.430e-01 3.613e-01 8.758e-02]\n",
      " ...\n",
      " [1.660e+01 2.808e+01 1.083e+02 ... 1.418e-01 2.218e-01 7.820e-02]\n",
      " [2.060e+01 2.933e+01 1.401e+02 ... 2.650e-01 4.087e-01 1.240e-01]\n",
      " [7.760e+00 2.454e+01 4.792e+01 ... 0.000e+00 2.871e-01 7.039e-02]]\n"
     ]
    }
   ],
   "source": [
    "print(breast_cancer.data)"
   ]
  },
  {
   "cell_type": "code",
   "execution_count": 22,
   "metadata": {},
   "outputs": [
    {
     "name": "stdout",
     "output_type": "stream",
     "text": [
      "[[ 0.  0.  5. ...  0.  0.  0.]\n",
      " [ 0.  0.  0. ... 10.  0.  0.]\n",
      " [ 0.  0.  0. ... 16.  9.  0.]\n",
      " ...\n",
      " [ 0.  0.  1. ...  6.  0.  0.]\n",
      " [ 0.  0.  2. ... 12.  0.  0.]\n",
      " [ 0.  0. 10. ... 12.  1.  0.]]\n"
     ]
    }
   ],
   "source": [
    "print(digits.data)"
   ]
  },
  {
   "cell_type": "code",
   "execution_count": 10,
   "metadata": {},
   "outputs": [],
   "source": [
    "bernoulli_clf = naive_bayes.BernoulliNB()"
   ]
  },
  {
   "cell_type": "code",
   "execution_count": 14,
   "metadata": {},
   "outputs": [
    {
     "name": "stdout",
     "output_type": "stream",
     "text": [
      "Качество digits на классификаторе BernoulliNB: 0.8258236507780582\n",
      "Качество breast_cancer на классификаторе BernoulliNB: 0.6274204028589994\n"
     ]
    }
   ],
   "source": [
    "digit_bern_score = model_selection.cross_val_score(bernoulli_clf, digits.data, digits.target)\n",
    "print(f'Качество digits на классификаторе BernoulliNB: {digit_bern_score.mean()}')\n",
    "cancer_bern_score = model_selection.cross_val_score(bernoulli_clf, breast_cancer.data, breast_cancer.target)\n",
    "print(f'Качество breast_cancer на классификаторе BernoulliNB: {cancer_bern_score.mean()}')"
   ]
  },
  {
   "cell_type": "code",
   "execution_count": 15,
   "metadata": {},
   "outputs": [],
   "source": [
    "multinom_clf = naive_bayes.MultinomialNB()"
   ]
  },
  {
   "cell_type": "code",
   "execution_count": 16,
   "metadata": {},
   "outputs": [
    {
     "name": "stdout",
     "output_type": "stream",
     "text": [
      "Качество digits на классификаторе MultinomialNB: 0.8708771489735053\n",
      "Качество breast_cancer на классификаторе MultinomialNB: 0.8945790401930752\n"
     ]
    }
   ],
   "source": [
    "digit_multi_score = model_selection.cross_val_score(multinom_clf, digits.data, digits.target)\n",
    "print(f'Качество digits на классификаторе MultinomialNB: {digit_multi_score.mean()}')\n",
    "cancer_multi_score = model_selection.cross_val_score(multinom_clf, breast_cancer.data, breast_cancer.target)\n",
    "print(f'Качество breast_cancer на классификаторе MultinomialNB: {cancer_multi_score.mean()}')"
   ]
  },
  {
   "cell_type": "code",
   "execution_count": 17,
   "metadata": {},
   "outputs": [],
   "source": [
    "gauss_clf = naive_bayes.GaussianNB()"
   ]
  },
  {
   "cell_type": "code",
   "execution_count": 18,
   "metadata": {},
   "outputs": [
    {
     "name": "stdout",
     "output_type": "stream",
     "text": [
      "Качество digits на классификаторе GaussianNB: 0.8186003803550138\n",
      "Качество breast_cancer на классификаторе GaussianNB: 0.9367492806089297\n"
     ]
    }
   ],
   "source": [
    "digit_gauss_score = model_selection.cross_val_score(gauss_clf, digits.data, digits.target)\n",
    "print(f'Качество digits на классификаторе GaussianNB: {digit_gauss_score.mean()}')\n",
    "cancer_gauss_score = model_selection.cross_val_score(gauss_clf, breast_cancer.data, breast_cancer.target)\n",
    "print(f'Качество breast_cancer на классификаторе GaussianNB: {cancer_gauss_score.mean()}')"
   ]
  },
  {
   "cell_type": "code",
   "execution_count": 19,
   "metadata": {},
   "outputs": [
    {
     "data": {
      "text/plain": [
       "0.9367492806089297"
      ]
     },
     "execution_count": 19,
     "metadata": {},
     "output_type": "execute_result"
    }
   ],
   "source": [
    "max(cancer_bern_score.mean(), cancer_multi_score.mean(), cancer_gauss_score.mean())"
   ]
  },
  {
   "cell_type": "code",
   "execution_count": 20,
   "metadata": {},
   "outputs": [
    {
     "data": {
      "text/plain": [
       "0.8708771489735053"
      ]
     },
     "execution_count": 20,
     "metadata": {},
     "output_type": "execute_result"
    }
   ],
   "source": [
    "max(digit_bern_score.mean(), digit_multi_score.mean(), digit_gauss_score.mean())"
   ]
  },
  {
   "cell_type": "code",
   "execution_count": null,
   "metadata": {},
   "outputs": [],
   "source": []
  }
 ],
 "metadata": {
  "kernelspec": {
   "display_name": "Python 3",
   "language": "python",
   "name": "python3"
  },
  "language_info": {
   "codemirror_mode": {
    "name": "ipython",
    "version": 3
   },
   "file_extension": ".py",
   "mimetype": "text/x-python",
   "name": "python",
   "nbconvert_exporter": "python",
   "pygments_lexer": "ipython3",
   "version": "3.7.0"
  }
 },
 "nbformat": 4,
 "nbformat_minor": 2
}
