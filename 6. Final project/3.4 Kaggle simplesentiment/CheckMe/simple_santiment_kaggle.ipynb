{
 "cells": [
  {
   "cell_type": "markdown",
   "metadata": {},
   "source": [
    "# Соревнование по сентимент-анализу"
   ]
  },
  {
   "cell_type": "markdown",
   "metadata": {},
   "source": [
    "В этом задании вам нужно воспользоваться опытом предыдущих недель, чтобы побить бейзлайн в соревновании по сентимент-анализу отзывов на товары на Kaggle Inclass:\n",
    "\n",
    "https://www.kaggle.com/c/simplesentiment\n",
    "\n",
    "В качестве ответа в этом задании вам нужно загрузить ноутбук с решением и скриншот вашего результата на leaderboard.\n",
    "\n",
    "Убедитесь, что:\n",
    "\n",
    "1) ход вашего решения задокументирован достаточно подробно для того, чтобы ваши сокурсники поняли, что вы делали и почему;\n",
    "\n",
    "2) ваша команда в соревновании состоит только из вас и названа вашим логином на Stepik, чтобы ваши сокурсники могли понять, что на скриншоте именно ваш результат.\n",
    "\n",
    " "
   ]
  },
  {
   "cell_type": "code",
   "execution_count": 7,
   "metadata": {},
   "outputs": [
    {
     "data": {
      "text/html": [
       "<div>\n",
       "<style scoped>\n",
       "    .dataframe tbody tr th:only-of-type {\n",
       "        vertical-align: middle;\n",
       "    }\n",
       "\n",
       "    .dataframe tbody tr th {\n",
       "        vertical-align: top;\n",
       "    }\n",
       "\n",
       "    .dataframe thead th {\n",
       "        text-align: right;\n",
       "    }\n",
       "</style>\n",
       "<table border=\"1\" class=\"dataframe\">\n",
       "  <thead>\n",
       "    <tr style=\"text-align: right;\">\n",
       "      <th></th>\n",
       "      <th>0</th>\n",
       "      <th>1</th>\n",
       "    </tr>\n",
       "  </thead>\n",
       "  <tbody>\n",
       "    <tr>\n",
       "      <th>0</th>\n",
       "      <td>2 . take around 10,000 640x480 pictures .</td>\n",
       "      <td>1</td>\n",
       "    </tr>\n",
       "    <tr>\n",
       "      <th>1</th>\n",
       "      <td>i downloaded a trial version of computer assoc...</td>\n",
       "      <td>1</td>\n",
       "    </tr>\n",
       "    <tr>\n",
       "      <th>2</th>\n",
       "      <td>the wrt54g plus the hga7t is a perfect solutio...</td>\n",
       "      <td>1</td>\n",
       "    </tr>\n",
       "    <tr>\n",
       "      <th>3</th>\n",
       "      <td>i dont especially like how music files are uns...</td>\n",
       "      <td>0</td>\n",
       "    </tr>\n",
       "    <tr>\n",
       "      <th>4</th>\n",
       "      <td>i was using the cheapie pail ... and it worked...</td>\n",
       "      <td>1</td>\n",
       "    </tr>\n",
       "  </tbody>\n",
       "</table>\n",
       "</div>"
      ],
      "text/plain": [
       "                                                   0  1\n",
       "0          2 . take around 10,000 640x480 pictures .  1\n",
       "1  i downloaded a trial version of computer assoc...  1\n",
       "2  the wrt54g plus the hga7t is a perfect solutio...  1\n",
       "3  i dont especially like how music files are uns...  0\n",
       "4  i was using the cheapie pail ... and it worked...  1"
      ]
     },
     "execution_count": 7,
     "metadata": {},
     "output_type": "execute_result"
    }
   ],
   "source": [
    "import pandas as pd\n",
    "#прочитаем данные по тренировочной выборке\n",
    "data_train = pd.read_csv('products_sentiment_train.tsv', sep = '\\t',header=None)\n",
    "data_train.head()\n"
   ]
  },
  {
   "cell_type": "code",
   "execution_count": 8,
   "metadata": {},
   "outputs": [
    {
     "name": "stdout",
     "output_type": "stream",
     "text": [
      "2000\n"
     ]
    }
   ],
   "source": [
    "print(len(data_train))"
   ]
  },
  {
   "cell_type": "code",
   "execution_count": 9,
   "metadata": {},
   "outputs": [
    {
     "data": {
      "text/html": [
       "<div>\n",
       "<style scoped>\n",
       "    .dataframe tbody tr th:only-of-type {\n",
       "        vertical-align: middle;\n",
       "    }\n",
       "\n",
       "    .dataframe tbody tr th {\n",
       "        vertical-align: top;\n",
       "    }\n",
       "\n",
       "    .dataframe thead th {\n",
       "        text-align: right;\n",
       "    }\n",
       "</style>\n",
       "<table border=\"1\" class=\"dataframe\">\n",
       "  <thead>\n",
       "    <tr style=\"text-align: right;\">\n",
       "      <th></th>\n",
       "      <th>Id</th>\n",
       "      <th>text</th>\n",
       "    </tr>\n",
       "  </thead>\n",
       "  <tbody>\n",
       "    <tr>\n",
       "      <th>0</th>\n",
       "      <td>0</td>\n",
       "      <td>so , why the small digital elph , rather than ...</td>\n",
       "    </tr>\n",
       "    <tr>\n",
       "      <th>1</th>\n",
       "      <td>1</td>\n",
       "      <td>3/4 way through the first disk we played on it...</td>\n",
       "    </tr>\n",
       "    <tr>\n",
       "      <th>2</th>\n",
       "      <td>2</td>\n",
       "      <td>better for the zen micro is outlook compatibil...</td>\n",
       "    </tr>\n",
       "    <tr>\n",
       "      <th>3</th>\n",
       "      <td>3</td>\n",
       "      <td>6 . play gameboy color games on it with goboy .</td>\n",
       "    </tr>\n",
       "    <tr>\n",
       "      <th>4</th>\n",
       "      <td>4</td>\n",
       "      <td>likewise , i 've heard norton 2004 professiona...</td>\n",
       "    </tr>\n",
       "  </tbody>\n",
       "</table>\n",
       "</div>"
      ],
      "text/plain": [
       "   Id                                               text\n",
       "0   0  so , why the small digital elph , rather than ...\n",
       "1   1  3/4 way through the first disk we played on it...\n",
       "2   2  better for the zen micro is outlook compatibil...\n",
       "3   3    6 . play gameboy color games on it with goboy .\n",
       "4   4  likewise , i 've heard norton 2004 professiona..."
      ]
     },
     "execution_count": 9,
     "metadata": {},
     "output_type": "execute_result"
    }
   ],
   "source": [
    "#прочитаем данные по тестовой выборке\n",
    "data_test = pd.read_csv('products_sentiment_test.tsv', sep = '\\t')\n",
    "data_test.head()\n"
   ]
  },
  {
   "cell_type": "code",
   "execution_count": 10,
   "metadata": {},
   "outputs": [
    {
     "name": "stdout",
     "output_type": "stream",
     "text": [
      "500\n"
     ]
    }
   ],
   "source": [
    "print(len(data_test))"
   ]
  },
  {
   "cell_type": "markdown",
   "metadata": {},
   "source": [
    "Импортируем нужные нам модули"
   ]
  },
  {
   "cell_type": "code",
   "execution_count": 11,
   "metadata": {},
   "outputs": [],
   "source": [
    "from sklearn.feature_extraction.text import TfidfTransformer, CountVectorizer, TfidfVectorizer\n",
    "from sklearn.linear_model import LogisticRegression, SGDClassifier\n",
    "from sklearn.svm import LinearSVC\n",
    "from sklearn.model_selection import cross_val_score\n",
    "from sklearn.pipeline import Pipeline\n",
    "from sklearn.naive_bayes import MultinomialNB\n",
    "from sklearn.ensemble import RandomForestClassifier\n",
    "from sklearn.decomposition import TruncatedSVD\n",
    "import matplotlib.pyplot as plt\n"
   ]
  },
  {
   "cell_type": "code",
   "execution_count": 12,
   "metadata": {},
   "outputs": [],
   "source": [
    "#тексты и метки\n",
    "texts   = data_train[0]\n",
    "labels  = data_train[1]"
   ]
  },
  {
   "cell_type": "markdown",
   "metadata": {},
   "source": [
    "пробуем несколько разных классификаторов с настройками по умолчанию с CountVectorizer"
   ]
  },
  {
   "cell_type": "code",
   "execution_count": 39,
   "metadata": {},
   "outputs": [],
   "source": [
    "def text_classifier(vectorizer, classifier):\n",
    "    return Pipeline(\n",
    "            [(\"vectorizer\", vectorizer),\n",
    "            (\"classifier\", classifier)]\n",
    "        )"
   ]
  },
  {
   "cell_type": "code",
   "execution_count": 40,
   "metadata": {},
   "outputs": [
    {
     "name": "stdout",
     "output_type": "stream",
     "text": [
      "<class 'sklearn.linear_model.logistic.LogisticRegression'>\n",
      "0.7740071405738572\n",
      "\n",
      "\n",
      "<class 'sklearn.svm.classes.LinearSVC'>\n",
      "0.7505076290683487\n",
      "\n",
      "\n",
      "<class 'sklearn.linear_model.stochastic_gradient.SGDClassifier'>\n",
      "0.7459963711837775\n",
      "\n",
      "\n",
      "<class 'sklearn.naive_bayes.MultinomialNB'>\n",
      "0.7795006400703551\n",
      "\n",
      "\n",
      "<class 'sklearn.ensemble.forest.RandomForestClassifier'>\n",
      "0.7115083599341471\n",
      "\n",
      "\n"
     ]
    }
   ],
   "source": [
    "import warnings\n",
    "warnings.filterwarnings('ignore')\n",
    "\n",
    "for clf in [LogisticRegression, LinearSVC, SGDClassifier,MultinomialNB,RandomForestClassifier]:\n",
    "    print(clf)\n",
    "    print(cross_val_score(text_classifier(CountVectorizer(), clf()), texts, labels).mean())\n",
    "    print (\"\\n\")"
   ]
  },
  {
   "cell_type": "markdown",
   "metadata": {},
   "source": [
    "Баесовский классификатор дает лучший результат. Пробуем работать с ним. По рекомендации курса делаем вычисления с этим классификатором без pipeline"
   ]
  },
  {
   "cell_type": "code",
   "execution_count": 15,
   "metadata": {},
   "outputs": [
    {
     "name": "stdout",
     "output_type": "stream",
     "text": [
      "0.7804655741393536\n"
     ]
    }
   ],
   "source": [
    "clf_b = MultinomialNB()\n",
    "\n",
    "vectorizer = CountVectorizer()\n",
    "X = vectorizer.fit_transform(texts)\n",
    "\n",
    "print(cross_val_score(clf_b,X, labels, cv=10).mean()) "
   ]
  },
  {
   "cell_type": "markdown",
   "metadata": {},
   "source": [
    "Пробуем применить Tfid вместо CountVectorizer"
   ]
  },
  {
   "cell_type": "code",
   "execution_count": 16,
   "metadata": {},
   "outputs": [
    {
     "name": "stdout",
     "output_type": "stream",
     "text": [
      "0.7100316382909572\n"
     ]
    }
   ],
   "source": [
    "clf_b = MultinomialNB()\n",
    "\n",
    "vectorizer = TfidfVectorizer()\n",
    "X = vectorizer.fit_transform(texts)\n",
    "\n",
    "print(cross_val_score(clf_b,X, labels, cv=10).mean()) "
   ]
  },
  {
   "cell_type": "markdown",
   "metadata": {},
   "source": [
    "Результат ухудшился. Вернемся к CountVectorizer. Пробуем с n-граммами и стоп словами \n"
   ]
  },
  {
   "cell_type": "code",
   "execution_count": 18,
   "metadata": {},
   "outputs": [
    {
     "name": "stdout",
     "output_type": "stream",
     "text": [
      "0.7904157478936973\n"
     ]
    }
   ],
   "source": [
    "clf_b = MultinomialNB()\n",
    "\n",
    "vectorizer = CountVectorizer(ngram_range=(1,2))\n",
    "\n",
    "X = vectorizer.fit_transform(texts)\n",
    "\n",
    "print(cross_val_score(clf_b,X, labels, cv=10).mean()) "
   ]
  },
  {
   "cell_type": "code",
   "execution_count": 19,
   "metadata": {},
   "outputs": [
    {
     "name": "stdout",
     "output_type": "stream",
     "text": [
      "0.7479475111877798\n"
     ]
    }
   ],
   "source": [
    "clf_b = MultinomialNB()\n",
    "\n",
    "vectorizer = CountVectorizer(ngram_range=(1,2),stop_words='english')\n",
    "X = vectorizer.fit_transform(texts)\n",
    "\n",
    "print(cross_val_score(clf_b,X, labels, cv=10).mean()) "
   ]
  },
  {
   "cell_type": "code",
   "execution_count": 34,
   "metadata": {},
   "outputs": [],
   "source": [
    "#вернемся к лучше модели, прогоним ее не всех данных и запишем ее в ответ\n",
    "\n",
    "clf_b = MultinomialNB()\n",
    "vectorizer = CountVectorizer(ngram_range=(1,2))\n",
    "X = vectorizer.fit_transform(texts)\n",
    "clf_b.fit(X,labels)\n",
    "X_test = vectorizer.transform(data_test['text'])\n",
    "predict_vector = clf_b.predict(X_test)\n",
    "data_predict = pd.DataFrame({'Id': list(range(0, len(predict_vector))),'y': predict_vector})\n",
    "data_predict.to_csv (r'submit.csv', index = None, header=True)"
   ]
  },
  {
   "cell_type": "markdown",
   "metadata": {},
   "source": [
    "На тестовых данных Kaggle результат хуже, чем на нашей тестовой выборке. Вернемся к другим классификаторам - проверим LogisticRegression и LinearSVC с разными настройками векторайзерами "
   ]
  },
  {
   "cell_type": "code",
   "execution_count": 41,
   "metadata": {},
   "outputs": [
    {
     "name": "stdout",
     "output_type": "stream",
     "text": [
      "0.7730079876996926\n",
      "0.7889583114577865\n",
      "0.7464826120653016\n",
      "0.7529651991299783\n"
     ]
    }
   ],
   "source": [
    "#логистическая регрессия\n",
    "warnings.filterwarnings('ignore')\n",
    "clf_b = LogisticRegression(C=70, dual=True)\n",
    "vectorizer = CountVectorizer(ngram_range=(1,2))\n",
    "X = vectorizer.fit_transform(texts)\n",
    "clf_b.fit(X,labels)\n",
    "print(cross_val_score(clf_b,X, labels, cv=10).mean()) \n",
    "\n",
    "\n",
    "clf_b = LogisticRegression(C=70, dual=True)\n",
    "vectorizer =  TfidfVectorizer(ngram_range=(1,2))\n",
    "X = vectorizer.fit_transform(texts)\n",
    "clf_b.fit(X,labels)\n",
    "print(cross_val_score(clf_b,X, labels, cv=10).mean()) \n",
    "\n",
    "clf_b = LogisticRegression(C=70, dual=True)\n",
    "vectorizer = CountVectorizer(ngram_range=(1,2),stop_words='english')\n",
    "X = vectorizer.fit_transform(texts)\n",
    "clf_b.fit(X,labels)\n",
    "print(cross_val_score(clf_b,X, labels, cv=10).mean()) \n",
    "\n",
    "\n",
    "clf_b = LogisticRegression(C=70, dual=True)\n",
    "vectorizer =  TfidfVectorizer(ngram_range=(1,2),stop_words='english')\n",
    "X = vectorizer.fit_transform(texts)\n",
    "clf_b.fit(X,labels)\n",
    "print(cross_val_score(clf_b,X, labels, cv=10).mean()) \n"
   ]
  },
  {
   "cell_type": "code",
   "execution_count": 42,
   "metadata": {},
   "outputs": [
    {
     "name": "stdout",
     "output_type": "stream",
     "text": [
      "0.7690103752593815\n",
      "0.7884632365809144\n",
      "0.7429450986274656\n",
      "0.7504626615665393\n"
     ]
    }
   ],
   "source": [
    "#LinearSVC()\n",
    "warnings.filterwarnings('ignore')\n",
    "clf_b = LinearSVC()\n",
    "vectorizer = CountVectorizer(ngram_range=(1,2))\n",
    "X = vectorizer.fit_transform(texts)\n",
    "clf_b.fit(X,labels)\n",
    "print(cross_val_score(clf_b,X, labels, cv=10).mean()) \n",
    "\n",
    "\n",
    "clf_b = LinearSVC()\n",
    "vectorizer =  TfidfVectorizer(ngram_range=(1,2))\n",
    "X = vectorizer.fit_transform(texts)\n",
    "clf_b.fit(X,labels)\n",
    "print(cross_val_score(clf_b,X, labels, cv=10).mean()) \n",
    "\n",
    "clf_b = LinearSVC()\n",
    "vectorizer = CountVectorizer(ngram_range=(1,2),stop_words='english')\n",
    "X = vectorizer.fit_transform(texts)\n",
    "clf_b.fit(X,labels)\n",
    "print(cross_val_score(clf_b,X, labels, cv=10).mean()) \n",
    "\n",
    "\n",
    "clf_b = LinearSVC()\n",
    "vectorizer =  TfidfVectorizer(ngram_range=(1,2),stop_words='english')\n",
    "X = vectorizer.fit_transform(texts)\n",
    "clf_b.fit(X,labels)\n",
    "print(cross_val_score(clf_b,X, labels, cv=10).mean()) \n"
   ]
  },
  {
   "cell_type": "markdown",
   "metadata": {},
   "source": [
    "Лучший результат дает модель с использованием TfidfVectorizer(ngram_range=(1,2)). Оба классификатора дают примерно одни и те же оценки качества. "
   ]
  },
  {
   "cell_type": "code",
   "execution_count": 46,
   "metadata": {},
   "outputs": [],
   "source": [
    "clf_b = LogisticRegression(C=70, dual=True)\n",
    "\n",
    "#clf_b = MultinomialNB()\n",
    "vectorizer =  TfidfVectorizer(ngram_range=(1,2))\n",
    "X = vectorizer.fit_transform(texts)\n",
    "clf_b.fit(X,labels)\n",
    "X_test = vectorizer.transform(data_test['text'])\n",
    "predict_vector = clf_b.predict(X_test)\n",
    "data_predict = pd.DataFrame({'Id': list(range(0, len(predict_vector))),'y': predict_vector})\n",
    "data_predict.to_csv (r'submit_lr.csv', index = None, header=True)\n",
    "export_csv = data_predict.to_csv (r'submit_lr.csv', index = None, header=True) #Don't forget to add '.csv' at the end of the path\n"
   ]
  },
  {
   "cell_type": "markdown",
   "metadata": {},
   "source": [
    "На каггле ответ примется - 0.81111"
   ]
  },
  {
   "cell_type": "markdown",
   "metadata": {},
   "source": [
    "Посмотрим на топ10 признаков положительных и отрицательных классов и проанализируем их. "
   ]
  },
  {
   "cell_type": "code",
   "execution_count": 47,
   "metadata": {},
   "outputs": [
    {
     "data": {
      "image/png": "[encoded data removed]",
      "text/plain": [
       "<Figure size 576x576 with 2 Axes>"
      ]
     },
     "metadata": {
      "needs_background": "light"
     },
     "output_type": "display_data"
    }
   ],
   "source": [
    "%matplotlib inline\n",
    "import matplotlib\n",
    "import matplotlib.pyplot as plt\n",
    "\n",
    "fig, axs = plt.subplots(1, 2, figsize=(8, 8))\n",
    "fig.subplots_adjust(wspace=0.8)\n",
    "pos_top10.sort_values('coef').plot.barh(legend=False, ax=axs[0])\n",
    "axs[0].set_yticklabels(pos_top10['vocab'].values.tolist()[::-1])\n",
    "axs[0].set_title('Positive');\n",
    "neg_top10.sort_values('coef', ascending=False).plot.barh(legend=False, ax=axs[1])\n",
    "axs[1].set_yticklabels(neg_top10['vocab'].values.tolist()[::-1])\n",
    "axs[1].set_title('Negative');"
   ]
  },
  {
   "cell_type": "code",
   "execution_count": null,
   "metadata": {},
   "outputs": [],
   "source": [
    "Попробуем выбросить явно нейтральные слова из топа признаков, обучим модель заново и отправим результат на kaggle."
   ]
  },
  {
   "cell_type": "code",
   "execution_count": 30,
   "metadata": {},
   "outputs": [],
   "source": [
    "my_stop_words = ['buttons','they','only','after','and','your','norton','would']"
   ]
  },
  {
   "cell_type": "code",
   "execution_count": 49,
   "metadata": {},
   "outputs": [
    {
     "name": "stdout",
     "output_type": "stream",
     "text": [
      "0.7699654491362284\n"
     ]
    }
   ],
   "source": [
    "model = LogisticRegression(C=70, dual=True)\n",
    "vectorizer =  TfidfVectorizer(ngram_range=(1,2),stop_words = my_stop_words)\n",
    "X = vectorizer.fit_transform(texts)\n",
    "model.fit(X,labels)\n",
    "print(cross_val_score(model,X, labels, cv=10).mean()) \n"
   ]
  },
  {
   "cell_type": "code",
   "execution_count": 50,
   "metadata": {},
   "outputs": [],
   "source": [
    "model.fit(X,labels)\n",
    "X_test = vectorizer.transform(data_test['text'])\n",
    "predict_vector = model.predict(X_test)\n",
    "data_predict = pd.DataFrame({'Id': list(range(0, len(predict_vector))),'y': predict_vector})\n",
    "data_predict.head()\n",
    "export_csv = data_predict.to_csv (r'submit_stop_words.csv', index = None, header=True) #Don't forget to add '.csv' at the end of the path\n"
   ]
  },
  {
   "cell_type": "markdown",
   "metadata": {},
   "source": [
    "Результат на нашей трейн выборке ухудшился, но на kaggle он стал лучше - 0.81777 "
   ]
  }
 ],
 "metadata": {
  "kernelspec": {
   "display_name": "Python 3",
   "language": "python",
   "name": "python3"
  },
  "language_info": {
   "codemirror_mode": {
    "name": "ipython",
    "version": 3
   },
   "file_extension": ".py",
   "mimetype": "text/x-python",
   "name": "python",
   "nbconvert_exporter": "python",
   "pygments_lexer": "ipython3",
   "version": "3.7.0"
  }
 },
 "nbformat": 4,
 "nbformat_minor": 2
}
