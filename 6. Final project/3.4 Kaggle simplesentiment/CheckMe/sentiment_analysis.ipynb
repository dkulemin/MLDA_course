{
 "cells": [
  {
   "cell_type": "code",
   "execution_count": 2,
   "metadata": {},
   "outputs": [
    {
     "name": "stdout",
     "output_type": "stream",
     "text": [
      "Populating the interactive namespace from numpy and matplotlib\n"
     ]
    },
    {
     "name": "stderr",
     "output_type": "stream",
     "text": [
      "/home/cheyuriy/miniconda3/lib/python3.5/site-packages/IPython/core/magics/pylab.py:160: UserWarning: pylab import has clobbered these variables: ['plt']\n",
      "`%matplotlib` prevents importing * from pylab and numpy\n",
      "  \"\\n`%matplotlib` prevents importing * from pylab and numpy\"\n"
     ]
    }
   ],
   "source": [
    "import pandas as pd\n",
    "import numpy as np\n",
    "import matplotlib as plt\n",
    "%pylab inline"
   ]
  },
  {
   "cell_type": "markdown",
   "metadata": {},
   "source": [
    "Данных мало и можно загрузить их все в память."
   ]
  },
  {
   "cell_type": "code",
   "execution_count": 3,
   "metadata": {},
   "outputs": [],
   "source": [
    "train_data = pd.read_csv(\"./data/products_sentiment_train.tsv\", sep=\"\\t\", header=None, names=[\"text\", \"target\"])\n",
    "test_data = pd.read_csv(\"./data/products_sentiment_test.tsv\", sep=\"\\t\")"
   ]
  },
  {
   "cell_type": "markdown",
   "metadata": {},
   "source": [
    "### Анализ данных"
   ]
  },
  {
   "cell_type": "markdown",
   "metadata": {},
   "source": [
    "Посмотрим на несколько примеров текстов."
   ]
  },
  {
   "cell_type": "code",
   "execution_count": 4,
   "metadata": {},
   "outputs": [
    {
     "name": "stdout",
     "output_type": "stream",
     "text": [
      "2 . take around 10,000 640x480 pictures .\n",
      "from the internet , woodworking books , local stores and personal opinions the hitachi m12v 3-1 / 4 hp router time and time again came up to be the router of choice or best for its price .\n",
      "after multilple tries , one of the disks was finally recognized but video was poor and features not available . \n",
      "if you 've been listening to cd 's in your car for awhile , dealing with the drop-off in sound quality may take some getting used to .\n",
      "the door would not close . \n"
     ]
    }
   ],
   "source": [
    "print(train_data[\"text\"][0])\n",
    "print(train_data[\"text\"][7])\n",
    "print(train_data[\"text\"][100])\n",
    "print(train_data[\"text\"][1000])\n",
    "print(train_data[\"text\"][228])"
   ]
  },
  {
   "cell_type": "markdown",
   "metadata": {},
   "source": [
    "Можно заметить, что тексты предобработаны и токены достаточно корректно разделимы пробелами. Это упростит нашу задачу по токенизации в дальнейшем. Также можно заметить, что в тексте присутствуют числа и номера, а также сложные обозначения."
   ]
  },
  {
   "cell_type": "markdown",
   "metadata": {},
   "source": [
    "Попробуем провести токенизацию простейшим способом (разбивая по пробелам). После этого посмотрим на наиболее и наименее употребимые слова в получаемом мешке слов."
   ]
  },
  {
   "cell_type": "code",
   "execution_count": 5,
   "metadata": {},
   "outputs": [],
   "source": [
    "X = train_data[\"text\"]\n",
    "Y = train_data[\"target\"]"
   ]
  },
  {
   "cell_type": "code",
   "execution_count": 6,
   "metadata": {},
   "outputs": [
    {
     "name": "stderr",
     "output_type": "stream",
     "text": [
      "/home/cheyuriy/miniconda3/lib/python3.5/importlib/_bootstrap.py:222: RuntimeWarning: numpy.dtype size changed, may indicate binary incompatibility. Expected 96, got 88\n",
      "  return f(*args, **kwds)\n",
      "/home/cheyuriy/miniconda3/lib/python3.5/importlib/_bootstrap.py:222: RuntimeWarning: numpy.dtype size changed, may indicate binary incompatibility. Expected 96, got 88\n",
      "  return f(*args, **kwds)\n",
      "/home/cheyuriy/miniconda3/lib/python3.5/importlib/_bootstrap.py:222: RuntimeWarning: numpy.dtype size changed, may indicate binary incompatibility. Expected 96, got 88\n",
      "  return f(*args, **kwds)\n",
      "/home/cheyuriy/miniconda3/lib/python3.5/importlib/_bootstrap.py:222: RuntimeWarning: numpy.dtype size changed, may indicate binary incompatibility. Expected 96, got 88\n",
      "  return f(*args, **kwds)\n"
     ]
    },
    {
     "name": "stdout",
     "output_type": "stream",
     "text": [
      "Total number of tokens (naive split): 3973\n"
     ]
    }
   ],
   "source": [
    "from sklearn.feature_extraction.text import CountVectorizer\n",
    "vectorizer = CountVectorizer()\n",
    "vectorized_X = vectorizer.fit_transform(X)\n",
    "print(\"Total number of tokens (naive split):\", vectorized_X.shape[1])\n",
    "tokens = pd.DataFrame(vectorized_X.sum(axis=0).T, index=vectorizer.get_feature_names(), columns=[\"count\"])"
   ]
  },
  {
   "cell_type": "code",
   "execution_count": 7,
   "metadata": {},
   "outputs": [
    {
     "name": "stdout",
     "output_type": "stream",
     "text": [
      "The least frequent tokens:\n"
     ]
    },
    {
     "data": {
      "text/html": [
       "<div>\n",
       "<style scoped>\n",
       "    .dataframe tbody tr th:only-of-type {\n",
       "        vertical-align: middle;\n",
       "    }\n",
       "\n",
       "    .dataframe tbody tr th {\n",
       "        vertical-align: top;\n",
       "    }\n",
       "\n",
       "    .dataframe thead th {\n",
       "        text-align: right;\n",
       "    }\n",
       "</style>\n",
       "<table border=\"1\" class=\"dataframe\">\n",
       "  <thead>\n",
       "    <tr style=\"text-align: right;\">\n",
       "      <th></th>\n",
       "      <th>count</th>\n",
       "    </tr>\n",
       "  </thead>\n",
       "  <tbody>\n",
       "    <tr>\n",
       "      <th>lines</th>\n",
       "      <td>1</td>\n",
       "    </tr>\n",
       "    <tr>\n",
       "      <th>funny</th>\n",
       "      <td>1</td>\n",
       "    </tr>\n",
       "    <tr>\n",
       "      <th>funky</th>\n",
       "      <td>1</td>\n",
       "    </tr>\n",
       "    <tr>\n",
       "      <th>reducer</th>\n",
       "      <td>1</td>\n",
       "    </tr>\n",
       "    <tr>\n",
       "      <th>functioning</th>\n",
       "      <td>1</td>\n",
       "    </tr>\n",
       "    <tr>\n",
       "      <th>reduction</th>\n",
       "      <td>1</td>\n",
       "    </tr>\n",
       "    <tr>\n",
       "      <th>reeves</th>\n",
       "      <td>1</td>\n",
       "    </tr>\n",
       "    <tr>\n",
       "      <th>refer</th>\n",
       "      <td>1</td>\n",
       "    </tr>\n",
       "    <tr>\n",
       "      <th>refill</th>\n",
       "      <td>1</td>\n",
       "    </tr>\n",
       "    <tr>\n",
       "      <th>fumble</th>\n",
       "      <td>1</td>\n",
       "    </tr>\n",
       "  </tbody>\n",
       "</table>\n",
       "</div>"
      ],
      "text/plain": [
       "             count\n",
       "lines            1\n",
       "funny            1\n",
       "funky            1\n",
       "reducer          1\n",
       "functioning      1\n",
       "reduction        1\n",
       "reeves           1\n",
       "refer            1\n",
       "refill           1\n",
       "fumble           1"
      ]
     },
     "execution_count": 7,
     "metadata": {},
     "output_type": "execute_result"
    }
   ],
   "source": [
    "print(\"The least frequent tokens:\")\n",
    "tokens.sort_values(by=\"count\").head(10)"
   ]
  },
  {
   "cell_type": "code",
   "execution_count": 8,
   "metadata": {},
   "outputs": [
    {
     "name": "stdout",
     "output_type": "stream",
     "text": [
      "The most frequent tokens:\n"
     ]
    },
    {
     "data": {
      "text/html": [
       "<div>\n",
       "<style scoped>\n",
       "    .dataframe tbody tr th:only-of-type {\n",
       "        vertical-align: middle;\n",
       "    }\n",
       "\n",
       "    .dataframe tbody tr th {\n",
       "        vertical-align: top;\n",
       "    }\n",
       "\n",
       "    .dataframe thead th {\n",
       "        text-align: right;\n",
       "    }\n",
       "</style>\n",
       "<table border=\"1\" class=\"dataframe\">\n",
       "  <thead>\n",
       "    <tr style=\"text-align: right;\">\n",
       "      <th></th>\n",
       "      <th>count</th>\n",
       "    </tr>\n",
       "  </thead>\n",
       "  <tbody>\n",
       "    <tr>\n",
       "      <th>you</th>\n",
       "      <td>383</td>\n",
       "    </tr>\n",
       "    <tr>\n",
       "      <th>for</th>\n",
       "      <td>386</td>\n",
       "    </tr>\n",
       "    <tr>\n",
       "      <th>this</th>\n",
       "      <td>409</td>\n",
       "    </tr>\n",
       "    <tr>\n",
       "      <th>with</th>\n",
       "      <td>412</td>\n",
       "    </tr>\n",
       "    <tr>\n",
       "      <th>of</th>\n",
       "      <td>471</td>\n",
       "    </tr>\n",
       "    <tr>\n",
       "      <th>is</th>\n",
       "      <td>836</td>\n",
       "    </tr>\n",
       "    <tr>\n",
       "      <th>it</th>\n",
       "      <td>855</td>\n",
       "    </tr>\n",
       "    <tr>\n",
       "      <th>to</th>\n",
       "      <td>915</td>\n",
       "    </tr>\n",
       "    <tr>\n",
       "      <th>and</th>\n",
       "      <td>1009</td>\n",
       "    </tr>\n",
       "    <tr>\n",
       "      <th>the</th>\n",
       "      <td>2073</td>\n",
       "    </tr>\n",
       "  </tbody>\n",
       "</table>\n",
       "</div>"
      ],
      "text/plain": [
       "      count\n",
       "you     383\n",
       "for     386\n",
       "this    409\n",
       "with    412\n",
       "of      471\n",
       "is      836\n",
       "it      855\n",
       "to      915\n",
       "and    1009\n",
       "the    2073"
      ]
     },
     "execution_count": 8,
     "metadata": {},
     "output_type": "execute_result"
    }
   ],
   "source": [
    "print(\"The most frequent tokens:\")\n",
    "tokens.sort_values(by=\"count\").tail(10)"
   ]
  },
  {
   "cell_type": "markdown",
   "metadata": {},
   "source": [
    "Как видно, среди наиболее частых слов все можно отнести к общеупотребительным стоп-словам. В дальнейшем мы попытаемся избавиться от них как от малозначащих. Для этого подсчитаем частоту появления таких слов среди всей массы слов и, определив некий порог, отсечём те, которые будем считать стоп-словами."
   ]
  },
  {
   "cell_type": "code",
   "execution_count": 9,
   "metadata": {},
   "outputs": [
    {
     "data": {
      "text/html": [
       "<div>\n",
       "<style scoped>\n",
       "    .dataframe tbody tr th:only-of-type {\n",
       "        vertical-align: middle;\n",
       "    }\n",
       "\n",
       "    .dataframe tbody tr th {\n",
       "        vertical-align: top;\n",
       "    }\n",
       "\n",
       "    .dataframe thead th {\n",
       "        text-align: right;\n",
       "    }\n",
       "</style>\n",
       "<table border=\"1\" class=\"dataframe\">\n",
       "  <thead>\n",
       "    <tr style=\"text-align: right;\">\n",
       "      <th></th>\n",
       "      <th>count</th>\n",
       "      <th>tf</th>\n",
       "    </tr>\n",
       "  </thead>\n",
       "  <tbody>\n",
       "    <tr>\n",
       "      <th>very</th>\n",
       "      <td>168</td>\n",
       "      <td>0.005173</td>\n",
       "    </tr>\n",
       "    <tr>\n",
       "      <th>are</th>\n",
       "      <td>197</td>\n",
       "      <td>0.006066</td>\n",
       "    </tr>\n",
       "    <tr>\n",
       "      <th>as</th>\n",
       "      <td>223</td>\n",
       "      <td>0.006867</td>\n",
       "    </tr>\n",
       "    <tr>\n",
       "      <th>my</th>\n",
       "      <td>239</td>\n",
       "      <td>0.007359</td>\n",
       "    </tr>\n",
       "    <tr>\n",
       "      <th>on</th>\n",
       "      <td>251</td>\n",
       "      <td>0.007729</td>\n",
       "    </tr>\n",
       "    <tr>\n",
       "      <th>not</th>\n",
       "      <td>259</td>\n",
       "      <td>0.007975</td>\n",
       "    </tr>\n",
       "    <tr>\n",
       "      <th>but</th>\n",
       "      <td>264</td>\n",
       "      <td>0.008129</td>\n",
       "    </tr>\n",
       "    <tr>\n",
       "      <th>have</th>\n",
       "      <td>271</td>\n",
       "      <td>0.008345</td>\n",
       "    </tr>\n",
       "    <tr>\n",
       "      <th>in</th>\n",
       "      <td>315</td>\n",
       "      <td>0.009699</td>\n",
       "    </tr>\n",
       "    <tr>\n",
       "      <th>that</th>\n",
       "      <td>364</td>\n",
       "      <td>0.011208</td>\n",
       "    </tr>\n",
       "    <tr>\n",
       "      <th>you</th>\n",
       "      <td>383</td>\n",
       "      <td>0.011793</td>\n",
       "    </tr>\n",
       "    <tr>\n",
       "      <th>for</th>\n",
       "      <td>386</td>\n",
       "      <td>0.011886</td>\n",
       "    </tr>\n",
       "    <tr>\n",
       "      <th>this</th>\n",
       "      <td>409</td>\n",
       "      <td>0.012594</td>\n",
       "    </tr>\n",
       "    <tr>\n",
       "      <th>with</th>\n",
       "      <td>412</td>\n",
       "      <td>0.012686</td>\n",
       "    </tr>\n",
       "    <tr>\n",
       "      <th>of</th>\n",
       "      <td>471</td>\n",
       "      <td>0.014503</td>\n",
       "    </tr>\n",
       "    <tr>\n",
       "      <th>is</th>\n",
       "      <td>836</td>\n",
       "      <td>0.025742</td>\n",
       "    </tr>\n",
       "    <tr>\n",
       "      <th>it</th>\n",
       "      <td>855</td>\n",
       "      <td>0.026327</td>\n",
       "    </tr>\n",
       "    <tr>\n",
       "      <th>to</th>\n",
       "      <td>915</td>\n",
       "      <td>0.028175</td>\n",
       "    </tr>\n",
       "    <tr>\n",
       "      <th>and</th>\n",
       "      <td>1009</td>\n",
       "      <td>0.031069</td>\n",
       "    </tr>\n",
       "    <tr>\n",
       "      <th>the</th>\n",
       "      <td>2073</td>\n",
       "      <td>0.063832</td>\n",
       "    </tr>\n",
       "  </tbody>\n",
       "</table>\n",
       "</div>"
      ],
      "text/plain": [
       "      count        tf\n",
       "very    168  0.005173\n",
       "are     197  0.006066\n",
       "as      223  0.006867\n",
       "my      239  0.007359\n",
       "on      251  0.007729\n",
       "not     259  0.007975\n",
       "but     264  0.008129\n",
       "have    271  0.008345\n",
       "in      315  0.009699\n",
       "that    364  0.011208\n",
       "you     383  0.011793\n",
       "for     386  0.011886\n",
       "this    409  0.012594\n",
       "with    412  0.012686\n",
       "of      471  0.014503\n",
       "is      836  0.025742\n",
       "it      855  0.026327\n",
       "to      915  0.028175\n",
       "and    1009  0.031069\n",
       "the    2073  0.063832"
      ]
     },
     "execution_count": 9,
     "metadata": {},
     "output_type": "execute_result"
    }
   ],
   "source": [
    "tokens[\"tf\"] = tokens[\"count\"]/tokens[\"count\"].sum()\n",
    "tokens.sort_values(by=\"count\").tail(20)"
   ]
  },
  {
   "cell_type": "code",
   "execution_count": 10,
   "metadata": {},
   "outputs": [
    {
     "data": {
      "text/plain": [
       "['and',\n",
       " 'are',\n",
       " 'as',\n",
       " 'but',\n",
       " 'for',\n",
       " 'have',\n",
       " 'in',\n",
       " 'is',\n",
       " 'it',\n",
       " 'my',\n",
       " 'not',\n",
       " 'of',\n",
       " 'on',\n",
       " 'that',\n",
       " 'the',\n",
       " 'this',\n",
       " 'to',\n",
       " 'with',\n",
       " 'you']"
      ]
     },
     "execution_count": 10,
     "metadata": {},
     "output_type": "execute_result"
    }
   ],
   "source": [
    "stop_words = list(tokens.loc[tokens.tf > 0.006].index)\n",
    "stop_words"
   ]
  },
  {
   "cell_type": "markdown",
   "metadata": {},
   "source": [
    "В качестве отсечки мы взяли частоту появления слова выше 0.006. Видно, что в эту группу попали слова, которые трудно отнести к определяющим тональность отзыва, а значит можно расчитывать, что их удаление не повредит модели.\n",
    "Однако стоит иметь ввиду, что эти слова могут быть достаточно важными при построении n-грам (например, слово not может кардинально поменять тональность рядом стоящего слова). Кроме того, мы могли бы использовать векторизацию через Tf-Idf, которая штрафует слишком частые слова, тем самым использование списка стоп-слов может быть и вовсе ненужным. Поэтому в дальнейшем мы будем использовать стоп-слова только при проверке моделей на основе частот, а не Tf-Idf."
   ]
  },
  {
   "cell_type": "markdown",
   "metadata": {},
   "source": [
    "Теперь давайте попробуем визуализировать частоту появления слов в текстах разных тональностей. Вероятно, мы сможем определить некоторую закономерность."
   ]
  },
  {
   "cell_type": "code",
   "execution_count": 19,
   "metadata": {},
   "outputs": [
    {
     "data": {
      "image/png": "[encoded data removed]",
      "text/plain": [
       "<Figure size 864x216 with 1 Axes>"
      ]
     },
     "metadata": {},
     "output_type": "display_data"
    }
   ],
   "source": [
    "vectorizer = CountVectorizer()\n",
    "vectorized_positive = vectorizer.fit_transform(list(train_data.loc[train_data.target == 1][\"text\"]))\n",
    "vectorized_positive = pd.DataFrame(vectorized_positive.sum(axis=0).T, index=vectorizer.get_feature_names(), columns=[\"positive\"])\n",
    "\n",
    "vectorizer = CountVectorizer()\n",
    "vectorized_negative = vectorizer.fit_transform(train_data.loc[train_data.target == 0][\"text\"])\n",
    "vectorized_negative = pd.DataFrame(vectorized_negative.sum(axis=0).T, index=vectorizer.get_feature_names(), columns=[\"negative\"])\n",
    "\n",
    "tokens = pd.merge(vectorized_negative, vectorized_positive, how=\"outer\", left_index=True, right_index=True)\n",
    "tokens = tokens.fillna(0)\n",
    "tokens[\"diff\"] = tokens[\"positive\"] - tokens[\"negative\"]\n",
    "\n",
    "plt.figure(figsize=(12, 3))\n",
    "tokens[\"diff\"].sort_values().plot(title = \"Difference in frequency of words in mostly negative (left) and positive (right) reviews\")\n",
    "plt.show()"
   ]
  },
  {
   "cell_type": "markdown",
   "metadata": {},
   "source": [
    "Как видно из графика большинство слов одинаково часто встречаются как в положительных, так и в отрицательных отзывах. Лишь малая часть слов встречается значимо чаще в одной категории отзывов. Однако мы можем надеяться что классификитор, основанный на частоте слов, сможет успешно обучиться на них. Давайте посмотрим на эти слова."
   ]
  },
  {
   "cell_type": "code",
   "execution_count": 20,
   "metadata": {},
   "outputs": [
    {
     "name": "stdout",
     "output_type": "stream",
     "text": [
      "The most important tokens in positive reviews:\n"
     ]
    },
    {
     "data": {
      "text/html": [
       "<div>\n",
       "<style scoped>\n",
       "    .dataframe tbody tr th:only-of-type {\n",
       "        vertical-align: middle;\n",
       "    }\n",
       "\n",
       "    .dataframe tbody tr th {\n",
       "        vertical-align: top;\n",
       "    }\n",
       "\n",
       "    .dataframe thead th {\n",
       "        text-align: right;\n",
       "    }\n",
       "</style>\n",
       "<table border=\"1\" class=\"dataframe\">\n",
       "  <thead>\n",
       "    <tr style=\"text-align: right;\">\n",
       "      <th></th>\n",
       "      <th>negative</th>\n",
       "      <th>positive</th>\n",
       "      <th>diff</th>\n",
       "    </tr>\n",
       "  </thead>\n",
       "  <tbody>\n",
       "    <tr>\n",
       "      <th>you</th>\n",
       "      <td>156.0</td>\n",
       "      <td>227.0</td>\n",
       "      <td>71.0</td>\n",
       "    </tr>\n",
       "    <tr>\n",
       "      <th>all</th>\n",
       "      <td>42.0</td>\n",
       "      <td>114.0</td>\n",
       "      <td>72.0</td>\n",
       "    </tr>\n",
       "    <tr>\n",
       "      <th>quality</th>\n",
       "      <td>23.0</td>\n",
       "      <td>100.0</td>\n",
       "      <td>77.0</td>\n",
       "    </tr>\n",
       "    <tr>\n",
       "      <th>in</th>\n",
       "      <td>118.0</td>\n",
       "      <td>197.0</td>\n",
       "      <td>79.0</td>\n",
       "    </tr>\n",
       "    <tr>\n",
       "      <th>phone</th>\n",
       "      <td>41.0</td>\n",
       "      <td>120.0</td>\n",
       "      <td>79.0</td>\n",
       "    </tr>\n",
       "    <tr>\n",
       "      <th>easy</th>\n",
       "      <td>10.0</td>\n",
       "      <td>99.0</td>\n",
       "      <td>89.0</td>\n",
       "    </tr>\n",
       "    <tr>\n",
       "      <th>very</th>\n",
       "      <td>39.0</td>\n",
       "      <td>129.0</td>\n",
       "      <td>90.0</td>\n",
       "    </tr>\n",
       "    <tr>\n",
       "      <th>use</th>\n",
       "      <td>27.0</td>\n",
       "      <td>125.0</td>\n",
       "      <td>98.0</td>\n",
       "    </tr>\n",
       "    <tr>\n",
       "      <th>good</th>\n",
       "      <td>14.0</td>\n",
       "      <td>113.0</td>\n",
       "      <td>99.0</td>\n",
       "    </tr>\n",
       "    <tr>\n",
       "      <th>camera</th>\n",
       "      <td>33.0</td>\n",
       "      <td>135.0</td>\n",
       "      <td>102.0</td>\n",
       "    </tr>\n",
       "    <tr>\n",
       "      <th>for</th>\n",
       "      <td>134.0</td>\n",
       "      <td>252.0</td>\n",
       "      <td>118.0</td>\n",
       "    </tr>\n",
       "    <tr>\n",
       "      <th>of</th>\n",
       "      <td>170.0</td>\n",
       "      <td>301.0</td>\n",
       "      <td>131.0</td>\n",
       "    </tr>\n",
       "    <tr>\n",
       "      <th>great</th>\n",
       "      <td>8.0</td>\n",
       "      <td>145.0</td>\n",
       "      <td>137.0</td>\n",
       "    </tr>\n",
       "    <tr>\n",
       "      <th>to</th>\n",
       "      <td>382.0</td>\n",
       "      <td>533.0</td>\n",
       "      <td>151.0</td>\n",
       "    </tr>\n",
       "    <tr>\n",
       "      <th>with</th>\n",
       "      <td>123.0</td>\n",
       "      <td>289.0</td>\n",
       "      <td>166.0</td>\n",
       "    </tr>\n",
       "    <tr>\n",
       "      <th>this</th>\n",
       "      <td>114.0</td>\n",
       "      <td>295.0</td>\n",
       "      <td>181.0</td>\n",
       "    </tr>\n",
       "    <tr>\n",
       "      <th>it</th>\n",
       "      <td>325.0</td>\n",
       "      <td>530.0</td>\n",
       "      <td>205.0</td>\n",
       "    </tr>\n",
       "    <tr>\n",
       "      <th>is</th>\n",
       "      <td>288.0</td>\n",
       "      <td>548.0</td>\n",
       "      <td>260.0</td>\n",
       "    </tr>\n",
       "    <tr>\n",
       "      <th>the</th>\n",
       "      <td>820.0</td>\n",
       "      <td>1253.0</td>\n",
       "      <td>433.0</td>\n",
       "    </tr>\n",
       "    <tr>\n",
       "      <th>and</th>\n",
       "      <td>287.0</td>\n",
       "      <td>722.0</td>\n",
       "      <td>435.0</td>\n",
       "    </tr>\n",
       "  </tbody>\n",
       "</table>\n",
       "</div>"
      ],
      "text/plain": [
       "         negative  positive   diff\n",
       "you         156.0     227.0   71.0\n",
       "all          42.0     114.0   72.0\n",
       "quality      23.0     100.0   77.0\n",
       "in          118.0     197.0   79.0\n",
       "phone        41.0     120.0   79.0\n",
       "easy         10.0      99.0   89.0\n",
       "very         39.0     129.0   90.0\n",
       "use          27.0     125.0   98.0\n",
       "good         14.0     113.0   99.0\n",
       "camera       33.0     135.0  102.0\n",
       "for         134.0     252.0  118.0\n",
       "of          170.0     301.0  131.0\n",
       "great         8.0     145.0  137.0\n",
       "to          382.0     533.0  151.0\n",
       "with        123.0     289.0  166.0\n",
       "this        114.0     295.0  181.0\n",
       "it          325.0     530.0  205.0\n",
       "is          288.0     548.0  260.0\n",
       "the         820.0    1253.0  433.0\n",
       "and         287.0     722.0  435.0"
      ]
     },
     "execution_count": 20,
     "metadata": {},
     "output_type": "execute_result"
    }
   ],
   "source": [
    "print(\"The most important tokens in positive reviews:\")\n",
    "tokens.sort_values(by=\"diff\").tail(20)"
   ]
  },
  {
   "cell_type": "code",
   "execution_count": 21,
   "metadata": {},
   "outputs": [
    {
     "name": "stdout",
     "output_type": "stream",
     "text": [
      "The most important tokens in negative reviews:\n"
     ]
    },
    {
     "data": {
      "text/html": [
       "<div>\n",
       "<style scoped>\n",
       "    .dataframe tbody tr th:only-of-type {\n",
       "        vertical-align: middle;\n",
       "    }\n",
       "\n",
       "    .dataframe tbody tr th {\n",
       "        vertical-align: top;\n",
       "    }\n",
       "\n",
       "    .dataframe thead th {\n",
       "        text-align: right;\n",
       "    }\n",
       "</style>\n",
       "<table border=\"1\" class=\"dataframe\">\n",
       "  <thead>\n",
       "    <tr style=\"text-align: right;\">\n",
       "      <th></th>\n",
       "      <th>negative</th>\n",
       "      <th>positive</th>\n",
       "      <th>diff</th>\n",
       "    </tr>\n",
       "  </thead>\n",
       "  <tbody>\n",
       "    <tr>\n",
       "      <th>not</th>\n",
       "      <td>156.0</td>\n",
       "      <td>103.0</td>\n",
       "      <td>-53.0</td>\n",
       "    </tr>\n",
       "    <tr>\n",
       "      <th>only</th>\n",
       "      <td>67.0</td>\n",
       "      <td>28.0</td>\n",
       "      <td>-39.0</td>\n",
       "    </tr>\n",
       "    <tr>\n",
       "      <th>would</th>\n",
       "      <td>58.0</td>\n",
       "      <td>32.0</td>\n",
       "      <td>-26.0</td>\n",
       "    </tr>\n",
       "    <tr>\n",
       "      <th>after</th>\n",
       "      <td>40.0</td>\n",
       "      <td>16.0</td>\n",
       "      <td>-24.0</td>\n",
       "    </tr>\n",
       "    <tr>\n",
       "      <th>problem</th>\n",
       "      <td>38.0</td>\n",
       "      <td>16.0</td>\n",
       "      <td>-22.0</td>\n",
       "    </tr>\n",
       "    <tr>\n",
       "      <th>they</th>\n",
       "      <td>53.0</td>\n",
       "      <td>32.0</td>\n",
       "      <td>-21.0</td>\n",
       "    </tr>\n",
       "    <tr>\n",
       "      <th>norton</th>\n",
       "      <td>25.0</td>\n",
       "      <td>4.0</td>\n",
       "      <td>-21.0</td>\n",
       "    </tr>\n",
       "    <tr>\n",
       "      <th>does</th>\n",
       "      <td>50.0</td>\n",
       "      <td>34.0</td>\n",
       "      <td>-16.0</td>\n",
       "    </tr>\n",
       "    <tr>\n",
       "      <th>their</th>\n",
       "      <td>30.0</td>\n",
       "      <td>15.0</td>\n",
       "      <td>-15.0</td>\n",
       "    </tr>\n",
       "    <tr>\n",
       "      <th>when</th>\n",
       "      <td>49.0</td>\n",
       "      <td>35.0</td>\n",
       "      <td>-14.0</td>\n",
       "    </tr>\n",
       "    <tr>\n",
       "      <th>times</th>\n",
       "      <td>22.0</td>\n",
       "      <td>8.0</td>\n",
       "      <td>-14.0</td>\n",
       "    </tr>\n",
       "    <tr>\n",
       "      <th>button</th>\n",
       "      <td>19.0</td>\n",
       "      <td>6.0</td>\n",
       "      <td>-13.0</td>\n",
       "    </tr>\n",
       "    <tr>\n",
       "      <th>sometimes</th>\n",
       "      <td>12.0</td>\n",
       "      <td>0.0</td>\n",
       "      <td>-12.0</td>\n",
       "    </tr>\n",
       "    <tr>\n",
       "      <th>support</th>\n",
       "      <td>20.0</td>\n",
       "      <td>8.0</td>\n",
       "      <td>-12.0</td>\n",
       "    </tr>\n",
       "    <tr>\n",
       "      <th>buttons</th>\n",
       "      <td>19.0</td>\n",
       "      <td>7.0</td>\n",
       "      <td>-12.0</td>\n",
       "    </tr>\n",
       "    <tr>\n",
       "      <th>tried</th>\n",
       "      <td>15.0</td>\n",
       "      <td>3.0</td>\n",
       "      <td>-12.0</td>\n",
       "    </tr>\n",
       "    <tr>\n",
       "      <th>off</th>\n",
       "      <td>21.0</td>\n",
       "      <td>9.0</td>\n",
       "      <td>-12.0</td>\n",
       "    </tr>\n",
       "    <tr>\n",
       "      <th>get</th>\n",
       "      <td>54.0</td>\n",
       "      <td>43.0</td>\n",
       "      <td>-11.0</td>\n",
       "    </tr>\n",
       "    <tr>\n",
       "      <th>then</th>\n",
       "      <td>21.0</td>\n",
       "      <td>11.0</td>\n",
       "      <td>-10.0</td>\n",
       "    </tr>\n",
       "    <tr>\n",
       "      <th>useless</th>\n",
       "      <td>10.0</td>\n",
       "      <td>0.0</td>\n",
       "      <td>-10.0</td>\n",
       "    </tr>\n",
       "  </tbody>\n",
       "</table>\n",
       "</div>"
      ],
      "text/plain": [
       "           negative  positive  diff\n",
       "not           156.0     103.0 -53.0\n",
       "only           67.0      28.0 -39.0\n",
       "would          58.0      32.0 -26.0\n",
       "after          40.0      16.0 -24.0\n",
       "problem        38.0      16.0 -22.0\n",
       "they           53.0      32.0 -21.0\n",
       "norton         25.0       4.0 -21.0\n",
       "does           50.0      34.0 -16.0\n",
       "their          30.0      15.0 -15.0\n",
       "when           49.0      35.0 -14.0\n",
       "times          22.0       8.0 -14.0\n",
       "button         19.0       6.0 -13.0\n",
       "sometimes      12.0       0.0 -12.0\n",
       "support        20.0       8.0 -12.0\n",
       "buttons        19.0       7.0 -12.0\n",
       "tried          15.0       3.0 -12.0\n",
       "off            21.0       9.0 -12.0\n",
       "get            54.0      43.0 -11.0\n",
       "then           21.0      11.0 -10.0\n",
       "useless        10.0       0.0 -10.0"
      ]
     },
     "execution_count": 21,
     "metadata": {},
     "output_type": "execute_result"
    }
   ],
   "source": [
    "print(\"The most important tokens in negative reviews:\")\n",
    "tokens.sort_values(by=\"diff\").head(20)"
   ]
  },
  {
   "cell_type": "markdown",
   "metadata": {},
   "source": [
    "Видно, что многие слова были нами ранее отнесены к стоп-словам. Возможно по какой-то причине эти слова действительно могут определять тональность текста. Поэтому мы попробуем в дальнейшем как включать их в модель, так и исключать."
   ]
  },
  {
   "cell_type": "markdown",
   "metadata": {},
   "source": [
    "### Baseline-модели"
   ]
  },
  {
   "cell_type": "markdown",
   "metadata": {},
   "source": [
    "Перейдём непосредственно к проверке нескольких моделей. В качестве классификаторов попробуем использовать часто применяемые к таким задачам Multinomial Naive-Bayes classificator, Linear SVC, Ridge classificator.\n",
    "В качестве векторизаторов попробуем:\n",
    "* векторизатор по частоте слов\n",
    "    * с 1-1, 1-2 и 1-3 n-грамами\n",
    "    * со стоп словами и без\n",
    "    * с наивным токенизатором и токенизатором для анализа твитов из библиотеки nltk и стеммингом\n",
    "* векторизатор по Tf-Idf\n",
    "    * с 1-1, 1-2 и 1-3 n-грамами\n",
    "    * с наивным токенизатором и токенизатором для анализа твитов из библиотеки nltk и стеммингом\n",
    "    \n",
    "Для оценки наших кандидатов мы будем проводить кросс-валидацию на 10 свёртках. Метрикой будет выступать точность."
   ]
  },
  {
   "cell_type": "code",
   "execution_count": 59,
   "metadata": {},
   "outputs": [],
   "source": [
    "#Note, that you need to download parts of nltk to make this part work.\n",
    "from nltk.stem import SnowballStemmer\n",
    "from nltk.tokenize import TweetTokenizer\n",
    "\n",
    "class TwitterTokenizerStemmer(object):\n",
    "    def __init__(self):\n",
    "        self.snowball_stemmer = SnowballStemmer(\"english\")\n",
    "        self.tokenizer = TweetTokenizer(preserve_case=False)\n",
    "    def __call__(self, doc):\n",
    "        tokenized_doc = self.tokenizer.tokenize(doc)\n",
    "        return \" \".join([self.snowball_stemmer.stem(x) for x in tokenized_doc])"
   ]
  },
  {
   "cell_type": "code",
   "execution_count": 55,
   "metadata": {},
   "outputs": [],
   "source": [
    "from sklearn.pipeline import make_pipeline\n",
    "from sklearn.feature_extraction.text import TfidfVectorizer\n",
    "from sklearn.svm import LinearSVC\n",
    "from sklearn.naive_bayes import MultinomialNB\n",
    "from sklearn.linear_model import RidgeClassifier\n",
    "from sklearn.model_selection import cross_val_score\n",
    "from itertools import product"
   ]
  },
  {
   "cell_type": "code",
   "execution_count": 33,
   "metadata": {},
   "outputs": [],
   "source": [
    "#helper function to evaluate bunch of pipelines passed as argument\n",
    "def run_pipelines(pipelines, x, y, cv=10):\n",
    "    results = dict()\n",
    "    for (i, pipeline) in enumerate(pipelines):\n",
    "        pipeline_name = \":\".join([str(i), pipeline.steps[0][0], pipeline.steps[1][0]])\n",
    "        print(\"Evaluating\", pipeline_name)\n",
    "        results[pipeline_name] = np.mean(cross_val_score(pipeline, x, y, scoring=\"accuracy\", cv=cv, n_jobs=-1))\n",
    "    return results"
   ]
  },
  {
   "cell_type": "code",
   "execution_count": 38,
   "metadata": {},
   "outputs": [],
   "source": [
    "vectorizers = [CountVectorizer(ngram_range=(1,1)), \n",
    "               CountVectorizer(ngram_range=(1,2)),\n",
    "               CountVectorizer(ngram_range=(1,3)),\n",
    "               CountVectorizer(ngram_range=(1,1), stop_words=stop_words), \n",
    "               CountVectorizer(ngram_range=(1,2), stop_words=stop_words),\n",
    "               CountVectorizer(ngram_range=(1,3), stop_words=stop_words),\n",
    "               CountVectorizer(ngram_range=(1,1), preprocessor=TwitterTokenizerStemmer()), \n",
    "               CountVectorizer(ngram_range=(1,2), preprocessor=TwitterTokenizerStemmer()),\n",
    "               CountVectorizer(ngram_range=(1,3), preprocessor=TwitterTokenizerStemmer()),\n",
    "               CountVectorizer(ngram_range=(1,1), stop_words=stop_words, preprocessor=TwitterTokenizerStemmer()), \n",
    "               CountVectorizer(ngram_range=(1,2), stop_words=stop_words, preprocessor=TwitterTokenizerStemmer()),\n",
    "               CountVectorizer(ngram_range=(1,3), stop_words=stop_words, preprocessor=TwitterTokenizerStemmer()),\n",
    "               TfidfVectorizer(ngram_range=(1,1)),\n",
    "               TfidfVectorizer(ngram_range=(1,2)),\n",
    "               TfidfVectorizer(ngram_range=(1,3)),\n",
    "               TfidfVectorizer(ngram_range=(1,1), preprocessor=TwitterTokenizerStemmer()),\n",
    "               TfidfVectorizer(ngram_range=(1,2), preprocessor=TwitterTokenizerStemmer()),\n",
    "               TfidfVectorizer(ngram_range=(1,3), preprocessor=TwitterTokenizerStemmer()),\n",
    "               TfidfVectorizer(ngram_range=(1,1), stop_words=stop_words),\n",
    "               TfidfVectorizer(ngram_range=(1,2), stop_words=stop_words),\n",
    "               TfidfVectorizer(ngram_range=(1,3), stop_words=stop_words),\n",
    "               TfidfVectorizer(ngram_range=(1,1), stop_words=stop_words, preprocessor=TwitterTokenizerStemmer()),\n",
    "               TfidfVectorizer(ngram_range=(1,2), stop_words=stop_words, preprocessor=TwitterTokenizerStemmer()),\n",
    "               TfidfVectorizer(ngram_range=(1,3), stop_words=stop_words, preprocessor=TwitterTokenizerStemmer())\n",
    "              ]\n",
    "models = [LinearSVC(), \n",
    "          MultinomialNB(), \n",
    "          RidgeClassifier()\n",
    "         ]\n",
    "pipelines_to_evaluate = list(\n",
    "    map(lambda x: make_pipeline(*x), \n",
    "        product(vectorizers, models))\n",
    ")"
   ]
  },
  {
   "cell_type": "code",
   "execution_count": 39,
   "metadata": {},
   "outputs": [
    {
     "name": "stdout",
     "output_type": "stream",
     "text": [
      "CPU times: user 0 ns, sys: 0 ns, total: 0 ns\n",
      "Wall time: 4.29 µs\n",
      "Evaluating 0:countvectorizer:linearsvc\n",
      "Evaluating 1:countvectorizer:multinomialnb\n",
      "Evaluating 2:countvectorizer:ridgeclassifier\n",
      "Evaluating 3:countvectorizer:linearsvc\n",
      "Evaluating 4:countvectorizer:multinomialnb\n",
      "Evaluating 5:countvectorizer:ridgeclassifier\n",
      "Evaluating 6:countvectorizer:linearsvc\n",
      "Evaluating 7:countvectorizer:multinomialnb\n",
      "Evaluating 8:countvectorizer:ridgeclassifier\n",
      "Evaluating 9:countvectorizer:linearsvc\n",
      "Evaluating 10:countvectorizer:multinomialnb\n",
      "Evaluating 11:countvectorizer:ridgeclassifier\n",
      "Evaluating 12:countvectorizer:linearsvc\n",
      "Evaluating 13:countvectorizer:multinomialnb\n",
      "Evaluating 14:countvectorizer:ridgeclassifier\n",
      "Evaluating 15:countvectorizer:linearsvc\n",
      "Evaluating 16:countvectorizer:multinomialnb\n",
      "Evaluating 17:countvectorizer:ridgeclassifier\n",
      "Evaluating 18:countvectorizer:linearsvc\n",
      "Evaluating 19:countvectorizer:multinomialnb\n",
      "Evaluating 20:countvectorizer:ridgeclassifier\n",
      "Evaluating 21:countvectorizer:linearsvc\n",
      "Evaluating 22:countvectorizer:multinomialnb\n",
      "Evaluating 23:countvectorizer:ridgeclassifier\n",
      "Evaluating 24:countvectorizer:linearsvc\n",
      "Evaluating 25:countvectorizer:multinomialnb\n",
      "Evaluating 26:countvectorizer:ridgeclassifier\n",
      "Evaluating 27:countvectorizer:linearsvc\n",
      "Evaluating 28:countvectorizer:multinomialnb\n",
      "Evaluating 29:countvectorizer:ridgeclassifier\n",
      "Evaluating 30:countvectorizer:linearsvc\n",
      "Evaluating 31:countvectorizer:multinomialnb\n",
      "Evaluating 32:countvectorizer:ridgeclassifier\n",
      "Evaluating 33:countvectorizer:linearsvc\n",
      "Evaluating 34:countvectorizer:multinomialnb\n",
      "Evaluating 35:countvectorizer:ridgeclassifier\n",
      "Evaluating 36:tfidfvectorizer:linearsvc\n",
      "Evaluating 37:tfidfvectorizer:multinomialnb\n",
      "Evaluating 38:tfidfvectorizer:ridgeclassifier\n",
      "Evaluating 39:tfidfvectorizer:linearsvc\n",
      "Evaluating 40:tfidfvectorizer:multinomialnb\n",
      "Evaluating 41:tfidfvectorizer:ridgeclassifier\n",
      "Evaluating 42:tfidfvectorizer:linearsvc\n",
      "Evaluating 43:tfidfvectorizer:multinomialnb\n",
      "Evaluating 44:tfidfvectorizer:ridgeclassifier\n",
      "Evaluating 45:tfidfvectorizer:linearsvc\n",
      "Evaluating 46:tfidfvectorizer:multinomialnb\n",
      "Evaluating 47:tfidfvectorizer:ridgeclassifier\n",
      "Evaluating 48:tfidfvectorizer:linearsvc\n",
      "Evaluating 49:tfidfvectorizer:multinomialnb\n",
      "Evaluating 50:tfidfvectorizer:ridgeclassifier\n",
      "Evaluating 51:tfidfvectorizer:linearsvc\n",
      "Evaluating 52:tfidfvectorizer:multinomialnb\n",
      "Evaluating 53:tfidfvectorizer:ridgeclassifier\n",
      "Evaluating 54:tfidfvectorizer:linearsvc\n",
      "Evaluating 55:tfidfvectorizer:multinomialnb\n",
      "Evaluating 56:tfidfvectorizer:ridgeclassifier\n",
      "Evaluating 57:tfidfvectorizer:linearsvc\n",
      "Evaluating 58:tfidfvectorizer:multinomialnb\n",
      "Evaluating 59:tfidfvectorizer:ridgeclassifier\n",
      "Evaluating 60:tfidfvectorizer:linearsvc\n",
      "Evaluating 61:tfidfvectorizer:multinomialnb\n",
      "Evaluating 62:tfidfvectorizer:ridgeclassifier\n",
      "Evaluating 63:tfidfvectorizer:linearsvc\n",
      "Evaluating 64:tfidfvectorizer:multinomialnb\n",
      "Evaluating 65:tfidfvectorizer:ridgeclassifier\n",
      "Evaluating 66:tfidfvectorizer:linearsvc\n",
      "Evaluating 67:tfidfvectorizer:multinomialnb\n",
      "Evaluating 68:tfidfvectorizer:ridgeclassifier\n",
      "Evaluating 69:tfidfvectorizer:linearsvc\n",
      "Evaluating 70:tfidfvectorizer:multinomialnb\n",
      "Evaluating 71:tfidfvectorizer:ridgeclassifier\n"
     ]
    }
   ],
   "source": [
    "#it will take time\n",
    "np.random.seed(1)\n",
    "%time\n",
    "results = run_pipelines(pipelines_to_evaluate, X, Y)\n",
    "%time"
   ]
  },
  {
   "cell_type": "markdown",
   "metadata": {},
   "source": [
    "Посмотрим подробнее на наиболее успешные комбинации"
   ]
  },
  {
   "cell_type": "code",
   "execution_count": 70,
   "metadata": {},
   "outputs": [
    {
     "name": "stdout",
     "output_type": "stream",
     "text": [
      "Model: multinomialnb with countvectorizer (ngram_range: (1, 1) preprocessor: <__main__.TwitterTokenizerStemmer object at 0x7fcbd4594438> stopwords: True ) accuracy: 0.7944682617065427\n",
      "Model: multinomialnb with countvectorizer (ngram_range: (1, 1) preprocessor: <__main__.TwitterTokenizerStemmer object at 0x7fcbd4612780> stopwords: False ) accuracy: 0.7939883372084303\n",
      "Model: linearsvc with tfidfvectorizer (ngram_range: (1, 3) preprocessor: <__main__.TwitterTokenizerStemmer object at 0x7fcbd4594b70> stopwords: False ) accuracy: 0.793480799519988\n",
      "Model: ridgeclassifier with tfidfvectorizer (ngram_range: (1, 2) preprocessor: <__main__.TwitterTokenizerStemmer object at 0x7fcbd4594a20> stopwords: False ) accuracy: 0.7914732868321709\n",
      "Model: ridgeclassifier with tfidfvectorizer (ngram_range: (1, 2) preprocessor: <__main__.TwitterTokenizerStemmer object at 0x7fcbd4594f60> stopwords: True ) accuracy: 0.790948236205905\n"
     ]
    }
   ],
   "source": [
    "for r in sorted(results.items(), key=lambda x: -x[1])[0:5]:\n",
    "    i = int(r[0].split(\":\")[0])\n",
    "    pipeline = pipelines_to_evaluate[i]\n",
    "    vectorizer = pipeline.steps[0][0]\n",
    "    ngram_range = pipeline.steps[0][1].ngram_range\n",
    "    preprocessor = pipeline.steps[0][1].preprocessor\n",
    "    stopwords = bool(pipeline.steps[0][1].stop_words)\n",
    "    model = pipeline.steps[1][0]\n",
    "    print(\"Model:\", model,\n",
    "          \"with\",vectorizer,\n",
    "          \"(ngram_range:\",ngram_range,\n",
    "          \"preprocessor:\",preprocessor,\n",
    "          \"stopwords:\",stopwords,\")\", \"accuracy:\",r[1])"
   ]
  },
  {
   "cell_type": "markdown",
   "metadata": {},
   "source": [
    "Интересное наблюдение, что Multinomial Naive-Bayes показал наилучший результат только на униграмах, причём наличие стоп-слов добавило точности. Обратная ситуация наблюдается для других моделей: они показали себя лучше в условиях наличия как биграмм, так и триграмм, а также не так очевидна польза стоп-слов.\n",
    "В качестве дальнейших моделей для улучшения возьмём:\n",
    "* Multinomial Naive-Bayes c частотным векторизатором на униграммах с фильтрацией стоп-слов\n",
    "* Linear SVC с Tf-Idf векторизатором на 1-3-граммах без фильтрации стоп-слов\n",
    "\n",
    "В обоих случаях будем использовать наш сложный токенизатор со стеммингом."
   ]
  },
  {
   "cell_type": "markdown",
   "metadata": {},
   "source": [
    "### Multinomial Naive-Bayes"
   ]
  },
  {
   "cell_type": "markdown",
   "metadata": {},
   "source": [
    "Остановим внимание на том факте, что добавление стоп-слов улучшило результат данного классификатора. Попробуем расширить список таких слов, но при этом вручную сохраним те слова, которые на наш взгляд могут быть важны для определения тональности."
   ]
  },
  {
   "cell_type": "code",
   "execution_count": 106,
   "metadata": {},
   "outputs": [],
   "source": [
    "vectorizer = CountVectorizer()\n",
    "vectorized_X = vectorizer.fit_transform(X)\n",
    "tokens = pd.DataFrame(vectorized_X.sum(axis=0).T, index=vectorizer.get_feature_names(), columns=[\"count\"])\n",
    "tokens[\"tf\"] = tokens[\"count\"]/tokens[\"count\"].sum()\n",
    "\n",
    "vectorizers = list()\n",
    "list_stop_words = list()\n",
    "df_thresholds_to_test = np.linspace(0.0015, 0.006, 10)\n",
    "for threshold in df_thresholds_to_test:\n",
    "    list_stop_words += [set(tokens.loc[tokens.tf > threshold].index) - set([\"but\", \"easy\", \"features\", \"good\", \"great\", \"like\", \"more\", \"not\", \"no\", \"only\", \"quality\", \"than\", \"very\", \"well\", \"work\", \"zen\", \"best\", \"better\", \"creative\", \"excellent\", \"just\", \"little\", \"love\", \"much\", \"price\", \"problem\", \"problems\", \"small\", \"some\"])]\n",
    "    vectorizers += [CountVectorizer(ngram_range=(1,1), stop_words=list_stop_words[-1], preprocessor=TwitterTokenizerStemmer())]\n",
    "    \n",
    "models = [MultinomialNB()]\n",
    "\n",
    "pipelines_to_evaluate = list(\n",
    "    map(lambda x: make_pipeline(*x), \n",
    "        product(vectorizers, models))\n",
    ")"
   ]
  },
  {
   "cell_type": "code",
   "execution_count": 107,
   "metadata": {},
   "outputs": [
    {
     "name": "stdout",
     "output_type": "stream",
     "text": [
      "CPU times: user 0 ns, sys: 0 ns, total: 0 ns\n",
      "Wall time: 4.05 µs\n",
      "Evaluating 0:countvectorizer:multinomialnb\n",
      "Evaluating 1:countvectorizer:multinomialnb\n",
      "Evaluating 2:countvectorizer:multinomialnb\n",
      "Evaluating 3:countvectorizer:multinomialnb\n",
      "Evaluating 4:countvectorizer:multinomialnb\n",
      "Evaluating 5:countvectorizer:multinomialnb\n",
      "Evaluating 6:countvectorizer:multinomialnb\n",
      "Evaluating 7:countvectorizer:multinomialnb\n",
      "Evaluating 8:countvectorizer:multinomialnb\n",
      "Evaluating 9:countvectorizer:multinomialnb\n",
      "CPU times: user 0 ns, sys: 0 ns, total: 0 ns\n",
      "Wall time: 4.05 µs\n"
     ]
    }
   ],
   "source": [
    "%time\n",
    "results = run_pipelines(pipelines_to_evaluate, X, Y)\n",
    "%time"
   ]
  },
  {
   "cell_type": "code",
   "execution_count": 113,
   "metadata": {},
   "outputs": [
    {
     "name": "stdout",
     "output_type": "stream",
     "text": [
      "Optimal df threshold: 0.005\n",
      "Optimal stopword list: {'that', 'to', 'can', 'is', 'in', 'and', 'this', 'of', 'it', 'my', 'with', 'have', 'for', 'as', 'are', 'camera', 'the', 'you', 'on'}\n",
      "Accuracy: 0.7969709242731069\n"
     ]
    }
   ],
   "source": [
    "best_pipeline_num = int(sorted(results.items(), key=lambda x: -x[1])[0][0].split(\":\")[0])\n",
    "optimal_stop_words = list(pipelines_to_evaluate[best_pipeline_num].steps[0][1].stop_words)\n",
    "print(\"Optimal df threshold:\",df_thresholds_to_test[best_pipeline_num])\n",
    "print(\"Optimal stopword list:\", pipelines_to_evaluate[best_pipeline_num].steps[0][1].stop_words)\n",
    "print(\"Accuracy:\", sorted(results.items(), key=lambda x: -x[1])[0][1])"
   ]
  },
  {
   "cell_type": "markdown",
   "metadata": {},
   "source": [
    "Далее мы попробуем подогнать прочие параметры токенизатора и модели путём поиска по сетке."
   ]
  },
  {
   "cell_type": "code",
   "execution_count": 121,
   "metadata": {},
   "outputs": [],
   "source": [
    "from sklearn.pipeline import Pipeline\n",
    "from sklearn.model_selection import GridSearchCV\n",
    "pipe = Pipeline(steps=[('vectorizer', CountVectorizer(ngram_range=(1,1), preprocessor=TwitterTokenizerStemmer(), stop_words=optimal_stop_words)), \n",
    "                       ('model', MultinomialNB())])\n",
    "param_grid = {\n",
    "    'vectorizer__min_df': np.linspace(0.0,0.1,num=11),\n",
    "    'vectorizer__max_df': np.linspace(0.6,0.8,num=11),\n",
    "    'model__alpha': np.linspace(1.0,10.0,num=11)\n",
    "}"
   ]
  },
  {
   "cell_type": "code",
   "execution_count": 122,
   "metadata": {},
   "outputs": [],
   "source": [
    "search = GridSearchCV(pipe, param_grid, iid=True, cv=10, return_train_score=False, scoring=\"accuracy\", n_jobs=-1, verbose=True)"
   ]
  },
  {
   "cell_type": "code",
   "execution_count": 123,
   "metadata": {},
   "outputs": [
    {
     "name": "stdout",
     "output_type": "stream",
     "text": [
      "Fitting 10 folds for each of 1331 candidates, totalling 13310 fits\n"
     ]
    },
    {
     "name": "stderr",
     "output_type": "stream",
     "text": [
      "[Parallel(n_jobs=-1)]: Done  34 tasks      | elapsed:    5.1s\n",
      "[Parallel(n_jobs=-1)]: Done 184 tasks      | elapsed:   24.7s\n",
      "[Parallel(n_jobs=-1)]: Done 434 tasks      | elapsed:   57.7s\n",
      "[Parallel(n_jobs=-1)]: Done 784 tasks      | elapsed:  1.7min\n",
      "[Parallel(n_jobs=-1)]: Done 1234 tasks      | elapsed:  2.7min\n",
      "[Parallel(n_jobs=-1)]: Done 1784 tasks      | elapsed:  4.0min\n",
      "[Parallel(n_jobs=-1)]: Done 2434 tasks      | elapsed:  5.4min\n",
      "[Parallel(n_jobs=-1)]: Done 3184 tasks      | elapsed:  7.1min\n",
      "[Parallel(n_jobs=-1)]: Done 4034 tasks      | elapsed:  9.0min\n",
      "[Parallel(n_jobs=-1)]: Done 4984 tasks      | elapsed: 11.1min\n",
      "[Parallel(n_jobs=-1)]: Done 6034 tasks      | elapsed: 13.4min\n",
      "[Parallel(n_jobs=-1)]: Done 7184 tasks      | elapsed: 15.9min\n",
      "[Parallel(n_jobs=-1)]: Done 8434 tasks      | elapsed: 18.6min\n",
      "[Parallel(n_jobs=-1)]: Done 9784 tasks      | elapsed: 21.6min\n",
      "[Parallel(n_jobs=-1)]: Done 11234 tasks      | elapsed: 24.8min\n",
      "[Parallel(n_jobs=-1)]: Done 12784 tasks      | elapsed: 28.2min\n",
      "[Parallel(n_jobs=-1)]: Done 13310 out of 13310 | elapsed: 29.3min finished\n"
     ]
    },
    {
     "data": {
      "text/plain": [
       "GridSearchCV(cv=10, error_score='raise',\n",
       "       estimator=Pipeline(memory=None,\n",
       "     steps=[('vectorizer', CountVectorizer(analyzer='word', binary=False, decode_error='strict',\n",
       "        dtype=<class 'numpy.int64'>, encoding='utf-8', input='content',\n",
       "        lowercase=True, max_df=1.0, max_features=None, min_df=1,\n",
       "        ngram_range=(1, 1),\n",
       "        preprocessor=<__main__.TwitterToken...izer=None, vocabulary=None)), ('model', MultinomialNB(alpha=1.0, class_prior=None, fit_prior=True))]),\n",
       "       fit_params=None, iid=True, n_jobs=-1,\n",
       "       param_grid={'vectorizer__max_df': array([0.6 , 0.62, 0.64, 0.66, 0.68, 0.7 , 0.72, 0.74, 0.76, 0.78, 0.8 ]), 'model__alpha': array([ 1. ,  1.9,  2.8,  3.7,  4.6,  5.5,  6.4,  7.3,  8.2,  9.1, 10. ]), 'vectorizer__min_df': array([0.  , 0.01, 0.02, 0.03, 0.04, 0.05, 0.06, 0.07, 0.08, 0.09, 0.1 ])},\n",
       "       pre_dispatch='2*n_jobs', refit=True, return_train_score=False,\n",
       "       scoring='accuracy', verbose=True)"
      ]
     },
     "execution_count": 123,
     "metadata": {},
     "output_type": "execute_result"
    }
   ],
   "source": [
    "search.fit(X,Y)"
   ]
  },
  {
   "cell_type": "code",
   "execution_count": 124,
   "metadata": {},
   "outputs": [
    {
     "data": {
      "text/plain": [
       "0.7985"
      ]
     },
     "execution_count": 124,
     "metadata": {},
     "output_type": "execute_result"
    }
   ],
   "source": [
    "search.best_score_"
   ]
  },
  {
   "cell_type": "code",
   "execution_count": 125,
   "metadata": {},
   "outputs": [
    {
     "data": {
      "text/plain": [
       "{'model__alpha': 1.9, 'vectorizer__max_df': 0.6, 'vectorizer__min_df': 0.0}"
      ]
     },
     "execution_count": 125,
     "metadata": {},
     "output_type": "execute_result"
    }
   ],
   "source": [
    "search.best_params_"
   ]
  },
  {
   "cell_type": "markdown",
   "metadata": {},
   "source": [
    "Особого выигрыша от подгонки параметров не получили, однако точность на кроссвалидации очень близка к требуемому порогу. Соберём модель ещё раз, получим предсказания для тестового набора данных."
   ]
  },
  {
   "cell_type": "code",
   "execution_count": 127,
   "metadata": {},
   "outputs": [
    {
     "data": {
      "text/plain": [
       "0.7959883622090553"
      ]
     },
     "execution_count": 127,
     "metadata": {},
     "output_type": "execute_result"
    }
   ],
   "source": [
    "vectorizer = CountVectorizer(ngram_range=(1,1), preprocessor=TwitterTokenizerStemmer(), stop_words=optimal_stop_words, max_df=0.6, min_df=0.0)\n",
    "vectorized_X = vectorizer.fit_transform(X)"
   ]
  },
  {
   "cell_type": "code",
   "execution_count": 128,
   "metadata": {},
   "outputs": [],
   "source": [
    "clf = MultinomialNB(alpha=1.9)\n",
    "clf.fit(vectorized_X, Y)\n",
    "results = clf.predict(vectorizer.transform(test_data[\"text\"]))\n",
    "test_results = pd.DataFrame(results,columns=[\"y\"])\n",
    "test_results.to_csv(\"multinomialnb.csv\", columns=[\"y\"], index_label=\"Id\")"
   ]
  },
  {
   "cell_type": "markdown",
   "metadata": {},
   "source": [
    "### Linear SVC"
   ]
  },
  {
   "cell_type": "markdown",
   "metadata": {},
   "source": [
    "Попробуем просто запустить подгонку параметров по сетке."
   ]
  },
  {
   "cell_type": "code",
   "execution_count": 131,
   "metadata": {},
   "outputs": [],
   "source": [
    "pipe = Pipeline(steps=[('vectorizer', TfidfVectorizer(preprocessor=TwitterTokenizerStemmer(), ngram_range=(1,3))), \n",
    "                       ('model', LinearSVC())])\n",
    "\n",
    "param_grid = {\n",
    "    'vectorizer__max_df': np.linspace(0.1,0.6,26),\n",
    "    'model__C': np.linspace(0.7,0.9,11)\n",
    "}"
   ]
  },
  {
   "cell_type": "code",
   "execution_count": 132,
   "metadata": {},
   "outputs": [],
   "source": [
    "search = GridSearchCV(pipe, param_grid, iid=True, cv=10, scoring=\"accuracy\", n_jobs=-1, verbose=True)"
   ]
  },
  {
   "cell_type": "code",
   "execution_count": 133,
   "metadata": {},
   "outputs": [
    {
     "name": "stdout",
     "output_type": "stream",
     "text": [
      "Fitting 10 folds for each of 286 candidates, totalling 2860 fits\n"
     ]
    },
    {
     "name": "stderr",
     "output_type": "stream",
     "text": [
      "[Parallel(n_jobs=-1)]: Done  34 tasks      | elapsed:   12.3s\n",
      "[Parallel(n_jobs=-1)]: Done 184 tasks      | elapsed:  1.0min\n",
      "[Parallel(n_jobs=-1)]: Done 434 tasks      | elapsed:  2.4min\n",
      "[Parallel(n_jobs=-1)]: Done 784 tasks      | elapsed:  4.3min\n",
      "[Parallel(n_jobs=-1)]: Done 1234 tasks      | elapsed:  6.7min\n",
      "[Parallel(n_jobs=-1)]: Done 1784 tasks      | elapsed:  9.6min\n",
      "[Parallel(n_jobs=-1)]: Done 2434 tasks      | elapsed: 13.2min\n",
      "[Parallel(n_jobs=-1)]: Done 2860 out of 2860 | elapsed: 15.5min finished\n"
     ]
    },
    {
     "data": {
      "text/plain": [
       "GridSearchCV(cv=10, error_score='raise',\n",
       "       estimator=Pipeline(memory=None,\n",
       "     steps=[('vectorizer', TfidfVectorizer(analyzer='word', binary=False, decode_error='strict',\n",
       "        dtype=<class 'numpy.int64'>, encoding='utf-8', input='content',\n",
       "        lowercase=True, max_df=1.0, max_features=None, min_df=1,\n",
       "        ngram_range=(1, 3), norm='l2',\n",
       "        preprocessor=<__main__.T...ax_iter=1000,\n",
       "     multi_class='ovr', penalty='l2', random_state=None, tol=0.0001,\n",
       "     verbose=0))]),\n",
       "       fit_params=None, iid=True, n_jobs=-1,\n",
       "       param_grid={'vectorizer__max_df': array([0.1 , 0.12, 0.14, 0.16, 0.18, 0.2 , 0.22, 0.24, 0.26, 0.28, 0.3 ,\n",
       "       0.32, 0.34, 0.36, 0.38, 0.4 , 0.42, 0.44, 0.46, 0.48, 0.5 , 0.52,\n",
       "       0.54, 0.56, 0.58, 0.6 ]), 'model__C': array([0.7 , 0.72, 0.74, 0.76, 0.78, 0.8 , 0.82, 0.84, 0.86, 0.88, 0.9 ])},\n",
       "       pre_dispatch='2*n_jobs', refit=True, return_train_score='warn',\n",
       "       scoring='accuracy', verbose=True)"
      ]
     },
     "execution_count": 133,
     "metadata": {},
     "output_type": "execute_result"
    }
   ],
   "source": [
    "search.fit(X,Y)"
   ]
  },
  {
   "cell_type": "code",
   "execution_count": 134,
   "metadata": {},
   "outputs": [
    {
     "data": {
      "text/plain": [
       "0.7995"
      ]
     },
     "execution_count": 134,
     "metadata": {},
     "output_type": "execute_result"
    }
   ],
   "source": [
    "search.best_score_"
   ]
  },
  {
   "cell_type": "code",
   "execution_count": 135,
   "metadata": {},
   "outputs": [
    {
     "data": {
      "text/plain": [
       "{'model__C': 0.76, 'vectorizer__max_df': 0.14}"
      ]
     },
     "execution_count": 135,
     "metadata": {},
     "output_type": "execute_result"
    }
   ],
   "source": [
    "search.best_params_"
   ]
  },
  {
   "cell_type": "code",
   "execution_count": 137,
   "metadata": {},
   "outputs": [],
   "source": [
    "vectorizer = TfidfVectorizer(preprocessor=TwitterTokenizerStemmer(), ngram_range=(1,3), max_df=0.14)\n",
    "vectorized_X = vectorizer.fit_transform(X)"
   ]
  },
  {
   "cell_type": "code",
   "execution_count": 138,
   "metadata": {},
   "outputs": [],
   "source": [
    "clf = LinearSVC(C=0.76)\n",
    "clf.fit(vectorized_X, Y)\n",
    "results = clf.predict(vectorizer.transform(test_data[\"text\"]))\n",
    "test_results = pd.DataFrame(results,columns=[\"y\"])\n",
    "test_results.to_csv(\"linearcsv.csv\", columns=[\"y\"], index_label=\"Id\")"
   ]
  },
  {
   "cell_type": "markdown",
   "metadata": {},
   "source": [
    "### Выводы\n",
    "Хотя при первом приближении Multinomial Naive Bayes дал точность выше, но всё же более тонкая настройка сделала предпочтительнее Linear SVC. Это подтвердилось результатами тетсирования на отложенной выборке."
   ]
  },
  {
   "cell_type": "code",
   "execution_count": null,
   "metadata": {},
   "outputs": [],
   "source": []
  }
 ],
 "metadata": {
  "kernelspec": {
   "display_name": "Python 3",
   "language": "python",
   "name": "python3"
  },
  "language_info": {
   "codemirror_mode": {
    "name": "ipython",
    "version": 3
   },
   "file_extension": ".py",
   "mimetype": "text/x-python",
   "name": "python",
   "nbconvert_exporter": "python",
   "pygments_lexer": "ipython3",
   "version": "3.6.5"
  }
 },
 "nbformat": 4,
 "nbformat_minor": 2
}
