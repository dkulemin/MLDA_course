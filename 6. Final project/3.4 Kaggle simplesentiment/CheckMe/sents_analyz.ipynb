{
 "cells": [
  {
   "cell_type": "code",
   "execution_count": 1,
   "metadata": {},
   "outputs": [],
   "source": [
    "import numpy as np\n",
    "import pandas as pd\n",
    "from nltk.corpus import movie_reviews, stopwords\n",
    "from sklearn.feature_extraction.text import TfidfVectorizer\n",
    "from sklearn.linear_model import LogisticRegression\n",
    "from sklearn.model_selection import GridSearchCV\n",
    "from sklearn.pipeline import make_pipeline\n",
    "import sklearn\n",
    "from nltk.stem import WordNetLemmatizer\n",
    "from nltk import word_tokenize"
   ]
  },
  {
   "cell_type": "code",
   "execution_count": 2,
   "metadata": {},
   "outputs": [],
   "source": [
    "# Функция пред-обработки текста:\n",
    "# оставляем только слова и используем лемминг \n",
    "#\n",
    "def text_prep(t_prep):\n",
    "    t_train = []\n",
    "    for i in range(len(t_prep)):\n",
    "        tokens = word_tokenize(t_prep[i])\n",
    "        tokens = [word.lower() for word in tokens if word.isalpha()]\n",
    "        lemmatizer = WordNetLemmatizer()\n",
    "        tokens = [lemmatizer.lemmatize(t) for t in tokens]\n",
    "        txt = ' '.join(tokens)\n",
    "        t_train.append(txt)   \n",
    "    return t_train\n"
   ]
  },
  {
   "cell_type": "code",
   "execution_count": 3,
   "metadata": {},
   "outputs": [],
   "source": [
    "# Получаем значения X/y для обучения\n",
    "df_train = pd.read_csv('products_sentiment_train.tsv', header=None, sep='\\t')\n",
    "df_train.head()\n",
    "\n",
    "X_train = text_prep(df_train[0])\n",
    "y_train = df_train[1].values"
   ]
  },
  {
   "cell_type": "code",
   "execution_count": 5,
   "metadata": {},
   "outputs": [
    {
     "name": "stdout",
     "output_type": "stream",
     "text": [
      "['take around picture', 'i downloaded a trial version of computer associate ez firewall and antivirus and fell in love with a computer security system all over again', 'the plus the is a perfect solution if you need wireless coverage in a wider area or for a house a wa my case', 'i dont especially like how music file are unstructured basically they are just dumped into one folder with no organization like you might have in window explorer folder and subfolders', 'i wa using the cheapie pail and it worked ok until the opening device fell apart']\n",
      "[1 1 1 0 1]\n"
     ]
    }
   ],
   "source": [
    "# Визуально оцениваем правильность исходных данных\n",
    "print(X_train[0:5])\n",
    "print(y_train[0:5])"
   ]
  },
  {
   "cell_type": "code",
   "execution_count": 6,
   "metadata": {},
   "outputs": [
    {
     "name": "stderr",
     "output_type": "stream",
     "text": [
      "C:\\Users\\borovirp\\AppData\\Local\\Continuum\\anaconda3\\lib\\site-packages\\sklearn\\linear_model\\logistic.py:433: FutureWarning: Default solver will be changed to 'lbfgs' in 0.22. Specify a solver to silence this warning.\n",
      "  FutureWarning)\n"
     ]
    },
    {
     "name": "stdout",
     "output_type": "stream",
     "text": [
      "Наилучшее значение перекр проверки: 0.79\n",
      "Наилучшие параметры:\n",
      "{'logisticregression__C': 100, 'tfidfvectorizer__ngram_range': (1, 3)}\n"
     ]
    }
   ],
   "source": [
    "#================================Основная часть====================================================#\n",
    "# несколько предварительных тестов показали что TfidfVectorizer совместно с LogisticRegression\n",
    "# дает лучшие значения чем другие функции в данной задаче\n",
    "#\n",
    "#\n",
    "pipe = make_pipeline(TfidfVectorizer(min_df=1), LogisticRegression())\n",
    "\n",
    "# Задаем диапазон параметров\n",
    "param_grid = {\"logisticregression__C\": [0.001, 0.01, 0.1, 1, 10, 100],\n",
    "\"tfidfvectorizer__ngram_range\": [(1, 1), (1, 2), (1, 3)]}\n",
    "\n",
    "# Выполняем поиск оптимальных параметров\n",
    "grid = GridSearchCV(pipe, param_grid, cv=5)\n",
    "grid.fit(X_train, y_train)\n",
    "print(\"Наилучшее значение перекр проверки: {:.2f}\".format(grid.best_score_))\n",
    "print(\"Наилучшие параметры:\\n{}\".format(grid.best_params_))"
   ]
  },
  {
   "cell_type": "code",
   "execution_count": 7,
   "metadata": {},
   "outputs": [
    {
     "name": "stdout",
     "output_type": "stream",
     "text": [
      "['so why the small digital elph rather than one of the other camera with better resolution or picture quality size because unless it small i won cary it around', 'way through the first disk we played on it naturally on day after purchase the dvd player froze', 'better for the zen micro is outlook compatibility', 'play gameboy color game on it with goboy', 'likewise i heard norton professional version is fine too']\n",
      "[1 0 1 1 0]\n"
     ]
    }
   ],
   "source": [
    "# Подготавливаем тестовые значения\n",
    "df_test = pd.read_csv('products_sentiment_test.tsv', sep='\\t')\n",
    "\n",
    "text_test = text_prep(df_test['text'])\n",
    "print(text_test[0:5])\n",
    "\n",
    "# Выполняем анализ\n",
    "y = grid.predict(text_test)\n",
    "print(y[0:5])"
   ]
  },
  {
   "cell_type": "code",
   "execution_count": 8,
   "metadata": {},
   "outputs": [],
   "source": [
    "# Экспорт данных для Kaggle\n",
    "result = pd.DataFrame(data=y, columns=['y'])\n",
    "result.index.name='Id'\n",
    "result.to_csv('result.csv')"
   ]
  }
 ],
 "metadata": {
  "kernelspec": {
   "display_name": "Python 3",
   "language": "python",
   "name": "python3"
  },
  "language_info": {
   "codemirror_mode": {
    "name": "ipython",
    "version": 3
   },
   "file_extension": ".py",
   "mimetype": "text/x-python",
   "name": "python",
   "nbconvert_exporter": "python",
   "pygments_lexer": "ipython3",
   "version": "3.7.0"
  }
 },
 "nbformat": 4,
 "nbformat_minor": 2
}
