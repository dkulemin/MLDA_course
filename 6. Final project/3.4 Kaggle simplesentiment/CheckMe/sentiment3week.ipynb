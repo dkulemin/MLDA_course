{
 "cells": [
  {
   "cell_type": "markdown",
   "metadata": {},
   "source": [
    "# Соревнование по сентимент-анализу\n",
    "\n",
    "## Сентимент-анализ отзывов на товары (простая версия)"
   ]
  },
  {
   "cell_type": "code",
   "execution_count": 9,
   "metadata": {},
   "outputs": [
    {
     "name": "stdout",
     "output_type": "stream",
     "text": [
      "[nltk_data] Downloading package wordnet to\n",
      "[nltk_data]     C:\\Users\\Lera\\AppData\\Roaming\\nltk_data...\n",
      "[nltk_data]   Unzipping corpora\\wordnet.zip.\n"
     ]
    },
    {
     "data": {
      "text/plain": [
       "True"
      ]
     },
     "execution_count": 9,
     "metadata": {},
     "output_type": "execute_result"
    }
   ],
   "source": [
    "import numpy as np\n",
    "import pandas as pd\n",
    "\n",
    "from sklearn.pipeline import make_pipeline\n",
    "from sklearn.model_selection import cross_val_score\n",
    "from sklearn.linear_model import LogisticRegression, SGDClassifier\n",
    "from sklearn.svm import LinearSVC\n",
    "from sklearn.feature_extraction.text import CountVectorizer, TfidfVectorizer\n",
    "from sklearn.naive_bayes import MultinomialNB\n",
    "\n",
    "import nltk\n",
    "import re\n",
    "import string\n",
    "nltk.download('wordnet')"
   ]
  },
  {
   "cell_type": "markdown",
   "metadata": {},
   "source": [
    "#### Список стоп-слов:"
   ]
  },
  {
   "cell_type": "code",
   "execution_count": 10,
   "metadata": {},
   "outputs": [],
   "source": [
    "stop_words = nltk.corpus.stopwords.words('english')"
   ]
  },
  {
   "cell_type": "markdown",
   "metadata": {},
   "source": [
    "#### Загрузим данные:"
   ]
  },
  {
   "cell_type": "code",
   "execution_count": 11,
   "metadata": {},
   "outputs": [],
   "source": [
    "train = pd.read_csv('products_sentiment_train.tsv', sep='\\t', header=None, names=['text', 'target'])\n",
    "test = pd.read_csv('products_sentiment_test.tsv', sep='\\t', index_col='Id')"
   ]
  },
  {
   "cell_type": "code",
   "execution_count": 12,
   "metadata": {},
   "outputs": [],
   "source": [
    "sample = pd.read_csv('products_sentiment_sample_submission.csv')"
   ]
  },
  {
   "cell_type": "code",
   "execution_count": 13,
   "metadata": {},
   "outputs": [
    {
     "data": {
      "text/plain": [
       "0            2 . take around 10,000 640x480 pictures .\n",
       "1    i downloaded a trial version of computer assoc...\n",
       "2    the wrt54g plus the hga7t is a perfect solutio...\n",
       "3    i dont especially like how music files are uns...\n",
       "4    i was using the cheapie pail ... and it worked...\n",
       "Name: text, dtype: object"
      ]
     },
     "execution_count": 13,
     "metadata": {},
     "output_type": "execute_result"
    }
   ],
   "source": [
    "train.text.head()"
   ]
  },
  {
   "cell_type": "markdown",
   "metadata": {},
   "source": [
    "#### Функция для преобразования текста отзыва. Удаляем все символы пунктуации, слова с цифрами, производим лемматизацию:"
   ]
  },
  {
   "cell_type": "code",
   "execution_count": 14,
   "metadata": {},
   "outputs": [],
   "source": [
    "from nltk.stem import WordNetLemmatizer\n",
    "wordnet_lemmatizer = WordNetLemmatizer()"
   ]
  },
  {
   "cell_type": "code",
   "execution_count": 15,
   "metadata": {},
   "outputs": [],
   "source": [
    "def hasNumbers(inputString):\n",
    "    return any(char.isdigit() for char in inputString)\n",
    "\n",
    "regex = re.compile('[%s]' % re.escape(string.punctuation))\n",
    "\n",
    "def filt(sent):\n",
    "    sent = regex.sub('', sent)\n",
    "    words = [x.strip() for x in sent.split() if not hasNumbers(x)]\n",
    "    result = []\n",
    "    for word in words:\n",
    "        word = wordnet_lemmatizer.lemmatize(word)\n",
    "        if word in stop_words:\n",
    "            continue\n",
    "        result.append(word)\n",
    "    return ' '.join(result)"
   ]
  },
  {
   "cell_type": "code",
   "execution_count": 16,
   "metadata": {},
   "outputs": [],
   "source": [
    "train['text_filt'] = train.text.apply(filt)"
   ]
  },
  {
   "cell_type": "code",
   "execution_count": 17,
   "metadata": {},
   "outputs": [],
   "source": [
    "test['text_filt'] = test.text.apply(filt)"
   ]
  },
  {
   "cell_type": "markdown",
   "metadata": {},
   "source": [
    "#### Выберем классификатор:"
   ]
  },
  {
   "cell_type": "code",
   "execution_count": 18,
   "metadata": {},
   "outputs": [],
   "source": [
    "def score(clf):\n",
    "    scores = cross_val_score(clf, train.text_filt, train.target, cv=5)\n",
    "    print(\"CLF score mean = {:.5f}, std = {:.5f}\".format(scores.mean(), scores.std()))"
   ]
  },
  {
   "cell_type": "code",
   "execution_count": 19,
   "metadata": {},
   "outputs": [
    {
     "name": "stdout",
     "output_type": "stream",
     "text": [
      "CLF score mean = 0.75198, std = 0.01793\n",
      "CLF score mean = 0.71750, std = 0.01544\n"
     ]
    },
    {
     "name": "stderr",
     "output_type": "stream",
     "text": [
      "C:\\Users\\Lera\\Anaconda\\lib\\site-packages\\sklearn\\linear_model\\stochastic_gradient.py:128: FutureWarning: max_iter and tol parameters have been added in <class 'sklearn.linear_model.stochastic_gradient.SGDClassifier'> in 0.19. If both are left unset, they default to max_iter=5 and tol=None. If tol is not None, max_iter defaults to max_iter=1000. From 0.21, default max_iter will be 1000, and default tol will be 1e-3.\n",
      "  \"and default tol will be 1e-3.\" % type(self), FutureWarning)\n"
     ]
    },
    {
     "name": "stdout",
     "output_type": "stream",
     "text": [
      "CLF score mean = 0.73398, std = 0.01360\n",
      "CLF score mean = 0.75448, std = 0.01255\n"
     ]
    }
   ],
   "source": [
    "for classf in [LogisticRegression, SGDClassifier, LinearSVC, MultinomialNB]:\n",
    "    clf = make_pipeline(CountVectorizer(ngram_range=(1,1), stop_words='english'), classf())\n",
    "    score(clf)"
   ]
  },
  {
   "cell_type": "markdown",
   "metadata": {},
   "source": [
    "#### Посмотрим на предложения, которые мы плохо определяем:"
   ]
  },
  {
   "cell_type": "code",
   "execution_count": 20,
   "metadata": {},
   "outputs": [
    {
     "name": "stderr",
     "output_type": "stream",
     "text": [
      "C:\\Users\\Lera\\Anaconda\\lib\\site-packages\\sklearn\\cross_validation.py:41: DeprecationWarning: This module was deprecated in version 0.18 in favor of the model_selection module into which all the refactored classes and functions are moved. Also note that the interface of the new CV iterators are different from that of this module. This module will be removed in 0.20.\n",
      "  \"This module will be removed in 0.20.\", DeprecationWarning)\n"
     ]
    }
   ],
   "source": [
    "from sklearn.cross_validation import train_test_split\n",
    "\n",
    "ttrain, ttest = train_test_split(train)"
   ]
  },
  {
   "cell_type": "code",
   "execution_count": 21,
   "metadata": {},
   "outputs": [
    {
     "name": "stdout",
     "output_type": "stream",
     "text": [
      "1: their website had a download that helped remove those , although i had to manually remove a good number of files from the \" programs \" directory .\n",
      "1: by the way , i use the norton 2003 corporate at work with absolutely no trouble .\n",
      "1: multimedia functions are enhanced by multi-slide mms messages and a gallery for organizing digital content captured or downloaded with the phone .\n",
      "0: i 'm giving it 1 star because as compared to other nokia phones , its a 1 , compared to other blunders by other companies ( such a samsung and motorrola ) it might be good .... but if you 're getting a nokia , don 't get this one .\n",
      "1: less than a cheap cordless drill or a laminate trimmer .\n",
      "0: i have read the installation instructions for both nis 2004 and nav 2004 prior to installation , but still ended up with the same result ... junk software .\n",
      "0: the quick sync is n't any good becuase it either needs to be configured properly or just is n't very useful . \n",
      "0: this player is not worth any price and i recommend that you do n't purchase it . \n",
      "1: i received this item for christmas and it has met and exceeded all my standards . \n",
      "0: however , i suspect that many people are having a bad experience -- do not purchase this product .\n",
      "0: even the instruction booklet is out of order .\n",
      "1: at first i had a problem with some smell , then i realized if you flip the lid back and always keep the same side facing in - then there is no smell at all !\n",
      "1: the sd500 software install was seamless and the product documentation is very detailed .\n",
      "0: you can 't change the battery , so i don 't know what i 'm going to do in a year or so .\n",
      "1: if you don 't mind all the buttons being touch sensitive , i 'd recomment buying it to try out , and also buy an extra 2 year warrenty for it ( there are some offered here , for about $ 15 dollors i think ) .\n",
      "0: if someone asked me flat out , i 'd say to go woth something else .\n",
      "0: overall , a very disappointing product . \n",
      "1: i imagine if i left my player untouched ( no backlight ) it could play for considerably more than 12 hours at a low volume level .\n",
      "0: i 've have many nokia 's and while this is the best for features , it 's the worst as a phone .\n",
      "1: the card basically installed itself and the \" install wizard \" on the cd that came with the router basically set the router up to work with one computer ( with the 54g card ) and also a second computer in my house ( with an 11b card ) .\n",
      "0: ring tones only come with crazy songs and annoying rings , there is only one ring that sounds close to a regular ring . \n",
      "0: after attempting to navigate the clumsy touch-pad system , i could not get the unit to download my wma files .\n",
      "0: it does take some getting used to .\n",
      "1: i 'm not sure why all the bad reviews , my computer isn 't especially slowed down and i have win ' 98 .\n",
      "1: i found the controls very intuitive and learned how to manuver through the menus quickly . \n",
      "0: it seems like the software is just not responding .\n",
      "0: do not buy this product -- \n",
      "0: the flaw is inside the zen .\n",
      "0: my other nit is that it didn 't include at least some kind of carrying case for everything .\n",
      "0: the box included a little polyester , pull-string bag , ( yes , you read right a bag , something a boy would carry ten marbles in ) and tries to pass it off as the case .\n",
      "0: 1 . pictures wo n't transfer to pc directly from the camera using the included transfer cable . \n",
      "0: battery life is not long enough if and only if you take a lot of video clips and play it back on the camera a lot of times ... the camera / battery gets a little bit warm too when you use it for a long time but it 's normal .\n",
      "0: i 've often struggled to get something to work the way i want it , and hate to have to carry the manual with me all the time !\n",
      "0: ( ... ) like most soho routers , it has nearly non-existant logging .\n",
      "0: the buttons are rather stiff .\n",
      "0: sometimes a suite is not a good deal and all you get is a bundle of headaches .\n",
      "1: audio is mono and fairly acceptable , quiet also with little distortions .\n",
      "0: when you consider expandability ( downloads via computer ) , the numerous features , two transmission programs and multiple storage devices , dependability - this is a phone that isn 't easy to out-grow .\n",
      "0: my daughter is only 4 months old and we do notice an odor .\n",
      "0: the plunge action isn 't smooth unless you make it so .\n",
      "1: the touchpad is great once you get used to it , and i much prefer it to standard buttons or scroll wheels ( as on the dell dj for example ) .\n",
      "0: one more thing , the default ringtones that come with the phone are horrible . \n",
      "0: the screen may be a little smaller , but it is very readable and does n't come in the overused blue . \n",
      "1: the player does seem to play dvds adequately enough . \n",
      "0: dont rely on t-mobile rebates .\n",
      "0: the ipod mini is smaller and sexier , albeit limited in supported formats and the rio karma is a far better value .\n",
      "0: on average , indoor shots with a flash are not quite as good as 35mm . \n",
      "0: the panel seems like it will come off very easily as other people have said . \n",
      "0: it has an equalizer , but the iriver h10-20gb has a lot more presets than the ipod .\n",
      "0: i took my zen micro with me over the weekend , and was forced to lug my laptop with me on the trip for one reason : to keep the zen micro charged .\n",
      "0: same story as everybody else when trying to get service from apex - nothing . \n",
      "0: however , configuration of my system and actual setup of the router for wireless use took me more than 3 hours , and briefly made me reconsider my choice to forego the airport and its notoriously easy setup .\n",
      "0: there isn 't much features on the ipod at all , except games .\n",
      "0: the 2600 had false silver plate instead of play display . \n",
      "0: i can 't rate it one star only because when it does work it 's pretty good . \n",
      "1: get it , it 's woth every penny ! ! \n",
      "1: 6 the nikon coolpix line is a well-established line so you know support and parts are going to be available even when nikon releases a newer model . \n",
      "0: only one disk played through to completion successfully . \n",
      "0: another problem i had with this camera was the zoom function .\n",
      "0: but not good enough for me .\n",
      "0: the creative mediasource software that comes with the zen micro is cluttered , and excludes my favorite feature in itunes , the ability to automatically copy everything you import into a certain folder .\n",
      "0: both of them keep disconnecting on me and interruptions are 3 or 4 times per day at best .\n",
      "0: i find that if you remove the springs it is much easier to adjust and will not stick much .\n",
      "0: 2 . you still have to clean the thing ! !\n",
      "1: the keys are laid out normal so there is no guessing . \n",
      "0: first , the sound quality is okay , but ( as at least one other reviewer has mentioned ) the eax can cause audio interference after about 30 minutes . \n",
      "0: i also own a canon digital rebel and i agree that the advanced controls on the sd500 are not as robust , but overall picture quality goes head-to-head with the digital rebel .\n",
      "0: each of the 4 lasted less than six months . \n",
      "1: i just got an older 866 mhz system with 512 pc 133 ram and it also runs fine on that .\n",
      "1: even viewed cds full of jpgs . \n",
      "0: * the ipod is overly sensitive to just about everything and gets scratched easily .\n",
      "0: the more subtle tones that were included with the phone are hard to hear at times . \n",
      "0: but when we went to use it again , there was sound but no picture . \n",
      "0: mine generally requires a charege every 48 hours or so and i don 't really talk on it that much .\n",
      "1: there is also a small covering for the lens , so you need not worry that the lens will get scratched .\n",
      "0: i 'm an advocate of nokia , but this phone and the following models ( 7610 ) , are seemingly a desperate trial at squeezing as much under-engineered and experimental technologies in one sloppy phone .\n",
      "0: i thought given all the \" 10 \" reviews about this camera that i would buy it in spite of being a bit pricey .\n",
      "0: this is definitely one of those products , especially as the company is leaning more towards making a profit .\n",
      "1: 5 . check traffic411.com for la traffic on the 405 .\n",
      "1: it does n't smell like burning plastic when you open the drive . \n",
      "1: the nomad explorer provide most of the functionality offered by 3rd party programs like notmad . \n",
      "0: what is added in functionality ( battery replacement ) detracts in build quality as the face plate is prone to popping off . \n",
      "0: the lens is visible in the viewfinder when the lens is set to the wide angle , but since i use the lcd most of the time , this is not really much of a bother to me . \n",
      "0: - radio quality : weak reception\n",
      "0: this is not an enterprise piece of hardware that you will find in an office or corporate environment .\n",
      "0: first thing i noticed was that the creative wasn 't well made .\n",
      "0: after multilple tries , one of the disks was finally recognized but video was poor and features not available . \n",
      "0: too bad the product is cumbersome and intertwined trying to do so much at one time .\n",
      "0: 4 ) the viewfinder is borderuer lcd scoying . \n",
      "0: the cut-outs for the controls is not thought out as there is too much material in the way to adequately access the controls , especially the scroll wheel . \n",
      "1: now that i own it , however , i can 't imagine being without it ! \n",
      "0: i built my own router table with a tilt up top & made a hand crank to replace the height adjustment knob & these two things make it easy to change out & raise or lower the bits .\n",
      "0: it could be a little bit bigger , but it 's easy to get used to . \n",
      "1: 3 band and you can just change the sim card in it to be able to use it in europe with another service provider .\n",
      "0: one caveat i have is that i understand the ipod does not save the photos in such a way that the quality of the image is preserved .\n",
      "1: by no means do you have to be a tech junkie to be able to install it , just be able to put a cd in the computer and it tells you what to do .\n",
      "1: this program enables the user to batch convert and convert audio files from one format to another .\n",
      "0: it was ( i sold it after a few months ) too expensive for the shots that i got . \n",
      "0: i added a crank for those times when i need to make fine adjustments , but i seldom use it .\n",
      "0: its steel backing picks up fingerprints and scratches easily , not great from a cosmetic standpoint .\n",
      "1: wow - was that disappointing and we didn 't even have it 6 months before it broke .\n",
      "0: i am bored with the silver look . \n",
      "0: on occasion i 'm not able to connect to the phone with isync via bluetooth but i found that rebooting the phone seems to solve this problem .\n",
      "0: i will also say that it takes a very long moment for the camera to do its digital image processing between the time you press the button and when the camera actually takes the picture .\n",
      "1: the setup was a breeze , i had some reservations about a wireless network ( see my review for linksys wet11 ) but this item was on sale as well as the wet11 so i just had to splruge .\n",
      "1: i downloaded a trial version of computer associates ez firewall and antivirus and fell in love with a computer security system all over again .\n",
      "0: i am seriously considering purchasing another wrench and just not using the \" sliding wrench \" which comes on the router .\n",
      "1: the lens retracts and has its own metal cover so you don 't need to fuss with a lens cap .\n",
      "0: it has a 3x optical zoom , which is average for these cameras . \n",
      "1: 3 ) joy stick for eazy navigation , 35mb memory card to store the pictures and stuff .\n",
      "0: this camera uses a lithium battery , i find lithium batteries to be highly inconvenient ; because what if you are on vacation , where the nearest place to buy batteries is just a gas station--there is no way that you are going to find lithium batteries there .\n",
      "0: this product is too fragile for normal use . \n",
      "0: it 's not the heaviest around ( i think porter-cable has that distinction ) , but i found its combination of weight and power really too much to allow precise handheld operation .\n",
      "0: even the pdf manual that comes with it is pretty vague for someone not familiar with \" mac settings \" , etc .\n"
     ]
    }
   ],
   "source": [
    "clf = make_pipeline(CountVectorizer(ngram_range=(1,1)), MultinomialNB())\n",
    "clf.fit(ttrain.text_filt, ttrain.target)\n",
    "predictions = clf.predict(ttest.text_filt)\n",
    "\n",
    "for x in ttest[ttest.target != predictions].iterrows():\n",
    "    print(\"{}: {}\".format(x[1]['target'], x[1]['text']))"
   ]
  },
  {
   "cell_type": "markdown",
   "metadata": {},
   "source": [
    "#### Обучим классификатор:"
   ]
  },
  {
   "cell_type": "code",
   "execution_count": 22,
   "metadata": {},
   "outputs": [
    {
     "data": {
      "text/plain": [
       "Pipeline(memory=None,\n",
       "     steps=[('countvectorizer', CountVectorizer(analyzer=u'word', binary=False, decode_error=u'strict',\n",
       "        dtype=<type 'numpy.int64'>, encoding=u'utf-8', input=u'content',\n",
       "        lowercase=True, max_df=1.0, max_features=None, min_df=1,\n",
       "        ngram_range=(1, 1), preprocessor=None, stop_words=None,\n",
       "        strip_accents=None, token_pattern=u'(?u)\\\\b\\\\w\\\\w+\\\\b',\n",
       "        tokenizer=None, vocabulary=None)), ('multinomialnb', MultinomialNB(alpha=1.0, class_prior=None, fit_prior=True))])"
      ]
     },
     "execution_count": 22,
     "metadata": {},
     "output_type": "execute_result"
    }
   ],
   "source": [
    "clf = make_pipeline(CountVectorizer(ngram_range=(1,1)), MultinomialNB())\n",
    "clf.fit(train.text_filt, train.target)"
   ]
  },
  {
   "cell_type": "markdown",
   "metadata": {},
   "source": [
    "#### Сохраним предсказания:"
   ]
  },
  {
   "cell_type": "code",
   "execution_count": 23,
   "metadata": {},
   "outputs": [],
   "source": [
    "predictions = clf.predict(test.text_filt)"
   ]
  },
  {
   "cell_type": "code",
   "execution_count": 24,
   "metadata": {},
   "outputs": [],
   "source": [
    "out = pd.DataFrame(predictions, index=test.index, columns=['y'])"
   ]
  },
  {
   "cell_type": "code",
   "execution_count": 25,
   "metadata": {},
   "outputs": [],
   "source": [
    "out.to_csv('submission.csv')"
   ]
  }
 ],
 "metadata": {
  "anaconda-cloud": {},
  "kernelspec": {
   "display_name": "Python 3",
   "language": "python",
   "name": "python3"
  },
  "language_info": {
   "codemirror_mode": {
    "name": "ipython",
    "version": 3
   },
   "file_extension": ".py",
   "mimetype": "text/x-python",
   "name": "python",
   "nbconvert_exporter": "python",
   "pygments_lexer": "ipython3",
   "version": "3.7.0"
  }
 },
 "nbformat": 4,
 "nbformat_minor": 1
}
