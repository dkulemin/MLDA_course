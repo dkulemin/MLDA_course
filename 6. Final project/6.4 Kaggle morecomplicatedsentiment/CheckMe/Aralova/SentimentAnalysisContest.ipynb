{
 "cells": [
  {
   "cell_type": "markdown",
   "metadata": {},
   "source": [
    "# Разработка сентимент-анализа под задачу заказчика"
   ]
  },
  {
   "cell_type": "markdown",
   "metadata": {},
   "source": [
    "## Анализ задачи"
   ]
  },
  {
   "cell_type": "markdown",
   "metadata": {},
   "source": [
    "По условию задачи дана только небольшая тестовая выборка, подготовленной обучающей выборки нет. Поэтому выполнение задания можно разделить на следующие этапы:\n",
    "* Подготовка обучающей выборки\n",
    "    * Нахождение данных для обучения\n",
    "    * Разметка данных на классы\n",
    "* Обучение модели сентимент-анализа\n",
    "    * Подбор алгоритма обучения\n",
    "    * Экспериментирование с разными обучающими выборками и параметрами обучения\n",
    "* Запуск обученной модели на тестовых данных"
   ]
  },
  {
   "cell_type": "markdown",
   "metadata": {},
   "source": [
    "   ## Подготовка обучающей выборки\n",
    "   ### Нахождение данных для обучения"
   ]
  },
  {
   "cell_type": "markdown",
   "metadata": {},
   "source": [
    "Визуальный анализ тестовых данных показывает, что речь идет об отзывах на мобильные телефоны. Таким образом, нужно где-то найти базу отзывов на телефоны на русском языке. В первую очередь на ум приходит сервис Яндекс-Маркет, содержащий сведения и отзывы на множество моделей телефонов. Кроме того, отзывы на нем разделены на \"Достоинства\", \"Недостатки\" и \"Комментарий\", а также имеют общую оценку-рейтинг, которую можно было бы использовать для разметки на классы.\n",
    "\n",
    "Для парсинга страниц с отзывами была использована библиотека Scrapy, упомянутая в предыдущих заданиях. Эта библиотека позволила обойти ограничения, связанные с блокировкой автоматических запросов со стороны сайта.\n",
    "\n",
    "Использование Scrapy предполагает создание отдельного проекта со своей структурой, поэтому целиком привести его здесь и запустить из Ipython не получится. Код проекта приложен к архиву.\n",
    "\n",
    "Было использовано 2 подхода к парсингу отзывов:\n",
    "- парсинг полей \"Достоинства\" и \"Недостатки\"\n",
    "- парсинг поля \"Комментарий\" и \"Оценка\"\n",
    "\n",
    "Класс с основной логикой парсинга для библиотеки Scrapy (спайдер) приведен ниже:                                "
   ]
  },
  {
   "cell_type": "code",
   "execution_count": 1,
   "metadata": {
    "collapsed": true
   },
   "outputs": [],
   "source": [
    "import scrapy\n",
    "\n",
    "# to run:\n",
    "# scrapy crawl reviews -o reviews.json\n",
    "class ReviewsSpider(scrapy.Spider):\n",
    "    name = \"reviews\"\n",
    "\n",
    "    start_urls = ['https://market.yandex.ru/catalog/54726/list?how=opinions&deliveryincluded=0&onstock=1']    \n",
    "\n",
    "    def __init__(self):\n",
    "        self.count = 0\n",
    "        self.LIMIT = 5\n",
    "\n",
    "    def parse(self, response):\n",
    "        # follow links to phone pages\n",
    "        for href in response.css('a.snippet-card__header-link::attr(href)').extract():\n",
    "            link = href[:href.index('?')] + '/reviews'\n",
    "            yield scrapy.Request(response.urljoin(link),\n",
    "                                 callback=self.parse_phone)\n",
    "\n",
    "        # follow link to the next review page\n",
    "        next_page = response.css('a.n-pager__button-next::attr(href)').extract_first()\n",
    "        if self.count < self.LIMIT and next_page is not None:\n",
    "            next_page = response.urljoin(next_page)\n",
    "            self.count += 1\n",
    "            yield scrapy.Request(next_page, callback=self.parse)\n",
    "\n",
    "    def parse_phone(self, response):\n",
    "        for review in response.css('div.product-review-item'):                        \n",
    "            pos = ' '.join(review.css('.product-review-item__stat:nth-child(4) .product-review-item__text::text').extract())                                       \n",
    "            neg = ' '.join(review.css('.product-review-item__stat:nth-child(5) .product-review-item__text::text').extract())\n",
    "            if len(pos) > len(neg):\n",
    "                text = pos\n",
    "                rating = 5\n",
    "            else:\n",
    "                text = neg\n",
    "                rating = 1\n",
    "            yield {\n",
    "                'text': text,       \n",
    "                'rating': rating,              \n",
    "            }\n",
    "\n",
    "        # follow link to the next review page\n",
    "        next_page = response.css('a.n-pager__button-next::attr(href)').extract_first()\n",
    "        if next_page is not None:\n",
    "            next_page = response.urljoin(next_page)\n",
    "            yield scrapy.Request(next_page, callback=self.parse_phone)"
   ]
  },
  {
   "cell_type": "markdown",
   "metadata": {},
   "source": [
    "В качестве стартового URL используется адрес страницы со списком наиболее популярных телефонов по числу отзывов. Затем парсер переходит по ссылкам на страницы отзывов каждого телефона в списке и далее переходя по ссылкам \"листает\" страницы. Для отзывов из блока \"Достоинства\" присваивался рейтинг 5, из \"Недостатков\" - 1.\n",
    "\n",
    "В другом варианте спайдера использовались блоки с полями \"Комментарий\" и \"Оценка\". Код спайдера приведен ниже:"
   ]
  },
  {
   "cell_type": "code",
   "execution_count": 2,
   "metadata": {
    "collapsed": true
   },
   "outputs": [],
   "source": [
    "import scrapy\n",
    "\n",
    "# to run:\n",
    "# scrapy crawl comments -o comments.json\n",
    "class CommentsSpider(scrapy.Spider):\n",
    "    name = \"comments\"\n",
    "\n",
    "    start_urls = ['https://market.yandex.ru/catalog/54726/list?how=opinions&deliveryincluded=0&onstock=1']    \n",
    "\n",
    "    def __init__(self):\n",
    "        self.count = 0\n",
    "        self.LIMIT = 15\n",
    "\n",
    "    def parse(self, response):\n",
    "        # follow links to phone pages\n",
    "        for href in response.css('a.snippet-card__header-link::attr(href)').extract():\n",
    "            link = href[:href.index('?')] + '/reviews'\n",
    "            yield scrapy.Request(response.urljoin(link),\n",
    "                                 callback=self.parse_phone)\n",
    "\n",
    "        # follow link to the next review page\n",
    "        next_page = response.css('a.n-pager__button-next::attr(href)').extract_first()\n",
    "        if self.count < self.LIMIT and next_page is not None:\n",
    "            next_page = response.urljoin(next_page)\n",
    "            self.count += 1\n",
    "            yield scrapy.Request(next_page, callback=self.parse)\n",
    "\n",
    "    def parse_phone(self, response):\n",
    "        for review in response.css('div.product-review-item'):            \n",
    "\n",
    "            yield {\n",
    "                'text': ' '.join(review.css('.product-review-item__stat:nth-child(6) .product-review-item__text::text').extract()),       \n",
    "                'rating': review.css('div.rating::text').extract_first(),              \n",
    "            }\n",
    "\n",
    "        # follow link to the next review page\n",
    "        next_page = response.css('a.n-pager__button-next::attr(href)').extract_first()\n",
    "        if next_page is not None:\n",
    "            next_page = response.urljoin(next_page)\n",
    "            yield scrapy.Request(next_page, callback=self.parse_phone)"
   ]
  },
  {
   "cell_type": "markdown",
   "metadata": {},
   "source": [
    "В этом варианте рейтинг мог быть любым от 1 до 5.\n",
    "Результатом работы спайдеров scrapy были JSON-файлы вида:\n",
    "\n",
    "    {\"text\": \"Постоянно глючит. Нормально смогла попользоваться, используя различные приложения, 1 год. Дальше глюкнул\\r Постоянно зависал. Из программ вылетал. Пользовалась всё остальное время не как смартфоном, а как телефоном.\", \"rating\": 1},\n",
    "    {\"text\": \"1. HTC\\r 2. Отличное качество изготовления\\r 3. Отличное \\\"железо\\\", не тормозит\\r 4. OS Android 4\\r 5. Стекло не боится царапин\\r 6. Play Market\\r 7. Много аксессуаров\", \"rating\": 5},\n",
    "    {\"text\": \"не советую покупать данное устройство.\", \"rating\": \"3\"} ...\n",
    "    \n",
    "Количество записей в выборке в ходе экспериментов варьировалось от 6000 до 12000 записей."
   ]
  },
  {
   "cell_type": "markdown",
   "metadata": {},
   "source": [
    "### Разметка данных на классы\n",
    "Разметка на классы выполнялась на основе поля \"rating\" из JSON-файла с отзывами. Если рейтинг меньше 4, то принимался класс 0 (отрицательный отзыв), иначе - 1 (положительный отзыв).\n",
    "\n",
    "Далее приведен код загрузки данных, предобработки, обучения модели, нахождения оптимальных параметров и предсказания для тестовых данных."
   ]
  },
  {
   "cell_type": "code",
   "execution_count": 29,
   "metadata": {},
   "outputs": [
    {
     "name": "stdout",
     "output_type": "stream",
     "text": [
      "Populating the interactive namespace from numpy and matplotlib\n"
     ]
    }
   ],
   "source": [
    "from sklearn.feature_extraction.text import CountVectorizer \n",
    "from sklearn.pipeline import Pipeline\n",
    "from sklearn.linear_model import LogisticRegression\n",
    "from sklearn.model_selection import cross_val_score\n",
    "from sklearn.feature_extraction.text import TfidfVectorizer\n",
    "from sklearn.feature_extraction.text import TfidfTransformer\n",
    "from sklearn.svm import LinearSVC\n",
    "from sklearn.linear_model import SGDClassifier\n",
    "import pandas as pd\n",
    "import datetime\n",
    "import numpy as np\n",
    "from time import time\n",
    "from sklearn.grid_search import GridSearchCV\n",
    "from sklearn.externals import joblib\n",
    "from sklearn.metrics import accuracy_score\n",
    "from lxml import etree\n",
    "import seaborn as sns\n",
    "%pylab inline"
   ]
  },
  {
   "cell_type": "markdown",
   "metadata": {},
   "source": [
    "Добавление обрамляющих тегов в файл с тестовой выборкой, чтобы он был валидным XML-документом (для удобства парсинга)"
   ]
  },
  {
   "cell_type": "code",
   "execution_count": 5,
   "metadata": {
    "collapsed": true
   },
   "outputs": [],
   "source": [
    "def add_outer_tags(filename):\n",
    "    with open(filename, 'r+') as f:        \n",
    "        content = f.read()        \n",
    "        f.seek(0, 0)\n",
    "        firstline = f.readline()\n",
    "        if '<data>' not in firstline:            \n",
    "            f.seek(0, 0)\n",
    "            f.write('<data>' + '\\n' + content + '\\n</data>')        "
   ]
  },
  {
   "cell_type": "markdown",
   "metadata": {},
   "source": [
    "Определение класса для объектов обучающей выборки"
   ]
  },
  {
   "cell_type": "code",
   "execution_count": 6,
   "metadata": {
    "collapsed": true
   },
   "outputs": [],
   "source": [
    "def make_target(row):\n",
    "   if row['rating'] < 4:\n",
    "      return 0\n",
    "   else:\n",
    "      return 1"
   ]
  },
  {
   "cell_type": "markdown",
   "metadata": {},
   "source": [
    "Предобработка обучающей выборки, добавление целевой метки"
   ]
  },
  {
   "cell_type": "code",
   "execution_count": 7,
   "metadata": {},
   "outputs": [],
   "source": [
    "def prepare_data_set(data):\n",
    "    data['target'] = data.apply(lambda row: make_target(row),axis=1)\n",
    "    data = data.dropna(subset=['target'])\n",
    "    data['target'] = data['target'].astype(int)   \n",
    "    return data"
   ]
  },
  {
   "cell_type": "markdown",
   "metadata": {},
   "source": [
    "Итератор по XML-файлу с тестовыми данными"
   ]
  },
  {
   "cell_type": "code",
   "execution_count": 8,
   "metadata": {
    "collapsed": true
   },
   "outputs": [],
   "source": [
    "def iter_tree(etree):\n",
    "    n = -1\n",
    "    for review in etree.iter('review'):\n",
    "        n += 1\n",
    "        yield (n, review.text)"
   ]
  },
  {
   "cell_type": "markdown",
   "metadata": {
    "collapsed": true
   },
   "source": [
    "Функция загрузки данных по обучающей и тестовой выборкам в датафреймы"
   ]
  },
  {
   "cell_type": "code",
   "execution_count": 9,
   "metadata": {
    "collapsed": true
   },
   "outputs": [],
   "source": [
    "def get_dataframes(training_data_file, test_data_file):\n",
    "    df_training = pd.read_json(training_data_file)\n",
    "    df_training = prepare_data_set(df_training)\n",
    "    \n",
    "    add_outer_tags(test_data_file)\n",
    "    tree = etree.parse(test_data_file)\n",
    "    df_test = pd.DataFrame(list(iter_tree(tree)), columns=['id', 'text'])\n",
    "    \n",
    "    return df_training, df_test"
   ]
  },
  {
   "cell_type": "markdown",
   "metadata": {},
   "source": [
    "Преобразование данных из датафреймов в массивы"
   ]
  },
  {
   "cell_type": "code",
   "execution_count": 10,
   "metadata": {
    "collapsed": true
   },
   "outputs": [],
   "source": [
    "def read_data(df_training, df_test):\n",
    "    X_train = df_training['text'].values\n",
    "    X_test = df_test['text'].values\n",
    "    id_test = df_test['id'].values\n",
    "    y_train = df_training['target'].values                  \n",
    "    return X_train, y_train, id_test, X_test"
   ]
  },
  {
   "cell_type": "markdown",
   "metadata": {},
   "source": [
    "## Обучение модели для сентимент-анализа"
   ]
  },
  {
   "cell_type": "markdown",
   "metadata": {},
   "source": [
    "### Подбор алгоритма обучения"
   ]
  },
  {
   "cell_type": "markdown",
   "metadata": {},
   "source": [
    "Различные сочетания алгоритмов для обучения (выделение признаков, классификация) и перечень их параметров для перебора при  поиске наилучшего варианта"
   ]
  },
  {
   "cell_type": "code",
   "execution_count": 11,
   "metadata": {
    "collapsed": true
   },
   "outputs": [],
   "source": [
    "def get_pipeline_and_params_1():    \n",
    "    pipeline = Pipeline([\n",
    "        ('vect', CountVectorizer()),\n",
    "        ('tfidf', TfidfTransformer()),\n",
    "        ('clf', SGDClassifier()),\n",
    "    ])\n",
    "    parameters = {\n",
    "        'vect__max_df': (0.75, 1),\n",
    "        #'vect__max_features': (None, 5000, 10000, 50000),\n",
    "        'vect__ngram_range': ((1, 1), (1, 3), (1, 2)),  # unigrams or bigrams\n",
    "        #'tfidf__use_idf': (True, False),\n",
    "        #'tfidf__norm': ('l1', 'l2'),\n",
    "        #'clf__alpha': (0.00001, 0.000001),\n",
    "        #'clf__penalty': ('l2', 'elasticnet'),\n",
    "        #'clf__n_iter': (10, 50, 80),\n",
    "    }\n",
    "    return pipeline, parameters"
   ]
  },
  {
   "cell_type": "code",
   "execution_count": 12,
   "metadata": {
    "collapsed": true
   },
   "outputs": [],
   "source": [
    "def get_pipeline_and_params_2():\n",
    "    pipeline = Pipeline([\n",
    "        ('tfidf', TfidfVectorizer()),\n",
    "        ('logreg', LogisticRegression()),\n",
    "    ])\n",
    "    parameters = {\n",
    "        'tfidf__max_df': (0.6,0.8,1),\n",
    "        #'tfidf__min_df': (0, 5, 10, 15),\n",
    "        'tfidf__ngram_range': ((1, 1), (1, 2), (1,3), (2,3)),  # unigrams or bigrams\n",
    "        #'tfidf__use_idf': (True, False),\n",
    "        #'tfidf__norm': ('l1', 'l2'),   \n",
    "        #'logreg__C': (0.0001, 0.01, 1),\n",
    "        #'logreg__penalty': ('l2', 'l1'),  \n",
    "    }\n",
    "    return pipeline, parameters"
   ]
  },
  {
   "cell_type": "code",
   "execution_count": 13,
   "metadata": {
    "collapsed": true
   },
   "outputs": [],
   "source": [
    "def get_pipeline_and_params_3():\n",
    "    pipeline = Pipeline([\n",
    "        ('vect', CountVectorizer()),\n",
    "        ('logreg', LogisticRegression()),\n",
    "    ])\n",
    "    parameters = {\n",
    "        'vect__max_df': (0.6, 1.0),\n",
    "        'vect__min_df': (0, 5),\n",
    "        #'vect__stop_words': ('english', None),\n",
    "        'vect__ngram_range': ((1, 1), (1, 2)),  # unigrams or bigrams        \n",
    "        #'logreg__C': (0.0001, 0.01, 1),\n",
    "        #'logreg__penalty': ('l2', 'l1'),        \n",
    "    }\n",
    "    return pipeline, parameters"
   ]
  },
  {
   "cell_type": "markdown",
   "metadata": {},
   "source": [
    "Предсказание результата для тестовых данных"
   ]
  },
  {
   "cell_type": "code",
   "execution_count": 14,
   "metadata": {
    "collapsed": true
   },
   "outputs": [],
   "source": [
    "def predict(predictor, data_train, y, id_test, data_test, cv_score=None):\n",
    "    predictor.fit(data_train, y)\n",
    "    joblib.dump(predictor, './SentimentAnalysisModel.pkl')    \n",
    "    prediction = predictor.predict(data_test)\n",
    "    #print predictor\n",
    "    timestamp = datetime.datetime.now().strftime(\"%Y-%m-%d-%H-%M-%S\")\n",
    "    filepath_prediction = 'data/prediction-%s-data.csv' % timestamp\n",
    "    filepath_description = 'data/prediction-%s-estimator.txt' % timestamp      \n",
    "\n",
    "    prediction_str = ['pos' if p == 1 else 'neg' for p in prediction]\n",
    "    # Create a dataframe with predictions and write it to CSV file   \n",
    "    predictions_df = pd.DataFrame(data=prediction_str, columns=['y'])\n",
    "    predictions_df.to_csv(filepath_prediction, sep=',', index_label='Id')\n",
    "\n",
    "    # Write a short description of the classifier that was used\n",
    "    f = open(filepath_description, 'w')\n",
    "    f.write(str(predictor))\n",
    "    score = '\\nCross-validation score %.8f' % cv_score    \n",
    "    f.write(score)\n",
    "    f.close()"
   ]
  },
  {
   "cell_type": "markdown",
   "metadata": {},
   "source": [
    "### Экспериментирование с разными обучающими выборками и параметрами обучения"
   ]
  },
  {
   "cell_type": "markdown",
   "metadata": {},
   "source": [
    "Поиск оптимальных параметров модели"
   ]
  },
  {
   "cell_type": "code",
   "execution_count": 15,
   "metadata": {
    "collapsed": true
   },
   "outputs": [],
   "source": [
    "def do_grid_search(pipeline, parameters, X_train, y_train):\n",
    "    grid_search = GridSearchCV(pipeline, parameters, scoring='accuracy')\n",
    "    t0 = time()\n",
    "    grid_search.fit(X_train, y_train)\n",
    "    print \"done in %0.3fs\" % (time() - t0)\n",
    "    \n",
    "    print(\"Best score: %.4f\" % grid_search.best_score_)\n",
    "    print(\"Best parameters set:\")\n",
    "    best_parameters = grid_search.best_estimator_.get_params()\n",
    "    for param_name in sorted(parameters.keys()):\n",
    "        print(\"\\t%s: %r\" % (param_name, best_parameters[param_name]))\n",
    "    return grid_search"
   ]
  },
  {
   "cell_type": "markdown",
   "metadata": {},
   "source": [
    "Общая структура эксперимента: выбор конфигурации, поиск параметров, предсказание на основе наилучшего варианта"
   ]
  },
  {
   "cell_type": "code",
   "execution_count": 16,
   "metadata": {
    "collapsed": true
   },
   "outputs": [],
   "source": [
    "def do_experiment(X_train, y_train, id_test, X_test, get_pipeline_and_params):      \n",
    "    pipeline, parameters = get_pipeline_and_params()\n",
    "    gs = do_grid_search(pipeline, parameters, X_train, y_train)\n",
    "    predict(gs.best_estimator_, X_train, y_train, id_test, X_test, gs.best_score_)"
   ]
  },
  {
   "cell_type": "markdown",
   "metadata": {},
   "source": [
    "Получение датафреймов с обучающей и тестовой выборками. Используется подготовленный с помощью Scrapy JSON-файл, содержащий 11665 отзывов о мобильных телефонах с Яндекс.Маркета."
   ]
  },
  {
   "cell_type": "code",
   "execution_count": 17,
   "metadata": {},
   "outputs": [],
   "source": [
    "df_training, df_test = get_dataframes('reviews11665.json', 'test.csv')"
   ]
  },
  {
   "cell_type": "markdown",
   "metadata": {},
   "source": [
    "Общий вид датафреймов"
   ]
  },
  {
   "cell_type": "code",
   "execution_count": 18,
   "metadata": {},
   "outputs": [
    {
     "data": {
      "text/html": [
       "<div>\n",
       "<table border=\"1\" class=\"dataframe\">\n",
       "  <thead>\n",
       "    <tr style=\"text-align: right;\">\n",
       "      <th></th>\n",
       "      <th>rating</th>\n",
       "      <th>text</th>\n",
       "      <th>target</th>\n",
       "    </tr>\n",
       "  </thead>\n",
       "  <tbody>\n",
       "    <tr>\n",
       "      <th>0</th>\n",
       "      <td>1</td>\n",
       "      <td>В сегменте бюджетников, за такую цену, недоста...</td>\n",
       "      <td>0</td>\n",
       "    </tr>\n",
       "    <tr>\n",
       "      <th>1</th>\n",
       "      <td>1</td>\n",
       "      <td>Недостатков кроме маленькой памяти нет, разве ...</td>\n",
       "      <td>0</td>\n",
       "    </tr>\n",
       "    <tr>\n",
       "      <th>2</th>\n",
       "      <td>1</td>\n",
       "      <td>Нет гарнитуры в комплекте. Пожадничали корейцы...</td>\n",
       "      <td>0</td>\n",
       "    </tr>\n",
       "    <tr>\n",
       "      <th>3</th>\n",
       "      <td>1</td>\n",
       "      <td>Постоянно глючит. Нормально смогла попользоват...</td>\n",
       "      <td>0</td>\n",
       "    </tr>\n",
       "    <tr>\n",
       "      <th>4</th>\n",
       "      <td>1</td>\n",
       "      <td>Сказать что батарея слабая-не сказать ничего. ...</td>\n",
       "      <td>0</td>\n",
       "    </tr>\n",
       "  </tbody>\n",
       "</table>\n",
       "</div>"
      ],
      "text/plain": [
       "   rating                                               text  target\n",
       "0       1  В сегменте бюджетников, за такую цену, недоста...       0\n",
       "1       1  Недостатков кроме маленькой памяти нет, разве ...       0\n",
       "2       1  Нет гарнитуры в комплекте. Пожадничали корейцы...       0\n",
       "3       1  Постоянно глючит. Нормально смогла попользоват...       0\n",
       "4       1  Сказать что батарея слабая-не сказать ничего. ...       0"
      ]
     },
     "execution_count": 18,
     "metadata": {},
     "output_type": "execute_result"
    }
   ],
   "source": [
    "df_training.head()"
   ]
  },
  {
   "cell_type": "code",
   "execution_count": 19,
   "metadata": {},
   "outputs": [
    {
     "data": {
      "text/html": [
       "<div>\n",
       "<table border=\"1\" class=\"dataframe\">\n",
       "  <thead>\n",
       "    <tr style=\"text-align: right;\">\n",
       "      <th></th>\n",
       "      <th>id</th>\n",
       "      <th>text</th>\n",
       "    </tr>\n",
       "  </thead>\n",
       "  <tbody>\n",
       "    <tr>\n",
       "      <th>0</th>\n",
       "      <td>0</td>\n",
       "      <td>Ужасно слабый аккумулятор, это основной минус ...</td>\n",
       "    </tr>\n",
       "    <tr>\n",
       "      <th>1</th>\n",
       "      <td>1</td>\n",
       "      <td>ценанадежность-неубиваемостьдолго держит батар...</td>\n",
       "    </tr>\n",
       "    <tr>\n",
       "      <th>2</th>\n",
       "      <td>2</td>\n",
       "      <td>подробнее в комментариях\\nК сожалению, факт по...</td>\n",
       "    </tr>\n",
       "    <tr>\n",
       "      <th>3</th>\n",
       "      <td>3</td>\n",
       "      <td>я любительница громкой музыки. Тише телефона у...</td>\n",
       "    </tr>\n",
       "    <tr>\n",
       "      <th>4</th>\n",
       "      <td>4</td>\n",
       "      <td>Дата выпуска - 2011 г, емкость - 1430 mAh, тех...</td>\n",
       "    </tr>\n",
       "  </tbody>\n",
       "</table>\n",
       "</div>"
      ],
      "text/plain": [
       "   id                                               text\n",
       "0   0  Ужасно слабый аккумулятор, это основной минус ...\n",
       "1   1  ценанадежность-неубиваемостьдолго держит батар...\n",
       "2   2  подробнее в комментариях\\nК сожалению, факт по...\n",
       "3   3  я любительница громкой музыки. Тише телефона у...\n",
       "4   4  Дата выпуска - 2011 г, емкость - 1430 mAh, тех..."
      ]
     },
     "execution_count": 19,
     "metadata": {},
     "output_type": "execute_result"
    }
   ],
   "source": [
    "df_test.head()"
   ]
  },
  {
   "cell_type": "markdown",
   "metadata": {},
   "source": [
    "Гистограмма распределения классов в обучающей выборке"
   ]
  },
  {
   "cell_type": "code",
   "execution_count": 52,
   "metadata": {},
   "outputs": [
    {
     "data": {
      "text/plain": [
       "[<matplotlib.text.Text at 0x7f9f202efc10>,\n",
       " <matplotlib.text.Text at 0x7f9f20348dd0>]"
      ]
     },
     "execution_count": 52,
     "metadata": {},
     "output_type": "execute_result"
    },
    {
     "data": {
      "image/png": "[encoded data removed]",
      "text/plain": [
       "<matplotlib.figure.Figure at 0x7f9f23c748d0>"
      ]
     },
     "metadata": {},
     "output_type": "display_data"
    }
   ],
   "source": [
    "ax = sns.barplot(df_training['target'].value_counts().keys(), df_training['target'].value_counts().values)\n",
    "ax.set_xticklabels(['neg', 'pos'])"
   ]
  },
  {
   "cell_type": "markdown",
   "metadata": {},
   "source": [
    "Подготовка данных"
   ]
  },
  {
   "cell_type": "code",
   "execution_count": 53,
   "metadata": {},
   "outputs": [],
   "source": [
    "X_train, y_train, id_test, X_test = read_data(df_training, df_test) "
   ]
  },
  {
   "cell_type": "markdown",
   "metadata": {},
   "source": [
    "Проведение серии экспериментов"
   ]
  },
  {
   "cell_type": "code",
   "execution_count": 54,
   "metadata": {},
   "outputs": [
    {
     "name": "stdout",
     "output_type": "stream",
     "text": [
      "done in 41.642s\n",
      "Best score: 0.9457\n",
      "Best parameters set:\n",
      "\tvect__max_df: 0.75\n",
      "\tvect__ngram_range: (1, 2)\n"
     ]
    }
   ],
   "source": [
    "do_experiment(X_train, y_train, id_test, X_test, get_pipeline_and_params_1)"
   ]
  },
  {
   "cell_type": "code",
   "execution_count": 55,
   "metadata": {},
   "outputs": [
    {
     "name": "stdout",
     "output_type": "stream",
     "text": [
      "done in 91.901s\n",
      "Best score: 0.9314\n",
      "Best parameters set:\n",
      "\ttfidf__max_df: 0.6\n",
      "\ttfidf__ngram_range: (1, 2)\n"
     ]
    }
   ],
   "source": [
    "do_experiment(X_train, y_train, id_test, X_test, get_pipeline_and_params_2)"
   ]
  },
  {
   "cell_type": "code",
   "execution_count": 56,
   "metadata": {},
   "outputs": [
    {
     "name": "stdout",
     "output_type": "stream",
     "text": [
      "done in 38.843s\n",
      "Best score: 0.9324\n",
      "Best parameters set:\n",
      "\tvect__max_df: 0.6\n",
      "\tvect__min_df: 0\n",
      "\tvect__ngram_range: (1, 2)\n"
     ]
    }
   ],
   "source": [
    "do_experiment(X_train, y_train, id_test, X_test, get_pipeline_and_params_3)"
   ]
  },
  {
   "cell_type": "markdown",
   "metadata": {},
   "source": [
    "## Запуск обученной модели на тестовых данных"
   ]
  },
  {
   "cell_type": "markdown",
   "metadata": {
    "collapsed": true
   },
   "source": [
    "Эксперименты показали, что наиболее хороший результат дает обучающая выборка составленная первым способом (на основе блоков \"Достоинства\" и \"Недостатки\" из каждого отзыва). Лучшее качество на кросс-валидации было достигнуто при использовании признаков, сформированных Tf-Idf преобразованием, и классификатора SGDClassifier.\n",
    "Предсказание результата для отзывов из тестовой выборки с помощью этой модели показало точность 0.96 в конкурсе на сайте Kaggle."
   ]
  },
  {
   "cell_type": "code",
   "execution_count": null,
   "metadata": {
    "collapsed": true
   },
   "outputs": [],
   "source": []
  }
 ],
 "metadata": {
  "anaconda-cloud": {},
  "kernelspec": {
   "display_name": "Python 3",
   "language": "python",
   "name": "python3"
  },
  "language_info": {
   "codemirror_mode": {
    "name": "ipython",
    "version": 3
   },
   "file_extension": ".py",
   "mimetype": "text/x-python",
   "name": "python",
   "nbconvert_exporter": "python",
   "pygments_lexer": "ipython3",
   "version": "3.6.5"
  }
 },
 "nbformat": 4,
 "nbformat_minor": 1
}
