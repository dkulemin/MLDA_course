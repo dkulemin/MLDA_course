{
 "cells": [
  {
   "cell_type": "code",
   "execution_count": null,
   "metadata": {},
   "outputs": [],
   "source": [
    "import requests\n",
    "from bs4 import BeautifulSoup"
   ]
  },
  {
   "cell_type": "code",
   "execution_count": 33,
   "metadata": {},
   "outputs": [],
   "source": [
    "#Открываем  https://en.wikipedia.org/wiki/Bias-variance_tradeoff\n",
    "req=requests.get ('https://en.wikipedia.org/wiki/Bias-variance_tradeoff')\n",
    "parser = BeautifulSoup(req.text, 'lxml')\n",
    "# Смотрим исходный код странички - нам нужны заголовки <span class=\"mw-headline\"), выбираем их \n",
    "p = parser.findAll('span', attrs={'class': \"mw-headline\"})"
   ]
  },
  {
   "cell_type": "code",
   "execution_count": 35,
   "metadata": {},
   "outputs": [
    {
     "data": {
      "text/plain": [
       "['Motivation',\n",
       " 'Bias–variance decomposition of squared error',\n",
       " 'Derivation',\n",
       " 'Application to regression',\n",
       " 'Application to classification',\n",
       " 'Approaches',\n",
       " 'k-nearest neighbors',\n",
       " 'Application to human learning',\n",
       " 'See also',\n",
       " 'References',\n",
       " 'External links']"
      ]
     },
     "execution_count": 35,
     "metadata": {},
     "output_type": "execute_result"
    }
   ],
   "source": [
    "# и берем из них текст\n",
    "[h.text for h in p ]"
   ]
  },
  {
   "cell_type": "code",
   "execution_count": 38,
   "metadata": {},
   "outputs": [],
   "source": [
    "# Второе задание- открываем страницу\n",
    "req=requests.get('https://en.wikipedia.org/wiki/Category:Machine_learning_algorithms')\n",
    "parser = BeautifulSoup(req.text, 'lxml')\n",
    "\n",
    "# берем оттуда элементы <div class=\"mw-category-group\">\n",
    "p = parser.findAll('div', attrs={'class': \"mw-category-group\"})"
   ]
  },
  {
   "cell_type": "code",
   "execution_count": 39,
   "metadata": {},
   "outputs": [
    {
     "data": {
      "text/plain": [
       "[<div class=\"mw-category-group\"><h3>A</h3>\n",
       " <ul><li><a href=\"/wiki/Algorithms_of_Oppression\" title=\"Algorithms of Oppression\">Algorithms of Oppression</a></li>\n",
       " <li><a href=\"/wiki/Almeida%E2%80%93Pineda_recurrent_backpropagation\" title=\"Almeida–Pineda recurrent backpropagation\">Almeida–Pineda recurrent backpropagation</a></li></ul></div>,\n",
       " <div class=\"mw-category-group\"><h3>B</h3>\n",
       " <ul><li><a href=\"/wiki/Backpropagation\" title=\"Backpropagation\">Backpropagation</a></li>\n",
       " <li><a href=\"/wiki/Bootstrap_aggregating\" title=\"Bootstrap aggregating\">Bootstrap aggregating</a></li></ul></div>,\n",
       " <div class=\"mw-category-group\"><h3>C</h3>\n",
       " <ul><li><a href=\"/wiki/CN2_algorithm\" title=\"CN2 algorithm\">CN2 algorithm</a></li>\n",
       " <li><a href=\"/wiki/Constructing_skill_trees\" title=\"Constructing skill trees\">Constructing skill trees</a></li></ul></div>,\n",
       " <div class=\"mw-category-group\"><h3>D</h3>\n",
       " <ul><li><a href=\"/wiki/Dehaene%E2%80%93Changeux_model\" title=\"Dehaene–Changeux model\">Dehaene–Changeux model</a></li>\n",
       " <li><a href=\"/wiki/Diffusion_map\" title=\"Diffusion map\">Diffusion map</a></li>\n",
       " <li><a href=\"/wiki/Dominance-based_rough_set_approach\" title=\"Dominance-based rough set approach\">Dominance-based rough set approach</a></li>\n",
       " <li><a href=\"/wiki/Dynamic_time_warping\" title=\"Dynamic time warping\">Dynamic time warping</a></li></ul></div>,\n",
       " <div class=\"mw-category-group\"><h3>E</h3>\n",
       " <ul><li><a href=\"/wiki/Error-driven_learning\" title=\"Error-driven learning\">Error-driven learning</a></li>\n",
       " <li><a href=\"/wiki/Evolutionary_multimodal_optimization\" title=\"Evolutionary multimodal optimization\">Evolutionary multimodal optimization</a></li>\n",
       " <li><a href=\"/wiki/Expectation%E2%80%93maximization_algorithm\" title=\"Expectation–maximization algorithm\">Expectation–maximization algorithm</a></li></ul></div>,\n",
       " <div class=\"mw-category-group\"><h3>F</h3>\n",
       " <ul><li><a href=\"/wiki/FastICA\" title=\"FastICA\">FastICA</a></li>\n",
       " <li><a href=\"/wiki/Forward%E2%80%93backward_algorithm\" title=\"Forward–backward algorithm\">Forward–backward algorithm</a></li></ul></div>,\n",
       " <div class=\"mw-category-group\"><h3>G</h3>\n",
       " <ul><li><a href=\"/wiki/GeneRec\" title=\"GeneRec\">GeneRec</a></li>\n",
       " <li><a href=\"/wiki/Genetic_Algorithm_for_Rule_Set_Production\" title=\"Genetic Algorithm for Rule Set Production\">Genetic Algorithm for Rule Set Production</a></li>\n",
       " <li><a href=\"/wiki/Growing_self-organizing_map\" title=\"Growing self-organizing map\">Growing self-organizing map</a></li></ul></div>,\n",
       " <div class=\"mw-category-group\"><h3>H</h3>\n",
       " <ul><li><a href=\"/wiki/HEXQ\" title=\"HEXQ\">HEXQ</a></li>\n",
       " <li><a href=\"/wiki/Hyper_basis_function_network\" title=\"Hyper basis function network\">Hyper basis function network</a></li></ul></div>,\n",
       " <div class=\"mw-category-group\"><h3>I</h3>\n",
       " <ul><li><a href=\"/wiki/IDistance\" title=\"IDistance\">IDistance</a></li></ul></div>,\n",
       " <div class=\"mw-category-group\"><h3>K</h3>\n",
       " <ul><li><a href=\"/wiki/K-nearest_neighbors_algorithm\" title=\"K-nearest neighbors algorithm\">K-nearest neighbors algorithm</a></li>\n",
       " <li><a href=\"/wiki/Kernel_methods_for_vector_output\" title=\"Kernel methods for vector output\">Kernel methods for vector output</a></li>\n",
       " <li><a href=\"/wiki/Kernel_principal_component_analysis\" title=\"Kernel principal component analysis\">Kernel principal component analysis</a></li></ul></div>,\n",
       " <div class=\"mw-category-group\"><h3>L</h3>\n",
       " <ul><li><a href=\"/wiki/Leabra\" title=\"Leabra\">Leabra</a></li>\n",
       " <li><a href=\"/wiki/Linde%E2%80%93Buzo%E2%80%93Gray_algorithm\" title=\"Linde–Buzo–Gray algorithm\">Linde–Buzo–Gray algorithm</a></li>\n",
       " <li><a href=\"/wiki/Local_outlier_factor\" title=\"Local outlier factor\">Local outlier factor</a></li>\n",
       " <li><a href=\"/wiki/Logic_learning_machine\" title=\"Logic learning machine\">Logic learning machine</a></li>\n",
       " <li><a href=\"/wiki/LogitBoost\" title=\"LogitBoost\">LogitBoost</a></li>\n",
       " <li><a href=\"/wiki/Loss_functions_for_classification\" title=\"Loss functions for classification\">Loss functions for classification</a></li></ul></div>,\n",
       " <div class=\"mw-category-group\"><h3>M</h3>\n",
       " <ul><li><a href=\"/wiki/Manifold_alignment\" title=\"Manifold alignment\">Manifold alignment</a></li>\n",
       " <li><a href=\"/wiki/Minimum_redundancy_feature_selection\" title=\"Minimum redundancy feature selection\">Minimum redundancy feature selection</a></li>\n",
       " <li><a href=\"/wiki/Mixture_of_experts\" title=\"Mixture of experts\">Mixture of experts</a></li>\n",
       " <li><a href=\"/wiki/Multiple_kernel_learning\" title=\"Multiple kernel learning\">Multiple kernel learning</a></li></ul></div>,\n",
       " <div class=\"mw-category-group\"><h3>N</h3>\n",
       " <ul><li><a href=\"/wiki/Non-negative_matrix_factorization\" title=\"Non-negative matrix factorization\">Non-negative matrix factorization</a></li></ul></div>,\n",
       " <div class=\"mw-category-group\"><h3>O</h3>\n",
       " <ul><li><a href=\"/wiki/Online_machine_learning\" title=\"Online machine learning\">Online machine learning</a></li>\n",
       " <li><a href=\"/wiki/Out-of-bag_error\" title=\"Out-of-bag error\">Out-of-bag error</a></li></ul></div>,\n",
       " <div class=\"mw-category-group\"><h3>P</h3>\n",
       " <ul><li><a href=\"/wiki/Prefrontal_cortex_basal_ganglia_working_memory\" title=\"Prefrontal cortex basal ganglia working memory\">Prefrontal cortex basal ganglia working memory</a></li>\n",
       " <li><a href=\"/wiki/PVLV\" title=\"PVLV\">PVLV</a></li></ul></div>,\n",
       " <div class=\"mw-category-group\"><h3>Q</h3>\n",
       " <ul><li><a href=\"/wiki/Q-learning\" title=\"Q-learning\">Q-learning</a></li>\n",
       " <li><a href=\"/wiki/Quadratic_unconstrained_binary_optimization\" title=\"Quadratic unconstrained binary optimization\">Quadratic unconstrained binary optimization</a></li>\n",
       " <li><a href=\"/wiki/Query-level_feature\" title=\"Query-level feature\">Query-level feature</a></li>\n",
       " <li><a href=\"/wiki/Quickprop\" title=\"Quickprop\">Quickprop</a></li></ul></div>,\n",
       " <div class=\"mw-category-group\"><h3>R</h3>\n",
       " <ul><li><a href=\"/wiki/Radial_basis_function_network\" title=\"Radial basis function network\">Radial basis function network</a></li>\n",
       " <li><a href=\"/wiki/Randomized_weighted_majority_algorithm\" title=\"Randomized weighted majority algorithm\">Randomized weighted majority algorithm</a></li>\n",
       " <li><a href=\"/wiki/Reinforcement_learning\" title=\"Reinforcement learning\">Reinforcement learning</a></li>\n",
       " <li><a href=\"/wiki/Repeated_incremental_pruning_to_produce_error_reduction_(RIPPER)\" title=\"Repeated incremental pruning to produce error reduction (RIPPER)\">Repeated incremental pruning to produce error reduction (RIPPER)</a></li>\n",
       " <li><a href=\"/wiki/Rprop\" title=\"Rprop\">Rprop</a></li>\n",
       " <li><a href=\"/wiki/Rule-based_machine_learning\" title=\"Rule-based machine learning\">Rule-based machine learning</a></li></ul></div>,\n",
       " <div class=\"mw-category-group\"><h3>S</h3>\n",
       " <ul><li><a href=\"/wiki/Skill_chaining\" title=\"Skill chaining\">Skill chaining</a></li>\n",
       " <li><a href=\"/wiki/Sparse_PCA\" title=\"Sparse PCA\">Sparse PCA</a></li>\n",
       " <li><a href=\"/wiki/State%E2%80%93action%E2%80%93reward%E2%80%93state%E2%80%93action\" title=\"State–action–reward–state–action\">State–action–reward–state–action</a></li>\n",
       " <li><a href=\"/wiki/Stochastic_gradient_descent\" title=\"Stochastic gradient descent\">Stochastic gradient descent</a></li>\n",
       " <li><a href=\"/wiki/Structured_kNN\" title=\"Structured kNN\">Structured kNN</a></li></ul></div>,\n",
       " <div class=\"mw-category-group\"><h3>T</h3>\n",
       " <ul><li><a href=\"/wiki/T-distributed_stochastic_neighbor_embedding\" title=\"T-distributed stochastic neighbor embedding\">T-distributed stochastic neighbor embedding</a></li>\n",
       " <li><a href=\"/wiki/Temporal_difference_learning\" title=\"Temporal difference learning\">Temporal difference learning</a></li></ul></div>,\n",
       " <div class=\"mw-category-group\"><h3>W</h3>\n",
       " <ul><li><a href=\"/wiki/Wake-sleep_algorithm\" title=\"Wake-sleep algorithm\">Wake-sleep algorithm</a></li>\n",
       " <li><a href=\"/wiki/Weighted_majority_algorithm_(machine_learning)\" title=\"Weighted majority algorithm (machine learning)\">Weighted majority algorithm (machine learning)</a></li></ul></div>]"
      ]
     },
     "execution_count": 39,
     "metadata": {},
     "output_type": "execute_result"
    }
   ],
   "source": [
    "p"
   ]
  },
  {
   "cell_type": "code",
   "execution_count": 40,
   "metadata": {},
   "outputs": [
    {
     "data": {
      "text/plain": [
       "['Algorithms of Oppression',\n",
       " 'Almeida–Pineda recurrent backpropagation',\n",
       " 'Backpropagation',\n",
       " 'Bootstrap aggregating',\n",
       " 'CN2 algorithm',\n",
       " 'Constructing skill trees',\n",
       " 'Dehaene–Changeux model',\n",
       " 'Diffusion map',\n",
       " 'Dominance-based rough set approach',\n",
       " 'Dynamic time warping',\n",
       " 'Error-driven learning',\n",
       " 'Evolutionary multimodal optimization',\n",
       " 'Expectation–maximization algorithm',\n",
       " 'FastICA',\n",
       " 'Forward–backward algorithm',\n",
       " 'GeneRec',\n",
       " 'Genetic Algorithm for Rule Set Production',\n",
       " 'Growing self-organizing map',\n",
       " 'HEXQ',\n",
       " 'Hyper basis function network',\n",
       " 'IDistance',\n",
       " 'K-nearest neighbors algorithm',\n",
       " 'Kernel methods for vector output',\n",
       " 'Kernel principal component analysis',\n",
       " 'Leabra',\n",
       " 'Linde–Buzo–Gray algorithm',\n",
       " 'Local outlier factor',\n",
       " 'Logic learning machine',\n",
       " 'LogitBoost',\n",
       " 'Loss functions for classification',\n",
       " 'Manifold alignment',\n",
       " 'Minimum redundancy feature selection',\n",
       " 'Mixture of experts',\n",
       " 'Multiple kernel learning',\n",
       " 'Non-negative matrix factorization',\n",
       " 'Online machine learning',\n",
       " 'Out-of-bag error',\n",
       " 'Prefrontal cortex basal ganglia working memory',\n",
       " 'PVLV',\n",
       " 'Q-learning',\n",
       " 'Quadratic unconstrained binary optimization',\n",
       " 'Query-level feature',\n",
       " 'Quickprop',\n",
       " 'Radial basis function network',\n",
       " 'Randomized weighted majority algorithm',\n",
       " 'Reinforcement learning',\n",
       " 'Repeated incremental pruning to produce error reduction (RIPPER)',\n",
       " 'Rprop',\n",
       " 'Rule-based machine learning',\n",
       " 'Skill chaining',\n",
       " 'Sparse PCA',\n",
       " 'State–action–reward–state–action',\n",
       " 'Stochastic gradient descent',\n",
       " 'Structured kNN',\n",
       " 'T-distributed stochastic neighbor embedding',\n",
       " 'Temporal difference learning',\n",
       " 'Wake-sleep algorithm',\n",
       " 'Weighted majority algorithm (machine learning)']"
      ]
     },
     "execution_count": 40,
     "metadata": {},
     "output_type": "execute_result"
    }
   ],
   "source": [
    "# И из них, из находящихся внутри этих элементов ссылок берем аттрибуты title\n",
    "[a.attrs['title'] for p1 in p for a in p1.findAll('a')]"
   ]
  },
  {
   "cell_type": "code",
   "execution_count": null,
   "metadata": {},
   "outputs": [],
   "source": []
  },
  {
   "cell_type": "code",
   "execution_count": null,
   "metadata": {},
   "outputs": [],
   "source": []
  }
 ],
 "metadata": {
  "kernelspec": {
   "display_name": "Python 3",
   "language": "python",
   "name": "python3"
  },
  "language_info": {
   "codemirror_mode": {
    "name": "ipython",
    "version": 3
   },
   "file_extension": ".py",
   "mimetype": "text/x-python",
   "name": "python",
   "nbconvert_exporter": "python",
   "pygments_lexer": "ipython3",
   "version": "3.6.5"
  },
  "toc": {
   "base_numbering": 1,
   "nav_menu": {},
   "number_sections": true,
   "sideBar": true,
   "skip_h1_title": false,
   "title_cell": "Table of Contents",
   "title_sidebar": "Contents",
   "toc_cell": false,
   "toc_position": {},
   "toc_section_display": true,
   "toc_window_display": false
  },
  "varInspector": {
   "cols": {
    "lenName": 16,
    "lenType": 16,
    "lenVar": 40
   },
   "kernels_config": {
    "python": {
     "delete_cmd_postfix": "",
     "delete_cmd_prefix": "del ",
     "library": "var_list.py",
     "varRefreshCmd": "print(var_dic_list())"
    },
    "r": {
     "delete_cmd_postfix": ") ",
     "delete_cmd_prefix": "rm(",
     "library": "var_list.r",
     "varRefreshCmd": "cat(var_dic_list()) "
    }
   },
   "types_to_exclude": [
    "module",
    "function",
    "builtin_function_or_method",
    "instance",
    "_Feature"
   ],
   "window_display": false
  }
 },
 "nbformat": 4,
 "nbformat_minor": 2
}
