{
 "cells": [
  {
   "cell_type": "markdown",
   "metadata": {},
   "source": [
    "При использовании корпуса RuTweetCorp, просьба ссылаться на следующую работу:\n",
    "Рубцова Ю. Автоматическое построение и анализ корпуса коротких текстов (постов микроблогов) для задачи разработки и тренировки тонового классификатора //Инженерия знаний и технологии семантического веба. – 2012. – Т. 1. – С. 109-116.\n",
    "https://study.mokoron.com/\n",
    "https://elibrary.ru/item.asp?id=20399632"
   ]
  },
  {
   "cell_type": "code",
   "execution_count": 18,
   "metadata": {},
   "outputs": [],
   "source": [
    "import warnings\n",
    "warnings.filterwarnings('ignore')"
   ]
  },
  {
   "cell_type": "code",
   "execution_count": 42,
   "metadata": {},
   "outputs": [],
   "source": [
    "from sklearn.feature_extraction.text import CountVectorizer, TfidfVectorizer, HashingVectorizer\n",
    "from sklearn.feature_extraction.text import TfidfVectorizer\n",
    "from sklearn.model_selection import train_test_split\n",
    "from sklearn.linear_model import LogisticRegression\n",
    "from sklearn.model_selection import cross_val_score\n",
    "from sklearn.linear_model import LogisticRegression, SGDClassifier \n",
    "from sklearn.model_selection import cross_val_score\n",
    "from sklearn.linear_model import RidgeClassifier\n",
    "from sklearn.svm import LinearSVC, SVC\n",
    "from sklearn.naive_bayes import ComplementNB\n",
    "from sklearn.ensemble import RandomForestClassifier\n",
    "from sklearn.pipeline import Pipeline\n",
    "\n",
    "import os\n",
    "import pandas as pd\n",
    "import numpy as np\n",
    "import time\n",
    "import pickle"
   ]
  },
  {
   "cell_type": "code",
   "execution_count": 2,
   "metadata": {},
   "outputs": [],
   "source": [
    "PATH_TO_DATA = '/home/atl/Yandex.Disk/temp/bases/review твиты'"
   ]
  },
  {
   "cell_type": "code",
   "execution_count": 3,
   "metadata": {},
   "outputs": [],
   "source": [
    "neg, data, pos = os.listdir(PATH_TO_DATA)"
   ]
  },
  {
   "cell_type": "code",
   "execution_count": 4,
   "metadata": {},
   "outputs": [],
   "source": [
    "pos_ = os.path.join(PATH_TO_DATA, pos)\n",
    "neg_ = os.path.join(PATH_TO_DATA, neg)"
   ]
  },
  {
   "cell_type": "code",
   "execution_count": 5,
   "metadata": {},
   "outputs": [
    {
     "data": {
      "text/html": [
       "<div>\n",
       "<style scoped>\n",
       "    .dataframe tbody tr th:only-of-type {\n",
       "        vertical-align: middle;\n",
       "    }\n",
       "\n",
       "    .dataframe tbody tr th {\n",
       "        vertical-align: top;\n",
       "    }\n",
       "\n",
       "    .dataframe thead th {\n",
       "        text-align: right;\n",
       "    }\n",
       "</style>\n",
       "<table border=\"1\" class=\"dataframe\">\n",
       "  <thead>\n",
       "    <tr style=\"text-align: right;\">\n",
       "      <th></th>\n",
       "      <th>id</th>\n",
       "      <th>tdate</th>\n",
       "      <th>tmane</th>\n",
       "      <th>ttext</th>\n",
       "      <th>ttype</th>\n",
       "      <th>trep</th>\n",
       "      <th>tfav</th>\n",
       "      <th>tstcount</th>\n",
       "      <th>tfol</th>\n",
       "      <th>tfrien</th>\n",
       "      <th></th>\n",
       "      <th>listcount</th>\n",
       "    </tr>\n",
       "  </thead>\n",
       "  <tbody>\n",
       "    <tr>\n",
       "      <th>0</th>\n",
       "      <td>408906692374446080</td>\n",
       "      <td>1386325927</td>\n",
       "      <td>pleease_shut_up</td>\n",
       "      <td>@first_timee хоть я и школота, но поверь, у на...</td>\n",
       "      <td>1</td>\n",
       "      <td>0</td>\n",
       "      <td>0</td>\n",
       "      <td>0</td>\n",
       "      <td>7569</td>\n",
       "      <td>62</td>\n",
       "      <td>61</td>\n",
       "      <td>0</td>\n",
       "    </tr>\n",
       "    <tr>\n",
       "      <th>1</th>\n",
       "      <td>408906692693221377</td>\n",
       "      <td>1386325927</td>\n",
       "      <td>alinakirpicheva</td>\n",
       "      <td>Да, все-таки он немного похож на него. Но мой ...</td>\n",
       "      <td>1</td>\n",
       "      <td>0</td>\n",
       "      <td>0</td>\n",
       "      <td>0</td>\n",
       "      <td>11825</td>\n",
       "      <td>59</td>\n",
       "      <td>31</td>\n",
       "      <td>2</td>\n",
       "    </tr>\n",
       "  </tbody>\n",
       "</table>\n",
       "</div>"
      ],
      "text/plain": [
       "                   id       tdate            tmane  \\\n",
       "0  408906692374446080  1386325927  pleease_shut_up   \n",
       "1  408906692693221377  1386325927  alinakirpicheva   \n",
       "\n",
       "                                               ttext  ttype  trep  tfav  \\\n",
       "0  @first_timee хоть я и школота, но поверь, у на...      1     0     0   \n",
       "1  Да, все-таки он немного похож на него. Но мой ...      1     0     0   \n",
       "\n",
       "   tstcount   tfol  tfrien      listcount  \n",
       "0         0   7569      62  61          0  \n",
       "1         0  11825      59  31          2  "
      ]
     },
     "execution_count": 5,
     "metadata": {},
     "output_type": "execute_result"
    }
   ],
   "source": [
    "pos = pd.read_csv(pos_, sep=';', names=['id', 'tdate', 'tmane', 'ttext', 'ttype', 'trep', 'tfav', 'tstcount', 'tfol', 'tfrien', '', 'listcount'])\n",
    "pos.head(2)"
   ]
  },
  {
   "cell_type": "code",
   "execution_count": 6,
   "metadata": {},
   "outputs": [
    {
     "data": {
      "text/html": [
       "<div>\n",
       "<style scoped>\n",
       "    .dataframe tbody tr th:only-of-type {\n",
       "        vertical-align: middle;\n",
       "    }\n",
       "\n",
       "    .dataframe tbody tr th {\n",
       "        vertical-align: top;\n",
       "    }\n",
       "\n",
       "    .dataframe thead th {\n",
       "        text-align: right;\n",
       "    }\n",
       "</style>\n",
       "<table border=\"1\" class=\"dataframe\">\n",
       "  <thead>\n",
       "    <tr style=\"text-align: right;\">\n",
       "      <th></th>\n",
       "      <th>id</th>\n",
       "      <th>tdate</th>\n",
       "      <th>tmane</th>\n",
       "      <th>ttext</th>\n",
       "      <th>ttype</th>\n",
       "      <th>trep</th>\n",
       "      <th>tfav</th>\n",
       "      <th>tstcount</th>\n",
       "      <th>tfol</th>\n",
       "      <th>tfrien</th>\n",
       "      <th></th>\n",
       "      <th>listcount</th>\n",
       "    </tr>\n",
       "  </thead>\n",
       "  <tbody>\n",
       "    <tr>\n",
       "      <th>0</th>\n",
       "      <td>408906762813579264</td>\n",
       "      <td>1386325944</td>\n",
       "      <td>dugarchikbellko</td>\n",
       "      <td>на работе был полный пиддес :| и так каждое за...</td>\n",
       "      <td>-1</td>\n",
       "      <td>0</td>\n",
       "      <td>0</td>\n",
       "      <td>0</td>\n",
       "      <td>8064</td>\n",
       "      <td>111</td>\n",
       "      <td>94</td>\n",
       "      <td>2</td>\n",
       "    </tr>\n",
       "    <tr>\n",
       "      <th>1</th>\n",
       "      <td>408906818262687744</td>\n",
       "      <td>1386325957</td>\n",
       "      <td>nugemycejela</td>\n",
       "      <td>Коллеги сидят рубятся в Urban terror, а я из-з...</td>\n",
       "      <td>-1</td>\n",
       "      <td>0</td>\n",
       "      <td>0</td>\n",
       "      <td>0</td>\n",
       "      <td>26</td>\n",
       "      <td>42</td>\n",
       "      <td>39</td>\n",
       "      <td>0</td>\n",
       "    </tr>\n",
       "  </tbody>\n",
       "</table>\n",
       "</div>"
      ],
      "text/plain": [
       "                   id       tdate            tmane  \\\n",
       "0  408906762813579264  1386325944  dugarchikbellko   \n",
       "1  408906818262687744  1386325957     nugemycejela   \n",
       "\n",
       "                                               ttext  ttype  trep  tfav  \\\n",
       "0  на работе был полный пиддес :| и так каждое за...     -1     0     0   \n",
       "1  Коллеги сидят рубятся в Urban terror, а я из-з...     -1     0     0   \n",
       "\n",
       "   tstcount  tfol  tfrien      listcount  \n",
       "0         0  8064     111  94          2  \n",
       "1         0    26      42  39          0  "
      ]
     },
     "execution_count": 6,
     "metadata": {},
     "output_type": "execute_result"
    }
   ],
   "source": [
    "neg = pd.read_csv(neg_, sep=';', names=['id', 'tdate', 'tmane', 'ttext', 'ttype', 'trep', 'tfav', 'tstcount', 'tfol', 'tfrien', '', 'listcount'])\n",
    "neg.head(2)"
   ]
  },
  {
   "cell_type": "code",
   "execution_count": 76,
   "metadata": {},
   "outputs": [
    {
     "name": "stdout",
     "output_type": "stream",
     "text": [
      "1    114911\n",
      "0    111923\n",
      "Name: ttype, dtype: int64\n"
     ]
    },
    {
     "data": {
      "text/html": [
       "<div>\n",
       "<style scoped>\n",
       "    .dataframe tbody tr th:only-of-type {\n",
       "        vertical-align: middle;\n",
       "    }\n",
       "\n",
       "    .dataframe tbody tr th {\n",
       "        vertical-align: top;\n",
       "    }\n",
       "\n",
       "    .dataframe thead th {\n",
       "        text-align: right;\n",
       "    }\n",
       "</style>\n",
       "<table border=\"1\" class=\"dataframe\">\n",
       "  <thead>\n",
       "    <tr style=\"text-align: right;\">\n",
       "      <th></th>\n",
       "      <th>ttext</th>\n",
       "      <th>ttype</th>\n",
       "    </tr>\n",
       "  </thead>\n",
       "  <tbody>\n",
       "    <tr>\n",
       "      <th>0</th>\n",
       "      <td>@first_timee хоть я и школота, но поверь, у на...</td>\n",
       "      <td>1</td>\n",
       "    </tr>\n",
       "    <tr>\n",
       "      <th>1</th>\n",
       "      <td>Да, все-таки он немного похож на него. Но мой ...</td>\n",
       "      <td>1</td>\n",
       "    </tr>\n",
       "    <tr>\n",
       "      <th>2</th>\n",
       "      <td>RT @KatiaCheh: Ну ты идиотка) я испугалась за ...</td>\n",
       "      <td>1</td>\n",
       "    </tr>\n",
       "  </tbody>\n",
       "</table>\n",
       "</div>"
      ],
      "text/plain": [
       "                                               ttext  ttype\n",
       "0  @first_timee хоть я и школота, но поверь, у на...      1\n",
       "1  Да, все-таки он немного похож на него. Но мой ...      1\n",
       "2  RT @KatiaCheh: Ну ты идиотка) я испугалась за ...      1"
      ]
     },
     "execution_count": 76,
     "metadata": {},
     "output_type": "execute_result"
    }
   ],
   "source": [
    "data = pd.concat([pos[['ttext', 'ttype']], neg[['ttext', 'ttype']]], axis=0)\n",
    "data.loc[:, 'ttype'] = data.loc[:, 'ttype'].map({-1: 0, 1:1}).astype(int)\n",
    "print(data['ttype'].value_counts())\n",
    "data.head(3)"
   ]
  },
  {
   "cell_type": "code",
   "execution_count": 77,
   "metadata": {},
   "outputs": [
    {
     "data": {
      "text/plain": [
       "1    114911\n",
       "0    111923\n",
       "Name: ttype, dtype: int64"
      ]
     },
     "execution_count": 77,
     "metadata": {},
     "output_type": "execute_result"
    }
   ],
   "source": [
    "data['ttype'].value_counts()"
   ]
  },
  {
   "cell_type": "code",
   "execution_count": 78,
   "metadata": {},
   "outputs": [],
   "source": [
    "filename = os.path.join(PATH_TO_DATA, 'data_to_c4w4.csv')\n",
    "data.to_csv(filename)"
   ]
  },
  {
   "cell_type": "code",
   "execution_count": 79,
   "metadata": {},
   "outputs": [
    {
     "data": {
      "text/plain": [
       "1    80460\n",
       "0    78323\n",
       "Name: ttype, dtype: int64"
      ]
     },
     "execution_count": 79,
     "metadata": {},
     "output_type": "execute_result"
    }
   ],
   "source": [
    "train, test = train_test_split(data, test_size=0.3, shuffle=True)\n",
    "train['ttype'].value_counts()"
   ]
  },
  {
   "cell_type": "code",
   "execution_count": 80,
   "metadata": {},
   "outputs": [],
   "source": [
    "ests = {'lr': LogisticRegression(), 'svm': LinearSVC(), \n",
    "        'sgd': SGDClassifier(), 'nb': ComplementNB(),\n",
    "       'ridge': RidgeClassifier(),}\n",
    "\n",
    "vects = {'cnt': CountVectorizer(), 'tf': TfidfVectorizer(), 'hash': HashingVectorizer()}"
   ]
  },
  {
   "cell_type": "code",
   "execution_count": 81,
   "metadata": {},
   "outputs": [],
   "source": [
    "def text_classifier(estimator, vectorizer):\n",
    "    return Pipeline([('vect', vectorizer), ('est', estimator)])"
   ]
  },
  {
   "cell_type": "code",
   "execution_count": 83,
   "metadata": {
    "scrolled": true
   },
   "outputs": [
    {
     "name": "stdout",
     "output_type": "stream",
     "text": [
      "CPU times: user 9.87 s, sys: 1.85 s, total: 11.7 s\n",
      "Wall time: 8min 48s\n"
     ]
    }
   ],
   "source": [
    "%%time\n",
    "\n",
    "res = {}\n",
    "\n",
    "for vect in vects:\n",
    "    for est in ests:\n",
    "        \n",
    "        if vect == 'hash' and est == 'nb':\n",
    "            continue\n",
    "          \n",
    "        score = round(cross_val_score(text_classifier(ests[est], vects[vect]), train.iloc[:, 0], train.iloc[:, 1], n_jobs=-1).mean(), 3)  \n",
    "        res[f'{est} {vect}'] = score       "
   ]
  },
  {
   "cell_type": "code",
   "execution_count": 91,
   "metadata": {},
   "outputs": [
    {
     "name": "stdout",
     "output_type": "stream",
     "text": [
      "{'lr cnt': 0.753, 'ridge tf': 0.751, 'svm hash': 0.751, 'ridge hash': 0.751, 'lr tf': 0.749, 'svm tf': 0.749, 'nb cnt': 0.745, 'sgd cnt': 0.742, 'nb tf': 0.742, 'lr hash': 0.741, 'ridge cnt': 0.739, 'svm cnt': 0.734, 'sgd tf': 0.717, 'sgd hash': 0.71}\n"
     ]
    }
   ],
   "source": [
    "print(dict(sorted(res.items(), reverse=True, key=lambda x: x[1]))  )"
   ]
  },
  {
   "cell_type": "markdown",
   "metadata": {},
   "source": [
    "В flask-демке указаны следующие названия для:\n",
    "- модели - DefaultLogisticBigramUnprocessedTextSentiment\n",
    "- vectorizer - BigramUnprocessedVectorizer\n",
    "Попробуем логистическую регрессию с параметрами по умолчанию и векторайзер с биграммами."
   ]
  },
  {
   "cell_type": "code",
   "execution_count": 84,
   "metadata": {},
   "outputs": [
    {
     "name": "stdout",
     "output_type": "stream",
     "text": [
      "0.698 - оценка логистической регреесии с параметрами по умолчанию и CountVectorizer c биграммами\n",
      "CPU times: user 792 ms, sys: 152 ms, total: 944 ms\n",
      "Wall time: 2min 22s\n"
     ]
    }
   ],
   "source": [
    "%%time\n",
    "vect = CountVectorizer(ngram_range=(2, 2))\n",
    "lr = LogisticRegression(random_state=32, solver='lbfgs')\n",
    "score = round(cross_val_score(text_classifier(lr, vect), train.iloc[:, 0], train.iloc[:, 1], n_jobs=-1).mean(), 3)  \n",
    "print(f'{score} - оценка логистической регреесии с параметрами по умолчанию и CountVectorizer c биграммами')"
   ]
  },
  {
   "cell_type": "markdown",
   "metadata": {},
   "source": [
    "Как мы видим, оценка существенно разница с изначальными параметрами векторайзора. Будем для обучения использовать параметры по-умолчанию."
   ]
  },
  {
   "cell_type": "code",
   "execution_count": 92,
   "metadata": {},
   "outputs": [
    {
     "name": "stdout",
     "output_type": "stream",
     "text": [
      "0.753 - оценка логистической регреесии и CountVectorizer с параметрами по умолчанию\n",
      "CPU times: user 585 ms, sys: 155 ms, total: 740 ms\n",
      "Wall time: 33.1 s\n"
     ]
    }
   ],
   "source": [
    "%%time\n",
    "vect = CountVectorizer(ngram_range=(1, 1))\n",
    "model = LogisticRegression(random_state=32, solver='lbfgs')\n",
    "score = round(cross_val_score(text_classifier(lr, vect), train.iloc[:, 0], train.iloc[:, 1], n_jobs=-1).mean(), 3)\n",
    "print(f'{score} - оценка логистической регреесии и CountVectorizer с параметрами по умолчанию')"
   ]
  },
  {
   "cell_type": "code",
   "execution_count": 93,
   "metadata": {},
   "outputs": [
    {
     "name": "stdout",
     "output_type": "stream",
     "text": [
      "CPU times: user 7.95 s, sys: 72.2 ms, total: 8.02 s\n",
      "Wall time: 8.03 s\n"
     ]
    }
   ],
   "source": [
    "%%time\n",
    "vect.fit(train['ttext'])\n",
    "X_train = vect.transform(train['ttext'])"
   ]
  },
  {
   "cell_type": "code",
   "execution_count": 94,
   "metadata": {},
   "outputs": [],
   "source": [
    "with open('UnprocessedVectorizer.pkl', 'wb') as file:\n",
    "    pickle.dump(vect, file)    "
   ]
  },
  {
   "cell_type": "code",
   "execution_count": 95,
   "metadata": {},
   "outputs": [
    {
     "name": "stdout",
     "output_type": "stream",
     "text": [
      "CPU times: user 26.3 s, sys: 13.4 ms, total: 26.3 s\n",
      "Wall time: 14 s\n"
     ]
    },
    {
     "data": {
      "text/plain": [
       "LogisticRegression(C=1.0, class_weight=None, dual=False, fit_intercept=True,\n",
       "          intercept_scaling=1, max_iter=100, multi_class='warn',\n",
       "          n_jobs=None, penalty='l2', random_state=32, solver='lbfgs',\n",
       "          tol=0.0001, verbose=0, warm_start=False)"
      ]
     },
     "execution_count": 95,
     "metadata": {},
     "output_type": "execute_result"
    }
   ],
   "source": [
    "%%time\n",
    "model.fit(X_train, train['ttype'])"
   ]
  },
  {
   "cell_type": "code",
   "execution_count": 96,
   "metadata": {},
   "outputs": [],
   "source": [
    "with open('DefaultLogisticUnprocessedTextSentiment.pkl', 'wb') as file:\n",
    "    pickle.dump(model, file)"
   ]
  },
  {
   "cell_type": "markdown",
   "metadata": {},
   "source": [
    "Проверим работоспособность модели на тестовой выборке"
   ]
  },
  {
   "cell_type": "code",
   "execution_count": 99,
   "metadata": {
    "scrolled": true
   },
   "outputs": [
    {
     "data": {
      "text/plain": [
       "'accuracy 79'"
      ]
     },
     "execution_count": 99,
     "metadata": {},
     "output_type": "execute_result"
    }
   ],
   "source": [
    "with open('DefaultLogisticUnprocessedTextSentiment.pkl', 'rb') as file:\n",
    "    model = pickle.load(file)\n",
    "    \n",
    "with open('UnprocessedVectorizer.pkl', 'rb') as file:\n",
    "    vect = pickle.load(file)  \n",
    "\n",
    "preds = []\n",
    "trues = []\n",
    "\n",
    "for i in range(100):\n",
    "    \n",
    "    text = test.iloc[i, 0]\n",
    "    tp = test.iloc[i, 1]\n",
    "\n",
    "    X_t = vect.transform([text])\n",
    "    pred = model.predict(X_t)\n",
    "    preds.append(pred[0])\n",
    "    trues.append(tp)\n",
    "\n",
    "results = list(map(lambda x, y: x == y, preds, trues))\n",
    "f'accuracy {sum(results)}'"
   ]
  },
  {
   "cell_type": "code",
   "execution_count": 102,
   "metadata": {},
   "outputs": [
    {
     "name": "stdout",
     "output_type": "stream",
     "text": [
      "Истина 0 предсказание 0\n",
      "Хард ворк теперь:(\n",
      "Гребаная сессия, закройся ка\n",
      "\n",
      "Истина 0 предсказание 0\n",
      "все меня в чём-то обвиняют разве я такая плохая?(\n",
      "\n",
      "Истина 1 предсказание 1\n",
      "моя ставка на платье на аукро пока что самая большая)уиии)оно будет мое)\n",
      "\n",
      "Истина 0 предсказание 1\n",
      "@MashaMinina3 пей вино каторое пьет мой дедуля;(\n",
      "\n",
      "Истина 1 предсказание 1\n",
      "#HappyBirthdayTreCool С Др,\n",
      "Оставайся таким же заипатым чуваком ;)\n",
      "\n",
      "Истина 0 предсказание 0\n",
      "@hazza_banana69 какие проблемы ? Что случилось ?!! :(\n",
      "\n",
      "Истина 0 предсказание 0\n",
      "@followmeuou Я неттт( честно(((((( сама хотела. т.т\n",
      "\n",
      "Истина 0 предсказание 0\n",
      "И как я встану сегодня утром на Тренеровку:(\n",
      "\n",
      "Истина 1 предсказание 1\n",
      "Офигенный день!\n",
      "день позитива)\n",
      "бегал как идиот целый день!\n",
      "танцы офигенны, хоть я и ракал но мне очень понравилось!\n",
      "\n",
      "Истина 0 предсказание 0\n",
      "@Dantelian концовка слита( а так вообще клас\n",
      "\n",
      "Истина 0 предсказание 1\n",
      "@like_a_koluchka У них какие то лица страшные(\n",
      "\n",
      "Истина 0 предсказание 0\n",
      "RT @Podslyshano: Сплю на трёх подушках и укрываюсь двумя одеялами. А всё потому, что кровать огромная, а спать на ней не с кем :((.\n",
      "\n",
      "Истина 1 предсказание 1\n",
      "эта зараза — мой ДВД как знает, что я диск вставил! только вставляю, сразу лоток закрывает %)\n",
      "\n",
      "Истина 0 предсказание 0\n",
      "Я только что проебала мой 2600ый твитт ;(\n",
      "\n",
      "Истина 1 предсказание 1\n",
      "@nikki7_lova7 конечно надо)) знаешь сколько у меня уже аксессуаров есть с монстрами? Куча целая!! А еще косметичка и много чего другого)))\n",
      "\n",
      "Истина 1 предсказание 1\n",
      "Субботнее утро очень порадовало. Всех выгнали из школы :D Отдыхаем,ребяяяяяят!!!!\n",
      "\n",
      "Истина 1 предсказание 1\n",
      "Идем в универ. Мороз -10.\n",
      "-\"У меня челюсть трясется.\"\n",
      "-\"А у меня сиськи. Завидуй. :D\"\n",
      "\n",
      "СУКАБЛЯТЬНАДАВИЛАНАБОЛЬНОЕ. &gt;_&lt;\n",
      "\n",
      "Истина 0 предсказание 0\n",
      "Не знал... не знал, что Джигурда в Dream Theater поет... o_O http://t.co/OsZK0Gdl8l\n",
      "\n",
      "Истина 0 предсказание 1\n",
      "У Лёши вообще текст про войну в Ираке, жесть :|\n",
      "\n",
      "Истина 1 предсказание 1\n",
      "#ХочуПровестиНовогоднююНочьВместеС @pitnistya_Zebr а с тобой лубофф мая,спиздили бы у Санты оленей и угнали в Швейцарию или Бразилию:D &lt;33\n",
      "\n",
      "Истина 1 предсказание 0\n",
      "В PHP я, конечно, нуб, но, благодаря модулю Content Templates и здравой эрудиции у меня неплохо получается :)\n",
      "\n",
      "Истина 0 предсказание 0\n",
      "@ungenfukt черт, не получилось Вангу включить :(\n",
      "\n",
      "Истина 1 предсказание 1\n",
      "Разговаривать с Антоном о 50 оттенках прекрааасно*_* после переходить на наши вкусы и предпочтения:DD\n",
      "\n",
      "Истина 1 предсказание 0\n",
      "@kai_malfoy @fudoko_senaemi а что забавного? Что не рейтуки или аоиха?) А что вообще происходит тут?\n",
      "\n",
      "Истина 1 предсказание 0\n",
      "@lenok_n такая херня? походу правильно, что не стал смотреть)\n",
      "\n",
      "Истина 1 предсказание 0\n",
      "RT @jogabavibuvo: окончательно оживил   :) теперь банановый.\n",
      "\n",
      "Истина 0 предсказание 0\n",
      "@VikkyRabbits у меня ещё по химии наверное 3((((\n",
      "\n",
      "Истина 1 предсказание 1\n",
      "@Larry_in_Holly спасииибо:*\n",
      "#ХочуПровестиНовогоднююНочьВместеС @Larry_in_Holly \n",
      "Ты тоже классная:*\n",
      "\n",
      "Истина 0 предсказание 0\n",
      "@1Veronaa чёрт( ещё же сочинение писать. если бы не увидела у тебя , то вообще забыла бы\n",
      "\n",
      "Истина 1 предсказание 1\n",
      "Хочется как в детстве натянуть на себя чехол от пылесоса и сидеть, затихнув, как в крепости, где безопасно и ты в недосягаемости. МММ)\n",
      "\n",
      "Истина 1 предсказание 1\n",
      "Взяли в агентство стрельца!!!))))) http://t.co/wlY9UhVwUk\n",
      "\n",
      "Истина 1 предсказание 0\n",
      "@Katy_mrrr тебе сфоткать как он трахает мишку или одеяло?)))))\n",
      "\n",
      "Истина 1 предсказание 1\n",
      "@Marishka556 @mkaraseva в моем сне дело происходило летом :) уж очень мне нравится этот факт, хи\n",
      "\n",
      "Истина 0 предсказание 0\n",
      "@arz_sb так в пятницу мы учимся так и так надо идти.\n",
      ":(\n",
      "\n",
      "Истина 0 предсказание 0\n",
      "@valeriyakatsuk @Vaflya_Katty я тоже, но к сожалению(\n",
      "\n",
      "Истина 0 предсказание 0\n",
      "@amina_emily нет...честно,я очень боюсь и не хочу. У меня уже было много дерьма которое я еле пережила(((\n",
      "\n",
      "Истина 0 предсказание 0\n",
      "@Utau71 я тоже был СЕГОДНЯ в джемм молле О_о в этом магазине продают чехол с канадским флагом для блядоайфона(((\n",
      "\n",
      "Истина 1 предсказание 1\n",
      "RT @lidicibazyk: Да прибудет с вами сила, друзья! :)\n",
      "\n",
      "Истина 0 предсказание 1\n",
      "RT @i_m_bale: @__nervoznaya__ помнишь, как мы с тобой раньше кино смотрели, а сюда писали? Еще раз хочу(((\n",
      "\n",
      "Истина 0 предсказание 0\n",
      "твитор какого-то хера начал добавлять в читаемые левую хуйню. второй раз уже замечаю(\n",
      "\n",
      "Истина 0 предсказание 0\n",
      "RT @ryduxidan: Чудо прошло, и на 210м ip перестало отвечать на 443ем порту. Шоцэбуло?! O_O\n",
      "\n",
      "Истина 1 предсказание 0\n",
      "Первое впечатление обманчивое! Я далеко не такая) Со своими друзьями я эмоциональный и позитивный человек! Я не боюсь по\n",
      "\n",
      "Истина 1 предсказание 1\n",
      "@igrok_igorek Доброе утро, Игорь! Будем отдыхать!!!)))\n",
      "\n",
      "Истина 1 предсказание 1\n",
      "пейнтбол или картинг? Хотя. Что значит \"или\"? Пейнтбол и картинг!! :)\n",
      "\n",
      "Истина 1 предсказание 0\n",
      "Вернулась домой и переоделась: брюки и шуба до пят)))\n",
      "\n",
      "Истина 0 предсказание 0\n",
      "@NastyaMakarova_ а я по ночам пишу,у меня глаза красные(\n",
      "\n",
      "Истина 0 предсказание 0\n",
      "Неееет, на счету - 6 рублей:(, в интернет не заходит(\n",
      "\n",
      "Истина 1 предсказание 0\n",
      "еду с Ашана в маршрутке и думаю..  как я сейчас с пятака донесу этот огромный пакет?! что-то многовато я купила))\n",
      "\n",
      "Истина 1 предсказание 1\n",
      "@Foxomars Смотри моего котэюшку) http://t.co/KQCtxTcguj\n",
      "\n",
      "Истина 0 предсказание 0\n",
      "Вдохновение не продать и не пропить.\n",
      "Его можно только проебать, поленившись встать и записать((\n",
      "\n",
      "Истина 1 предсказание 1\n",
      "@arbyziik ну так я тоже всегда в линзах хожу) поэтому ищу что-то поестественнее) а в красных было бы круто пофоткаться **\n",
      "\n",
      "Истина 0 предсказание 0\n",
      "Из-за этой фигни мне хочется плакать, вот только разревется в шк мне не хватало(((\n",
      "\n",
      "Истина 1 предсказание 1\n",
      "и опять на работу...) по утрам смотрю 4 сезон Декстера и вдохновляюсь)\n",
      "\n",
      "Истина 0 предсказание 0\n",
      "Фааак, не хочу чтобы наступало утро, ведь придется идти в уни(((\n",
      "\n",
      "Истина 0 предсказание 0\n",
      "@oalberthastl Во рту вкус роллов чувствуется, откуда взялось? Теперь роллы хочу ;(\n",
      "\n",
      "Истина 1 предсказание 1\n",
      "@maripakhomenko сделали химиотерапию,через 1,5 месяца опять пойдем проверяться,появилась ли опухоль опять или нет.пока все хорошо:)\n",
      "\n",
      "Истина 0 предсказание 0\n",
      "Да блин, в наушниках которые я буду себе брать для телефона отчетливо слышны артефакты сжатия в 256 кб/с.:(\n",
      "\n",
      "Истина 0 предсказание 1\n",
      "А Маша 14го уже в Лондон ( Только летом приедет ( Что ж такое то ((\n",
      "\n",
      "Истина 1 предсказание 1\n",
      "@Alexandr_Nevsky Саша,ты же хороший:) зачем мстить кому то?)\n",
      "\n",
      "Истина 1 предсказание 1\n",
      "@ALexDeDicATed а вот тебе ссылка на этого типа http://t.co/oRd24DKozL смотри, сколько он всего написал интересного! я когда-нибудь почитаю))\n",
      "\n",
      "Истина 0 предсказание 0\n",
      "Не ну у нас точно конец света:( Как же мы без ВКонтакте!?!?!?\n",
      "\n",
      "Истина 0 предсказание 0\n",
      "RT @kuhatahirel: БомбусМод вовремя не освободил память и упал. :-(\n",
      "\n",
      "Истина 1 предсказание 1\n",
      "осень..так хочется любви,теплоты,нежности...я рада что у меня есть любимый человечек,который сможет мне это дать...)Люблю его:*\n",
      "\n",
      "Истина 1 предсказание 1\n",
      "@Avangardnaia @nastjaaas Время покажет) хоть и прошло 4 месяца, но еще не понял)\n",
      "\n",
      "Истина 1 предсказание 0\n",
      "@just_freem1 @lis_kot меня так там во 2 день забанили :D\n",
      "\n",
      "Истина 0 предсказание 0\n",
      "180° малость недобрал по краям. жаль, нихрена не передаёт реальные цвета :(\n",
      "\n",
      "Истина 0 предсказание 0\n",
      "хочу этого оленя( где купить? http://t.co/ZB5x0H2obo\n",
      "\n",
      "Истина 0 предсказание 0\n",
      "Пиздец... Настроения нихуя, работать ни хочу... Нихуя не слышно... Пиздец в общем:(\n",
      "\n",
      "Истина 1 предсказание 1\n",
      "— интересно, сколько тебе успеют вломить, прежде, чем ты его вытащишь? Зато можно ошарашить противника :)\n",
      "\n",
      "Истина 0 предсказание 0\n",
      "Денис Ритчи скончался 9 октября, а я узнал только сейчас. Черт. Великого человека потеряли. (\n",
      "\n",
      "Истина 0 предсказание 0\n",
      "В коем веке понадобился клей-карандаш, достаю его, а он засох :( Наверное не так уж он и нужен был.\n",
      "\n",
      "Истина 0 предсказание 0\n",
      "RT @luggaddam: #орлец опять столица пробок? Вторая за день и опять бешеная :( ррр... Куда все едут?\n",
      "\n",
      "Истина 0 предсказание 1\n",
      "Кто-то в Рим - а кто-то назад на Рим зарабатывать :( http://t.co/1LixI4FvGw\n",
      "\n",
      "Истина 1 предсказание 1\n",
      "А вообще да, а вообще это норма для нашего общения:D http://t.co/5paZy2TGhB\n",
      "\n",
      "Истина 1 предсказание 1\n",
      "RT @Queen_Ricci: Хорошо, что все изменилось к лучшему)\n",
      "\n",
      "Истина 1 предсказание 1\n",
      "@roheline_kass вот именно) с другой стороны я сам заработал! но так хочется в такие моменты, чтобы кто-то подарил)\n",
      "\n",
      "Истина 1 предсказание 1\n",
      "RT @Red_Suspenders: И тут каждый узнал себя :DDD http://t.co/K00fJZdU4B\n",
      "\n",
      "Истина 1 предсказание 0\n",
      "\"В.ПУТИН: \"Что касается «Черного квадрата», то он был, как известно, посвящен Малевичем Ленину Владимиру Ильичу.\" иксперт на проводе :)\n",
      "\n",
      "Истина 0 предсказание 1\n",
      "Наконец-то нам рассказали немного об истории загадочного соседа Сэма - Зика. *Он все равно для меня будет Зиком( *\n",
      "\n",
      "Истина 1 предсказание 1\n",
      "RT @andreevslava: Сегодня делегация #волонтермиигаик сегодня на III Съезде волонтеров:) #miigaik #mgugik @ Третий съезд… http://t.co/HqV65t…\n",
      "\n",
      "Истина 1 предсказание 1\n",
      "RT @IzmaylovaMail: @_6412193615461 Ух ты!Какая красавица))Тебя здесь не узнать))Настоящая модель))Шикарное фото))\n",
      "\n",
      "Истина 1 предсказание 1\n",
      "RT @sagywuruhaf: Спросил на форуме про обратную зону. Суппорт сказал, что выяснят у начальства :)\n",
      "\n",
      "Истина 1 предсказание 0\n",
      "@vikapomatilova пахахаха,он техникум строительный закончил!;)))\n",
      "\n",
      "Истина 0 предсказание 1\n",
      "RT @ufukoxaj: ну вот откуда они такое выдумывают :(\n",
      "\n",
      "Истина 1 предсказание 1\n",
      "@_Mars_Echelon ну ты даешь...нужно учиться и все будет супер)\n",
      "\n",
      "Истина 1 предсказание 1\n",
      "Сидим с заей около бассейна пьем пивасик местный;) жара жесткая;)  #hotel #night #phuket #thailand @… http://t.co/2jzSpIT5wO\n",
      "\n",
      "Истина 0 предсказание 0\n",
      "Осталось только выучить лексику,пересказ и историю!:(:\n",
      "\n",
      "Истина 1 предсказание 1\n",
      "@Taata_koomarova @Ksenon_73 я так то писать начила)\n",
      "можешь мне их файлом скинуть я посмотрю?:)\n",
      "\n",
      "Истина 1 предсказание 1\n",
      "RT @HKBD1937: Немецкие журналисты засняли, как Кличко и Палатный просят \"Беркут\" разыграть столкновение :)) http://t.co/foYFmp0gwU\n",
      "\n",
      "Истина 0 предсказание 0\n",
      "@aladeya19 Мг,я тоже с кем бы не знакомилась,все с рашки(\n",
      "\n",
      "Истина 0 предсказание 1\n",
      "@Karisha2209 оо далеко, на самом дне( в Ставропольском крае, а ты?\n",
      "\n",
      "Истина 0 предсказание 0\n",
      "Почему ты меня избегаешь ?(\n",
      "Не видела его один день , у меня в душе МЕСЯЦ прошёл\n",
      "\n",
      "Истина 1 предсказание 1\n",
      "@Niallersha_  ахаххаха ну вот такая логика у людей что поделаеш)))\n",
      "\n",
      "Истина 0 предсказание 0\n",
      "@An_Safronovaa а чё ты нас не поснимала?((\n",
      "\n",
      "Истина 1 предсказание 0\n",
      "Сегодня у Гузеевой было зачетное украшение) #первыйканал\n",
      "\n",
      "Истина 1 предсказание 1\n",
      "Мой новый обещанный фон для твиттера :) Помните что свои фоны я делаю один :) http://t.co/FcvmBa2XEf\n",
      "\n",
      "Истина 0 предсказание 0\n",
      "Не зря бэкапил. карма :( Через ГПРС вааааще не работает, через вафлю — зацепился и благополучно дропнул все контакты.\n",
      "\n",
      "Истина 1 предсказание 1\n",
      "По телевизору поют романс,который вчера пели бабушки:DD\n",
      "\n",
      "Истина 0 предсказание 0\n",
      "Хорошо, что не осталась на фест. Вот смотрю видео, и понимаю... что-то не то. не \"ёкает\":(\n",
      "\n",
      "Истина 0 предсказание 0\n",
      "Вот встречаешь нормального парня, а он гей о_О -_-\n",
      "\n"
     ]
    }
   ],
   "source": [
    "for i in range(100):\n",
    "    \n",
    "    text = test.iloc[i, 0]\n",
    "    tp = test.iloc[i, 1]\n",
    "\n",
    "    X_t = vect.transform([text])\n",
    "    pred = model.predict(X_t)\n",
    "\n",
    "    \n",
    "    print('Истина', tp, 'предсказание', pred[0])\n",
    "    print(text)\n",
    "    print()"
   ]
  },
  {
   "cell_type": "code",
   "execution_count": 105,
   "metadata": {},
   "outputs": [
    {
     "data": {
      "text/plain": [
       "array([1])"
      ]
     },
     "execution_count": 105,
     "metadata": {},
     "output_type": "execute_result"
    }
   ],
   "source": [
    "text = 'ох как же интересно познавать!'\n",
    "X_t = vect.transform([text])\n",
    "pred = model.predict(X_t)\n",
    "pred"
   ]
  }
 ],
 "metadata": {
  "kernelspec": {
   "display_name": "Python 3",
   "language": "python",
   "name": "python3"
  },
  "language_info": {
   "codemirror_mode": {
    "name": "ipython",
    "version": 3
   },
   "file_extension": ".py",
   "mimetype": "text/x-python",
   "name": "python",
   "nbconvert_exporter": "python",
   "pygments_lexer": "ipython3",
   "version": "3.7.0"
  }
 },
 "nbformat": 4,
 "nbformat_minor": 2
}
