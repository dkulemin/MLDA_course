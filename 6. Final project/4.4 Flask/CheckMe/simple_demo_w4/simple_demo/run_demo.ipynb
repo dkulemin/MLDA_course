{
 "cells": [
  {
   "cell_type": "markdown",
   "metadata": {},
   "source": [
    "### Демонстрация работы алгоритма"
   ]
  },
  {
   "cell_type": "markdown",
   "metadata": {},
   "source": [
    "Проект с демонстрацией работы алгоритма состоит из следующих элементов:  \n",
    "1. Папка с предобученной моделью **'/model'** (с 2-мя файлами clf.pkl и vect.pkl)\n",
    "2. Папка c шаблоном страницы hello.html **'/templates'**\n",
    "3. Папка со скриншотами работы **'/screenshots'**\n",
    "3. Файл **demo.py** отвечает за основную механику скрипта (работу Flask и др.) \n",
    "4. Файл **sentiment_classifier.py** в данном файле реализован класс работающий с предобученной моделью\n",
    "5. Файл **run_demo.ipynb** (текущий jupyter блокнот)\n",
    "6. Файл **demo_logs.txt** -> появляется после начала работы скрипта, содержит логи работы скрипта\n",
    "\n",
    "Скрипт написан на **Python 3**.  \n",
    "Для корректной работы скрипта у вас должны быть реализованы установлены библиотеки **re, os, sklearn, codecs, time, flask, nltk.stem.porter**.\n",
    "**ВАЖНО**: возможно вы сталкнетесь с ошибкой _UnsupportedOperation: not writable_ в этом случае вы можете воспользоваться советом из данного комментария: https://github.com/plotly/dash/issues/257#issuecomment-391185831   \n",
    "А именно заменить в функции echo ../site-packages/click/utils.py (папка где лежит ваш питон) значение по-умолчанию file с None на sys.stdout. Тоже самое сделать с функцией secho из файла ../site-packages/click/termui.py. Мне данный совет помог.   \n"
   ]
  },
  {
   "cell_type": "markdown",
   "metadata": {},
   "source": [
    "Алгоритм работы скрипта:\n",
    "1. Запускаем работу, запустив ячейку с командой \"%run demo.py\"\n",
    "2. В появившемся диалоге нажать на ссылку \"http://localhost:5000/\"\n",
    "3. В открывшемуся окне (вкладка Sentiment Demo) ввести фразу с отзывом или рецензией на АНГЛИЙСКОМ языке (т.к. я использовал ту же модель, что и в задании 3-й недели с Kaggle.com).  \n",
    "Для теста можете взять, например, рецензию с сайта киноотзывов https://www.rottentomatoes.com/  \n",
    "4. Нажать на кнопку \"Оценить\". В поле \"Sentiment prediction\" появится один из 3-х возможных вариантов классификации:  \n",
    "    - **positive** (позитивный)\n",
    "    - **negative** (негативный)\n",
    "    - **not defined** (неопределенный - в случае использования редких и неизвестных модели слов)\n",
    "5. Для окончания работы скрипта, остановите работу ячейки.  \n",
    "В процессе работы скрипта все запросы и предсказанные классы записываются в режиме досзаписи в файл demo_logs.txt (появляется после первой работы скрипта)."
   ]
  },
  {
   "cell_type": "code",
   "execution_count": null,
   "metadata": {},
   "outputs": [],
   "source": [
    "# запуск основного скрипта\n",
    "%run demo.py"
   ]
  },
  {
   "cell_type": "code",
   "execution_count": null,
   "metadata": {},
   "outputs": [],
   "source": []
  },
  {
   "cell_type": "code",
   "execution_count": null,
   "metadata": {},
   "outputs": [],
   "source": []
  },
  {
   "cell_type": "code",
   "execution_count": null,
   "metadata": {},
   "outputs": [],
   "source": []
  }
 ],
 "metadata": {
  "kernelspec": {
   "display_name": "Python 3",
   "language": "python",
   "name": "python3"
  },
  "language_info": {
   "codemirror_mode": {
    "name": "ipython",
    "version": 3
   },
   "file_extension": ".py",
   "mimetype": "text/x-python",
   "name": "python",
   "nbconvert_exporter": "python",
   "pygments_lexer": "ipython3",
   "version": "3.7.0"
  }
 },
 "nbformat": 4,
 "nbformat_minor": 2
}
